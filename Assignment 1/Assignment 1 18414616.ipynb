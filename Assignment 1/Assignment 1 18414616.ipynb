{
 "cells": [
  {
   "cell_type": "markdown",
   "id": "bbaad6d2",
   "metadata": {},
   "source": [
    "## Cleaning up the Data Set"
   ]
  },
  {
   "cell_type": "code",
   "execution_count": 1,
   "id": "4d7f4c73",
   "metadata": {},
   "outputs": [],
   "source": [
    "import pandas as pd\n",
    "import numpy as np\n",
    "import matplotlib\n",
    "import datetime\n",
    "import pandas as pd\n",
    "import matplotlib.pyplot as plot\n",
    "from sklearn import datasets\n",
    "from sklearn import model_selection\n",
    "from sklearn.model_selection import train_test_split\n",
    "from sklearn.metrics import accuracy_score\n",
    "from sklearn.preprocessing import LabelEncoder\n",
    "from sklearn.dummy import DummyClassifier\n",
    "from sklearn.metrics import balanced_accuracy_score\n",
    "from sklearn.model_selection import cross_validate\n",
    "from sklearn.model_selection import KFold\n",
    "from sklearn.neighbors import KNeighborsClassifier\n",
    "from sklearn.tree import DecisionTreeClassifier\n",
    "from sklearn.naive_bayes import *\n",
    "from sklearn.svm import SVC\n",
    "\n",
    "#Reading in dataframe from csv\n",
    "df = pd.read_csv(\"animal_shelter_18414616.csv\")"
   ]
  },
  {
   "cell_type": "code",
   "execution_count": 2,
   "id": "4c928de1",
   "metadata": {},
   "outputs": [
    {
     "data": {
      "text/html": [
       "<div>\n",
       "<style scoped>\n",
       "    .dataframe tbody tr th:only-of-type {\n",
       "        vertical-align: middle;\n",
       "    }\n",
       "\n",
       "    .dataframe tbody tr th {\n",
       "        vertical-align: top;\n",
       "    }\n",
       "\n",
       "    .dataframe thead th {\n",
       "        text-align: right;\n",
       "    }\n",
       "</style>\n",
       "<table border=\"1\" class=\"dataframe\">\n",
       "  <thead>\n",
       "    <tr style=\"text-align: right;\">\n",
       "      <th></th>\n",
       "      <th>Animal ID</th>\n",
       "      <th>Name</th>\n",
       "      <th>DateTime</th>\n",
       "      <th>MonthYear</th>\n",
       "      <th>Date of Birth</th>\n",
       "      <th>Animal Type</th>\n",
       "      <th>Sex upon Outcome</th>\n",
       "      <th>Age upon Outcome</th>\n",
       "      <th>Breed</th>\n",
       "      <th>Color</th>\n",
       "      <th>Outcome</th>\n",
       "    </tr>\n",
       "  </thead>\n",
       "  <tbody>\n",
       "    <tr>\n",
       "      <th>0</th>\n",
       "      <td>A751682</td>\n",
       "      <td>Laia</td>\n",
       "      <td>06/26/2017 06:11:00 PM</td>\n",
       "      <td>06/26/2017 06:11:00 PM</td>\n",
       "      <td>10/11/2014</td>\n",
       "      <td>Dog</td>\n",
       "      <td>Spayed Female</td>\n",
       "      <td>2 years</td>\n",
       "      <td>Plott Hound/Dachshund</td>\n",
       "      <td>Brown</td>\n",
       "      <td>0</td>\n",
       "    </tr>\n",
       "    <tr>\n",
       "      <th>1</th>\n",
       "      <td>A709694</td>\n",
       "      <td>NaN</td>\n",
       "      <td>08/12/2015 01:19:00 PM</td>\n",
       "      <td>08/12/2015 01:19:00 PM</td>\n",
       "      <td>08/12/2014</td>\n",
       "      <td>Cat</td>\n",
       "      <td>Intact Female</td>\n",
       "      <td>1 year</td>\n",
       "      <td>Domestic Shorthair Mix</td>\n",
       "      <td>Brown Tabby</td>\n",
       "      <td>1</td>\n",
       "    </tr>\n",
       "    <tr>\n",
       "      <th>2</th>\n",
       "      <td>A681401</td>\n",
       "      <td>NaN</td>\n",
       "      <td>06/18/2014 02:09:00 PM</td>\n",
       "      <td>06/18/2014 02:09:00 PM</td>\n",
       "      <td>05/01/2014</td>\n",
       "      <td>Cat</td>\n",
       "      <td>Intact Male</td>\n",
       "      <td>1 month</td>\n",
       "      <td>Domestic Shorthair Mix</td>\n",
       "      <td>Black/White</td>\n",
       "      <td>0</td>\n",
       "    </tr>\n",
       "    <tr>\n",
       "      <th>3</th>\n",
       "      <td>A767432</td>\n",
       "      <td>Chica</td>\n",
       "      <td>05/21/2019 01:11:00 PM</td>\n",
       "      <td>05/21/2019 01:11:00 PM</td>\n",
       "      <td>02/28/2016</td>\n",
       "      <td>Dog</td>\n",
       "      <td>Spayed Female</td>\n",
       "      <td>3 years</td>\n",
       "      <td>Chihuahua Shorthair Mix</td>\n",
       "      <td>Black/Brown</td>\n",
       "      <td>0</td>\n",
       "    </tr>\n",
       "    <tr>\n",
       "      <th>4</th>\n",
       "      <td>A548156</td>\n",
       "      <td>Tank</td>\n",
       "      <td>02/25/2014 01:48:00 PM</td>\n",
       "      <td>02/25/2014 01:48:00 PM</td>\n",
       "      <td>07/29/2008</td>\n",
       "      <td>Dog</td>\n",
       "      <td>Neutered Male</td>\n",
       "      <td>5 years</td>\n",
       "      <td>Pit Bull Mix</td>\n",
       "      <td>Blue/White</td>\n",
       "      <td>0</td>\n",
       "    </tr>\n",
       "  </tbody>\n",
       "</table>\n",
       "</div>"
      ],
      "text/plain": [
       "  Animal ID   Name                DateTime               MonthYear  \\\n",
       "0   A751682   Laia  06/26/2017 06:11:00 PM  06/26/2017 06:11:00 PM   \n",
       "1   A709694    NaN  08/12/2015 01:19:00 PM  08/12/2015 01:19:00 PM   \n",
       "2   A681401    NaN  06/18/2014 02:09:00 PM  06/18/2014 02:09:00 PM   \n",
       "3   A767432  Chica  05/21/2019 01:11:00 PM  05/21/2019 01:11:00 PM   \n",
       "4   A548156   Tank  02/25/2014 01:48:00 PM  02/25/2014 01:48:00 PM   \n",
       "\n",
       "  Date of Birth Animal Type Sex upon Outcome Age upon Outcome  \\\n",
       "0    10/11/2014         Dog    Spayed Female          2 years   \n",
       "1    08/12/2014         Cat    Intact Female           1 year   \n",
       "2    05/01/2014         Cat      Intact Male          1 month   \n",
       "3    02/28/2016         Dog    Spayed Female          3 years   \n",
       "4    07/29/2008         Dog    Neutered Male          5 years   \n",
       "\n",
       "                     Breed        Color  Outcome  \n",
       "0    Plott Hound/Dachshund        Brown        0  \n",
       "1   Domestic Shorthair Mix  Brown Tabby        1  \n",
       "2   Domestic Shorthair Mix  Black/White        0  \n",
       "3  Chihuahua Shorthair Mix  Black/Brown        0  \n",
       "4             Pit Bull Mix   Blue/White        0  "
      ]
     },
     "execution_count": 2,
     "metadata": {},
     "output_type": "execute_result"
    }
   ],
   "source": [
    "df.head()"
   ]
  },
  {
   "cell_type": "code",
   "execution_count": 3,
   "id": "fc706708",
   "metadata": {},
   "outputs": [
    {
     "data": {
      "text/plain": [
       "Animal ID           object\n",
       "Name                object\n",
       "DateTime            object\n",
       "MonthYear           object\n",
       "Date of Birth       object\n",
       "Animal Type         object\n",
       "Sex upon Outcome    object\n",
       "Age upon Outcome    object\n",
       "Breed               object\n",
       "Color               object\n",
       "Outcome              int64\n",
       "dtype: object"
      ]
     },
     "execution_count": 3,
     "metadata": {},
     "output_type": "execute_result"
    }
   ],
   "source": [
    "#Checking data types of each column\n",
    "df.dtypes"
   ]
  },
  {
   "cell_type": "code",
   "execution_count": 4,
   "id": "d210157a",
   "metadata": {},
   "outputs": [
    {
     "data": {
      "text/plain": [
       "Animal ID           category\n",
       "Name                category\n",
       "DateTime            category\n",
       "MonthYear           category\n",
       "Date of Birth       category\n",
       "Animal Type         category\n",
       "Sex upon Outcome    category\n",
       "Age upon Outcome    category\n",
       "Breed               category\n",
       "Color               category\n",
       "Outcome                int64\n",
       "dtype: object"
      ]
     },
     "execution_count": 4,
     "metadata": {},
     "output_type": "execute_result"
    }
   ],
   "source": [
    "#Convert object columns to category\n",
    "for column in df.select_dtypes(['object']).columns:\n",
    "    df[column] = df[column].astype('category')\n",
    "df.dtypes"
   ]
  },
  {
   "cell_type": "code",
   "execution_count": 5,
   "id": "fd45c01e",
   "metadata": {},
   "outputs": [],
   "source": [
    "# Clean the column names to remove white space after or in the name\n",
    "df.columns = df.columns.str.replace(' ', '')"
   ]
  },
  {
   "cell_type": "code",
   "execution_count": 6,
   "id": "ee53bb11",
   "metadata": {},
   "outputs": [
    {
     "name": "stdout",
     "output_type": "stream",
     "text": [
      "AnimalID 0\n",
      "Name 1546\n",
      "DateTime 0\n",
      "MonthYear 0\n",
      "DateofBirth 0\n",
      "AnimalType 0\n",
      "SexuponOutcome 0\n",
      "AgeuponOutcome 2\n",
      "Breed 0\n",
      "Color 0\n",
      "Outcome 0\n"
     ]
    }
   ],
   "source": [
    "#Checking how many entries per column are empty or not defined\n",
    "for column in df.columns:\n",
    "    print(column, df[column].isnull().sum())"
   ]
  },
  {
   "cell_type": "code",
   "execution_count": 7,
   "id": "492a9536",
   "metadata": {},
   "outputs": [
    {
     "data": {
      "text/html": [
       "<div>\n",
       "<style scoped>\n",
       "    .dataframe tbody tr th:only-of-type {\n",
       "        vertical-align: middle;\n",
       "    }\n",
       "\n",
       "    .dataframe tbody tr th {\n",
       "        vertical-align: top;\n",
       "    }\n",
       "\n",
       "    .dataframe thead th {\n",
       "        text-align: right;\n",
       "    }\n",
       "</style>\n",
       "<table border=\"1\" class=\"dataframe\">\n",
       "  <thead>\n",
       "    <tr style=\"text-align: right;\">\n",
       "      <th></th>\n",
       "      <th>AnimalID</th>\n",
       "      <th>DateTime</th>\n",
       "      <th>MonthYear</th>\n",
       "      <th>DateofBirth</th>\n",
       "      <th>AnimalType</th>\n",
       "      <th>SexuponOutcome</th>\n",
       "      <th>AgeuponOutcome</th>\n",
       "      <th>Breed</th>\n",
       "      <th>Color</th>\n",
       "      <th>Outcome</th>\n",
       "    </tr>\n",
       "  </thead>\n",
       "  <tbody>\n",
       "    <tr>\n",
       "      <th>0</th>\n",
       "      <td>A751682</td>\n",
       "      <td>06/26/2017 06:11:00 PM</td>\n",
       "      <td>06/26/2017 06:11:00 PM</td>\n",
       "      <td>10/11/2014</td>\n",
       "      <td>Dog</td>\n",
       "      <td>Spayed Female</td>\n",
       "      <td>2 years</td>\n",
       "      <td>Plott Hound/Dachshund</td>\n",
       "      <td>Brown</td>\n",
       "      <td>0</td>\n",
       "    </tr>\n",
       "    <tr>\n",
       "      <th>1</th>\n",
       "      <td>A709694</td>\n",
       "      <td>08/12/2015 01:19:00 PM</td>\n",
       "      <td>08/12/2015 01:19:00 PM</td>\n",
       "      <td>08/12/2014</td>\n",
       "      <td>Cat</td>\n",
       "      <td>Intact Female</td>\n",
       "      <td>1 year</td>\n",
       "      <td>Domestic Shorthair Mix</td>\n",
       "      <td>Brown Tabby</td>\n",
       "      <td>1</td>\n",
       "    </tr>\n",
       "    <tr>\n",
       "      <th>2</th>\n",
       "      <td>A681401</td>\n",
       "      <td>06/18/2014 02:09:00 PM</td>\n",
       "      <td>06/18/2014 02:09:00 PM</td>\n",
       "      <td>05/01/2014</td>\n",
       "      <td>Cat</td>\n",
       "      <td>Intact Male</td>\n",
       "      <td>1 month</td>\n",
       "      <td>Domestic Shorthair Mix</td>\n",
       "      <td>Black/White</td>\n",
       "      <td>0</td>\n",
       "    </tr>\n",
       "    <tr>\n",
       "      <th>3</th>\n",
       "      <td>A767432</td>\n",
       "      <td>05/21/2019 01:11:00 PM</td>\n",
       "      <td>05/21/2019 01:11:00 PM</td>\n",
       "      <td>02/28/2016</td>\n",
       "      <td>Dog</td>\n",
       "      <td>Spayed Female</td>\n",
       "      <td>3 years</td>\n",
       "      <td>Chihuahua Shorthair Mix</td>\n",
       "      <td>Black/Brown</td>\n",
       "      <td>0</td>\n",
       "    </tr>\n",
       "    <tr>\n",
       "      <th>4</th>\n",
       "      <td>A548156</td>\n",
       "      <td>02/25/2014 01:48:00 PM</td>\n",
       "      <td>02/25/2014 01:48:00 PM</td>\n",
       "      <td>07/29/2008</td>\n",
       "      <td>Dog</td>\n",
       "      <td>Neutered Male</td>\n",
       "      <td>5 years</td>\n",
       "      <td>Pit Bull Mix</td>\n",
       "      <td>Blue/White</td>\n",
       "      <td>0</td>\n",
       "    </tr>\n",
       "  </tbody>\n",
       "</table>\n",
       "</div>"
      ],
      "text/plain": [
       "  AnimalID                DateTime               MonthYear DateofBirth  \\\n",
       "0  A751682  06/26/2017 06:11:00 PM  06/26/2017 06:11:00 PM  10/11/2014   \n",
       "1  A709694  08/12/2015 01:19:00 PM  08/12/2015 01:19:00 PM  08/12/2014   \n",
       "2  A681401  06/18/2014 02:09:00 PM  06/18/2014 02:09:00 PM  05/01/2014   \n",
       "3  A767432  05/21/2019 01:11:00 PM  05/21/2019 01:11:00 PM  02/28/2016   \n",
       "4  A548156  02/25/2014 01:48:00 PM  02/25/2014 01:48:00 PM  07/29/2008   \n",
       "\n",
       "  AnimalType SexuponOutcome AgeuponOutcome                    Breed  \\\n",
       "0        Dog  Spayed Female        2 years    Plott Hound/Dachshund   \n",
       "1        Cat  Intact Female         1 year   Domestic Shorthair Mix   \n",
       "2        Cat    Intact Male        1 month   Domestic Shorthair Mix   \n",
       "3        Dog  Spayed Female        3 years  Chihuahua Shorthair Mix   \n",
       "4        Dog  Neutered Male        5 years             Pit Bull Mix   \n",
       "\n",
       "         Color  Outcome  \n",
       "0        Brown        0  \n",
       "1  Brown Tabby        1  \n",
       "2  Black/White        0  \n",
       "3  Black/Brown        0  \n",
       "4   Blue/White        0  "
      ]
     },
     "execution_count": 7,
     "metadata": {},
     "output_type": "execute_result"
    }
   ],
   "source": [
    "#Dropping Name column since it isn't a relevant attribute to classifying whether an animal gets adopted or not \n",
    "df = df.drop(columns = [\"Name\"])\n",
    "df.head()"
   ]
  },
  {
   "cell_type": "code",
   "execution_count": 8,
   "id": "c7ccbd38",
   "metadata": {},
   "outputs": [
    {
     "data": {
      "text/plain": [
       "True"
      ]
     },
     "execution_count": 8,
     "metadata": {},
     "output_type": "execute_result"
    }
   ],
   "source": [
    "#The DateTime and MonthYear columns are identical, meaning we can drop MonthYear as it has a less descriptive name\n",
    "df[\"DateTime\"].equals(df[\"MonthYear\"])"
   ]
  },
  {
   "cell_type": "code",
   "execution_count": 9,
   "id": "7e40b9f7",
   "metadata": {},
   "outputs": [
    {
     "data": {
      "text/html": [
       "<div>\n",
       "<style scoped>\n",
       "    .dataframe tbody tr th:only-of-type {\n",
       "        vertical-align: middle;\n",
       "    }\n",
       "\n",
       "    .dataframe tbody tr th {\n",
       "        vertical-align: top;\n",
       "    }\n",
       "\n",
       "    .dataframe thead th {\n",
       "        text-align: right;\n",
       "    }\n",
       "</style>\n",
       "<table border=\"1\" class=\"dataframe\">\n",
       "  <thead>\n",
       "    <tr style=\"text-align: right;\">\n",
       "      <th></th>\n",
       "      <th>AnimalID</th>\n",
       "      <th>DateTime</th>\n",
       "      <th>DateofBirth</th>\n",
       "      <th>AnimalType</th>\n",
       "      <th>SexuponOutcome</th>\n",
       "      <th>AgeuponOutcome</th>\n",
       "      <th>Breed</th>\n",
       "      <th>Color</th>\n",
       "      <th>Outcome</th>\n",
       "    </tr>\n",
       "  </thead>\n",
       "  <tbody>\n",
       "    <tr>\n",
       "      <th>0</th>\n",
       "      <td>A751682</td>\n",
       "      <td>06/26/2017 06:11:00 PM</td>\n",
       "      <td>10/11/2014</td>\n",
       "      <td>Dog</td>\n",
       "      <td>Spayed Female</td>\n",
       "      <td>2 years</td>\n",
       "      <td>Plott Hound/Dachshund</td>\n",
       "      <td>Brown</td>\n",
       "      <td>0</td>\n",
       "    </tr>\n",
       "    <tr>\n",
       "      <th>1</th>\n",
       "      <td>A709694</td>\n",
       "      <td>08/12/2015 01:19:00 PM</td>\n",
       "      <td>08/12/2014</td>\n",
       "      <td>Cat</td>\n",
       "      <td>Intact Female</td>\n",
       "      <td>1 year</td>\n",
       "      <td>Domestic Shorthair Mix</td>\n",
       "      <td>Brown Tabby</td>\n",
       "      <td>1</td>\n",
       "    </tr>\n",
       "    <tr>\n",
       "      <th>2</th>\n",
       "      <td>A681401</td>\n",
       "      <td>06/18/2014 02:09:00 PM</td>\n",
       "      <td>05/01/2014</td>\n",
       "      <td>Cat</td>\n",
       "      <td>Intact Male</td>\n",
       "      <td>1 month</td>\n",
       "      <td>Domestic Shorthair Mix</td>\n",
       "      <td>Black/White</td>\n",
       "      <td>0</td>\n",
       "    </tr>\n",
       "    <tr>\n",
       "      <th>3</th>\n",
       "      <td>A767432</td>\n",
       "      <td>05/21/2019 01:11:00 PM</td>\n",
       "      <td>02/28/2016</td>\n",
       "      <td>Dog</td>\n",
       "      <td>Spayed Female</td>\n",
       "      <td>3 years</td>\n",
       "      <td>Chihuahua Shorthair Mix</td>\n",
       "      <td>Black/Brown</td>\n",
       "      <td>0</td>\n",
       "    </tr>\n",
       "    <tr>\n",
       "      <th>4</th>\n",
       "      <td>A548156</td>\n",
       "      <td>02/25/2014 01:48:00 PM</td>\n",
       "      <td>07/29/2008</td>\n",
       "      <td>Dog</td>\n",
       "      <td>Neutered Male</td>\n",
       "      <td>5 years</td>\n",
       "      <td>Pit Bull Mix</td>\n",
       "      <td>Blue/White</td>\n",
       "      <td>0</td>\n",
       "    </tr>\n",
       "  </tbody>\n",
       "</table>\n",
       "</div>"
      ],
      "text/plain": [
       "  AnimalID                DateTime DateofBirth AnimalType SexuponOutcome  \\\n",
       "0  A751682  06/26/2017 06:11:00 PM  10/11/2014        Dog  Spayed Female   \n",
       "1  A709694  08/12/2015 01:19:00 PM  08/12/2014        Cat  Intact Female   \n",
       "2  A681401  06/18/2014 02:09:00 PM  05/01/2014        Cat    Intact Male   \n",
       "3  A767432  05/21/2019 01:11:00 PM  02/28/2016        Dog  Spayed Female   \n",
       "4  A548156  02/25/2014 01:48:00 PM  07/29/2008        Dog  Neutered Male   \n",
       "\n",
       "  AgeuponOutcome                    Breed        Color  Outcome  \n",
       "0        2 years    Plott Hound/Dachshund        Brown        0  \n",
       "1         1 year   Domestic Shorthair Mix  Brown Tabby        1  \n",
       "2        1 month   Domestic Shorthair Mix  Black/White        0  \n",
       "3        3 years  Chihuahua Shorthair Mix  Black/Brown        0  \n",
       "4        5 years             Pit Bull Mix   Blue/White        0  "
      ]
     },
     "execution_count": 9,
     "metadata": {},
     "output_type": "execute_result"
    }
   ],
   "source": [
    "#Dropping MonthYear column\n",
    "df = df.drop(columns = [\"MonthYear\"])\n",
    "df.head()"
   ]
  },
  {
   "cell_type": "code",
   "execution_count": 10,
   "id": "625cde18",
   "metadata": {},
   "outputs": [
    {
     "name": "stdout",
     "output_type": "stream",
     "text": [
      "     AnimalID                DateTime DateofBirth AnimalType SexuponOutcome  \\\n",
      "1923  A842320  09/14/2021 02:45:00 PM  09/14/2017        Cat  Intact Female   \n",
      "2648  A839233  07/19/2021 08:59:00 AM  07/19/2020        Dog  Intact Female   \n",
      "\n",
      "     AgeuponOutcome               Breed         Color  Outcome  \n",
      "1923            NaN  Domestic Shorthair  Torbie/White        1  \n",
      "2648            NaN            Pit Bull   Black/White        1  \n"
     ]
    }
   ],
   "source": [
    "#Printing rows that have null values present\n",
    "print(df[df.isnull().any(axis=1)])"
   ]
  },
  {
   "cell_type": "code",
   "execution_count": 11,
   "id": "cbaf8b34",
   "metadata": {},
   "outputs": [
    {
     "name": "stdout",
     "output_type": "stream",
     "text": [
      "     AnimalID                DateTime DateofBirth AnimalType SexuponOutcome  \\\n",
      "1923  A842320  09/14/2021 02:45:00 PM  09/14/2017        Cat  Intact Female   \n",
      "\n",
      "     AgeuponOutcome               Breed         Color  Outcome  \n",
      "1923        4 years  Domestic Shorthair  Torbie/White        1  \n",
      "     AnimalID                DateTime DateofBirth AnimalType SexuponOutcome  \\\n",
      "2648  A839233  07/19/2021 08:59:00 AM  07/19/2020        Dog  Intact Female   \n",
      "\n",
      "     AgeuponOutcome     Breed        Color  Outcome  \n",
      "2648         1 year  Pit Bull  Black/White        1  \n"
     ]
    }
   ],
   "source": [
    "# Since there is only 2 missing AgeuponOutcome values, we can fill them in manually using the difference between DateTime\n",
    "# and DateofBirth. \n",
    "\n",
    "#The difference for A842320 is 4 years and the difference for A839233 is 1 year. Hence we can change the cell manually knowing\n",
    "#the row and column indexes\n",
    "df.iat[1923, 5] = \"4 years\"\n",
    "df.iat[2648, 5] = \"1 year\"\n",
    "\n",
    "#Displaying the changes in the rows \n",
    "print(df[df['AnimalID'] == \"A842320\"])\n",
    "print(df[df['AnimalID'] == \"A839233\"])"
   ]
  },
  {
   "cell_type": "code",
   "execution_count": 12,
   "id": "29815811",
   "metadata": {},
   "outputs": [
    {
     "name": "stdout",
     "output_type": "stream",
     "text": [
      "Empty DataFrame\n",
      "Columns: [AnimalID, DateTime, DateofBirth, AnimalType, SexuponOutcome, AgeuponOutcome, Breed, Color, Outcome]\n",
      "Index: []\n"
     ]
    }
   ],
   "source": [
    "#When we try to print the rows with null values we get an empty frame, meaning that no null values are present in out dataset.\n",
    "print(df[df.isnull().any(axis=1)])"
   ]
  },
  {
   "cell_type": "code",
   "execution_count": 13,
   "id": "b862111d",
   "metadata": {},
   "outputs": [
    {
     "data": {
      "text/html": [
       "<div>\n",
       "<style scoped>\n",
       "    .dataframe tbody tr th:only-of-type {\n",
       "        vertical-align: middle;\n",
       "    }\n",
       "\n",
       "    .dataframe tbody tr th {\n",
       "        vertical-align: top;\n",
       "    }\n",
       "\n",
       "    .dataframe thead th {\n",
       "        text-align: right;\n",
       "    }\n",
       "</style>\n",
       "<table border=\"1\" class=\"dataframe\">\n",
       "  <thead>\n",
       "    <tr style=\"text-align: right;\">\n",
       "      <th></th>\n",
       "      <th>AnimalID</th>\n",
       "      <th>DateTime</th>\n",
       "      <th>DateofBirth</th>\n",
       "      <th>AnimalType</th>\n",
       "      <th>SexuponOutcome</th>\n",
       "      <th>AgeuponOutcome</th>\n",
       "      <th>Breed</th>\n",
       "      <th>Color</th>\n",
       "      <th>Outcome</th>\n",
       "    </tr>\n",
       "  </thead>\n",
       "  <tbody>\n",
       "    <tr>\n",
       "      <th>0</th>\n",
       "      <td>A751682</td>\n",
       "      <td>06/26/2017 06:11:00 PM</td>\n",
       "      <td>10/11/2014</td>\n",
       "      <td>Dog</td>\n",
       "      <td>Spayed Female</td>\n",
       "      <td>989</td>\n",
       "      <td>Plott Hound/Dachshund</td>\n",
       "      <td>Brown</td>\n",
       "      <td>0</td>\n",
       "    </tr>\n",
       "    <tr>\n",
       "      <th>1</th>\n",
       "      <td>A709694</td>\n",
       "      <td>08/12/2015 01:19:00 PM</td>\n",
       "      <td>08/12/2014</td>\n",
       "      <td>Cat</td>\n",
       "      <td>Intact Female</td>\n",
       "      <td>365</td>\n",
       "      <td>Domestic Shorthair Mix</td>\n",
       "      <td>Brown Tabby</td>\n",
       "      <td>1</td>\n",
       "    </tr>\n",
       "    <tr>\n",
       "      <th>2</th>\n",
       "      <td>A681401</td>\n",
       "      <td>06/18/2014 02:09:00 PM</td>\n",
       "      <td>05/01/2014</td>\n",
       "      <td>Cat</td>\n",
       "      <td>Intact Male</td>\n",
       "      <td>48</td>\n",
       "      <td>Domestic Shorthair Mix</td>\n",
       "      <td>Black/White</td>\n",
       "      <td>0</td>\n",
       "    </tr>\n",
       "    <tr>\n",
       "      <th>3</th>\n",
       "      <td>A767432</td>\n",
       "      <td>05/21/2019 01:11:00 PM</td>\n",
       "      <td>02/28/2016</td>\n",
       "      <td>Dog</td>\n",
       "      <td>Spayed Female</td>\n",
       "      <td>1178</td>\n",
       "      <td>Chihuahua Shorthair Mix</td>\n",
       "      <td>Black/Brown</td>\n",
       "      <td>0</td>\n",
       "    </tr>\n",
       "    <tr>\n",
       "      <th>4</th>\n",
       "      <td>A548156</td>\n",
       "      <td>02/25/2014 01:48:00 PM</td>\n",
       "      <td>07/29/2008</td>\n",
       "      <td>Dog</td>\n",
       "      <td>Neutered Male</td>\n",
       "      <td>2037</td>\n",
       "      <td>Pit Bull Mix</td>\n",
       "      <td>Blue/White</td>\n",
       "      <td>0</td>\n",
       "    </tr>\n",
       "  </tbody>\n",
       "</table>\n",
       "</div>"
      ],
      "text/plain": [
       "  AnimalID                DateTime DateofBirth AnimalType SexuponOutcome  \\\n",
       "0  A751682  06/26/2017 06:11:00 PM  10/11/2014        Dog  Spayed Female   \n",
       "1  A709694  08/12/2015 01:19:00 PM  08/12/2014        Cat  Intact Female   \n",
       "2  A681401  06/18/2014 02:09:00 PM  05/01/2014        Cat    Intact Male   \n",
       "3  A767432  05/21/2019 01:11:00 PM  02/28/2016        Dog  Spayed Female   \n",
       "4  A548156  02/25/2014 01:48:00 PM  07/29/2008        Dog  Neutered Male   \n",
       "\n",
       "   AgeuponOutcome                    Breed        Color  Outcome  \n",
       "0             989    Plott Hound/Dachshund        Brown        0  \n",
       "1             365   Domestic Shorthair Mix  Brown Tabby        1  \n",
       "2              48   Domestic Shorthair Mix  Black/White        0  \n",
       "3            1178  Chihuahua Shorthair Mix  Black/Brown        0  \n",
       "4            2037             Pit Bull Mix   Blue/White        0  "
      ]
     },
     "execution_count": 13,
     "metadata": {},
     "output_type": "execute_result"
    }
   ],
   "source": [
    "#Converting Age upon Outcome to days for normalizing later. This is achieved by taking the difference between DateTime \n",
    "#and DateofBirth which evaluates to the AgeuponOutcome in the data frame.\n",
    "df[\"AgeuponOutcome\"] = (pd.to_datetime(df[\"DateTime\"]) - pd.to_datetime(df[\"DateofBirth\"])).apply(lambda i: i.days)\n",
    "df.head()"
   ]
  },
  {
   "cell_type": "code",
   "execution_count": 14,
   "id": "70074599",
   "metadata": {},
   "outputs": [
    {
     "data": {
      "text/html": [
       "<div>\n",
       "<style scoped>\n",
       "    .dataframe tbody tr th:only-of-type {\n",
       "        vertical-align: middle;\n",
       "    }\n",
       "\n",
       "    .dataframe tbody tr th {\n",
       "        vertical-align: top;\n",
       "    }\n",
       "\n",
       "    .dataframe thead th {\n",
       "        text-align: right;\n",
       "    }\n",
       "</style>\n",
       "<table border=\"1\" class=\"dataframe\">\n",
       "  <thead>\n",
       "    <tr style=\"text-align: right;\">\n",
       "      <th></th>\n",
       "      <th>AnimalID</th>\n",
       "      <th>AnimalType</th>\n",
       "      <th>SexuponOutcome</th>\n",
       "      <th>Age in Days</th>\n",
       "      <th>Breed</th>\n",
       "      <th>Color</th>\n",
       "      <th>Outcome</th>\n",
       "    </tr>\n",
       "  </thead>\n",
       "  <tbody>\n",
       "    <tr>\n",
       "      <th>0</th>\n",
       "      <td>A751682</td>\n",
       "      <td>Dog</td>\n",
       "      <td>Spayed Female</td>\n",
       "      <td>989</td>\n",
       "      <td>Plott Hound/Dachshund</td>\n",
       "      <td>Brown</td>\n",
       "      <td>0</td>\n",
       "    </tr>\n",
       "    <tr>\n",
       "      <th>1</th>\n",
       "      <td>A709694</td>\n",
       "      <td>Cat</td>\n",
       "      <td>Intact Female</td>\n",
       "      <td>365</td>\n",
       "      <td>Domestic Shorthair Mix</td>\n",
       "      <td>Brown Tabby</td>\n",
       "      <td>1</td>\n",
       "    </tr>\n",
       "    <tr>\n",
       "      <th>2</th>\n",
       "      <td>A681401</td>\n",
       "      <td>Cat</td>\n",
       "      <td>Intact Male</td>\n",
       "      <td>48</td>\n",
       "      <td>Domestic Shorthair Mix</td>\n",
       "      <td>Black/White</td>\n",
       "      <td>0</td>\n",
       "    </tr>\n",
       "    <tr>\n",
       "      <th>3</th>\n",
       "      <td>A767432</td>\n",
       "      <td>Dog</td>\n",
       "      <td>Spayed Female</td>\n",
       "      <td>1178</td>\n",
       "      <td>Chihuahua Shorthair Mix</td>\n",
       "      <td>Black/Brown</td>\n",
       "      <td>0</td>\n",
       "    </tr>\n",
       "    <tr>\n",
       "      <th>4</th>\n",
       "      <td>A548156</td>\n",
       "      <td>Dog</td>\n",
       "      <td>Neutered Male</td>\n",
       "      <td>2037</td>\n",
       "      <td>Pit Bull Mix</td>\n",
       "      <td>Blue/White</td>\n",
       "      <td>0</td>\n",
       "    </tr>\n",
       "  </tbody>\n",
       "</table>\n",
       "</div>"
      ],
      "text/plain": [
       "  AnimalID AnimalType SexuponOutcome  Age in Days                    Breed  \\\n",
       "0  A751682        Dog  Spayed Female          989    Plott Hound/Dachshund   \n",
       "1  A709694        Cat  Intact Female          365   Domestic Shorthair Mix   \n",
       "2  A681401        Cat    Intact Male           48   Domestic Shorthair Mix   \n",
       "3  A767432        Dog  Spayed Female         1178  Chihuahua Shorthair Mix   \n",
       "4  A548156        Dog  Neutered Male         2037             Pit Bull Mix   \n",
       "\n",
       "         Color  Outcome  \n",
       "0        Brown        0  \n",
       "1  Brown Tabby        1  \n",
       "2  Black/White        0  \n",
       "3  Black/Brown        0  \n",
       "4   Blue/White        0  "
      ]
     },
     "execution_count": 14,
     "metadata": {},
     "output_type": "execute_result"
    }
   ],
   "source": [
    "#Since we have a number which can now be normalized, we can drop the DateTime and DateofBirth columns as they aren't necessary\n",
    "#for constructing learning models\n",
    "df = df.drop(columns = [\"DateTime\", \"DateofBirth\"])\n",
    "df = df.rename({\"AgeuponOutcome\" : \"Age in Days\"}, axis=1)\n",
    "df.head()"
   ]
  },
  {
   "cell_type": "code",
   "execution_count": 15,
   "id": "fc0c665d",
   "metadata": {},
   "outputs": [
    {
     "data": {
      "text/html": [
       "<div>\n",
       "<style scoped>\n",
       "    .dataframe tbody tr th:only-of-type {\n",
       "        vertical-align: middle;\n",
       "    }\n",
       "\n",
       "    .dataframe tbody tr th {\n",
       "        vertical-align: top;\n",
       "    }\n",
       "\n",
       "    .dataframe thead th {\n",
       "        text-align: right;\n",
       "    }\n",
       "</style>\n",
       "<table border=\"1\" class=\"dataframe\">\n",
       "  <thead>\n",
       "    <tr style=\"text-align: right;\">\n",
       "      <th></th>\n",
       "      <th>AnimalID</th>\n",
       "      <th>Animal Type</th>\n",
       "      <th>Sex Upon Outcome</th>\n",
       "      <th>Age in Days</th>\n",
       "      <th>Breed</th>\n",
       "      <th>Color</th>\n",
       "      <th>Outcome</th>\n",
       "    </tr>\n",
       "  </thead>\n",
       "  <tbody>\n",
       "    <tr>\n",
       "      <th>0</th>\n",
       "      <td>A751682</td>\n",
       "      <td>Dog</td>\n",
       "      <td>Spayed Female</td>\n",
       "      <td>989</td>\n",
       "      <td>Plott Hound/Dachshund</td>\n",
       "      <td>Brown</td>\n",
       "      <td>0</td>\n",
       "    </tr>\n",
       "    <tr>\n",
       "      <th>1</th>\n",
       "      <td>A709694</td>\n",
       "      <td>Cat</td>\n",
       "      <td>Intact Female</td>\n",
       "      <td>365</td>\n",
       "      <td>Domestic Shorthair Mix</td>\n",
       "      <td>Brown Tabby</td>\n",
       "      <td>1</td>\n",
       "    </tr>\n",
       "    <tr>\n",
       "      <th>2</th>\n",
       "      <td>A681401</td>\n",
       "      <td>Cat</td>\n",
       "      <td>Intact Male</td>\n",
       "      <td>48</td>\n",
       "      <td>Domestic Shorthair Mix</td>\n",
       "      <td>Black/White</td>\n",
       "      <td>0</td>\n",
       "    </tr>\n",
       "    <tr>\n",
       "      <th>3</th>\n",
       "      <td>A767432</td>\n",
       "      <td>Dog</td>\n",
       "      <td>Spayed Female</td>\n",
       "      <td>1178</td>\n",
       "      <td>Chihuahua Shorthair Mix</td>\n",
       "      <td>Black/Brown</td>\n",
       "      <td>0</td>\n",
       "    </tr>\n",
       "    <tr>\n",
       "      <th>4</th>\n",
       "      <td>A548156</td>\n",
       "      <td>Dog</td>\n",
       "      <td>Neutered Male</td>\n",
       "      <td>2037</td>\n",
       "      <td>Pit Bull Mix</td>\n",
       "      <td>Blue/White</td>\n",
       "      <td>0</td>\n",
       "    </tr>\n",
       "  </tbody>\n",
       "</table>\n",
       "</div>"
      ],
      "text/plain": [
       "  AnimalID Animal Type Sex Upon Outcome  Age in Days                    Breed  \\\n",
       "0  A751682         Dog    Spayed Female          989    Plott Hound/Dachshund   \n",
       "1  A709694         Cat    Intact Female          365   Domestic Shorthair Mix   \n",
       "2  A681401         Cat      Intact Male           48   Domestic Shorthair Mix   \n",
       "3  A767432         Dog    Spayed Female         1178  Chihuahua Shorthair Mix   \n",
       "4  A548156         Dog    Neutered Male         2037             Pit Bull Mix   \n",
       "\n",
       "         Color  Outcome  \n",
       "0        Brown        0  \n",
       "1  Brown Tabby        1  \n",
       "2  Black/White        0  \n",
       "3  Black/Brown        0  \n",
       "4   Blue/White        0  "
      ]
     },
     "execution_count": 15,
     "metadata": {},
     "output_type": "execute_result"
    }
   ],
   "source": [
    "#Renaming column names to be more readable\n",
    "df = df.rename({\"AnimalType\" : \"Animal Type\"}, axis=1)\n",
    "df = df.rename({\"SexuponOutcome\" : \"Sex Upon Outcome\"}, axis=1)\n",
    "df.head()"
   ]
  },
  {
   "cell_type": "code",
   "execution_count": 16,
   "id": "bae578d8",
   "metadata": {},
   "outputs": [
    {
     "data": {
      "text/html": [
       "<div>\n",
       "<style scoped>\n",
       "    .dataframe tbody tr th:only-of-type {\n",
       "        vertical-align: middle;\n",
       "    }\n",
       "\n",
       "    .dataframe tbody tr th {\n",
       "        vertical-align: top;\n",
       "    }\n",
       "\n",
       "    .dataframe thead th {\n",
       "        text-align: right;\n",
       "    }\n",
       "</style>\n",
       "<table border=\"1\" class=\"dataframe\">\n",
       "  <thead>\n",
       "    <tr style=\"text-align: right;\">\n",
       "      <th></th>\n",
       "      <th>AnimalID</th>\n",
       "      <th>Animal Type</th>\n",
       "      <th>Sex Upon Outcome</th>\n",
       "      <th>Normalized Age</th>\n",
       "      <th>Breed</th>\n",
       "      <th>Color</th>\n",
       "      <th>Outcome</th>\n",
       "    </tr>\n",
       "  </thead>\n",
       "  <tbody>\n",
       "    <tr>\n",
       "      <th>0</th>\n",
       "      <td>A751682</td>\n",
       "      <td>Dog</td>\n",
       "      <td>Spayed Female</td>\n",
       "      <td>0.180912</td>\n",
       "      <td>Plott Hound/Dachshund</td>\n",
       "      <td>Brown</td>\n",
       "      <td>0</td>\n",
       "    </tr>\n",
       "    <tr>\n",
       "      <th>1</th>\n",
       "      <td>A709694</td>\n",
       "      <td>Cat</td>\n",
       "      <td>Intact Female</td>\n",
       "      <td>-0.396499</td>\n",
       "      <td>Domestic Shorthair Mix</td>\n",
       "      <td>Brown Tabby</td>\n",
       "      <td>1</td>\n",
       "    </tr>\n",
       "    <tr>\n",
       "      <th>2</th>\n",
       "      <td>A681401</td>\n",
       "      <td>Cat</td>\n",
       "      <td>Intact Male</td>\n",
       "      <td>-0.689831</td>\n",
       "      <td>Domestic Shorthair Mix</td>\n",
       "      <td>Black/White</td>\n",
       "      <td>0</td>\n",
       "    </tr>\n",
       "    <tr>\n",
       "      <th>3</th>\n",
       "      <td>A767432</td>\n",
       "      <td>Dog</td>\n",
       "      <td>Spayed Female</td>\n",
       "      <td>0.355801</td>\n",
       "      <td>Chihuahua Shorthair Mix</td>\n",
       "      <td>Black/Brown</td>\n",
       "      <td>0</td>\n",
       "    </tr>\n",
       "    <tr>\n",
       "      <th>4</th>\n",
       "      <td>A548156</td>\n",
       "      <td>Dog</td>\n",
       "      <td>Neutered Male</td>\n",
       "      <td>1.150667</td>\n",
       "      <td>Pit Bull Mix</td>\n",
       "      <td>Blue/White</td>\n",
       "      <td>0</td>\n",
       "    </tr>\n",
       "  </tbody>\n",
       "</table>\n",
       "</div>"
      ],
      "text/plain": [
       "  AnimalID Animal Type Sex Upon Outcome  Normalized Age  \\\n",
       "0  A751682         Dog    Spayed Female        0.180912   \n",
       "1  A709694         Cat    Intact Female       -0.396499   \n",
       "2  A681401         Cat      Intact Male       -0.689831   \n",
       "3  A767432         Dog    Spayed Female        0.355801   \n",
       "4  A548156         Dog    Neutered Male        1.150667   \n",
       "\n",
       "                     Breed        Color  Outcome  \n",
       "0    Plott Hound/Dachshund        Brown        0  \n",
       "1   Domestic Shorthair Mix  Brown Tabby        1  \n",
       "2   Domestic Shorthair Mix  Black/White        0  \n",
       "3  Chihuahua Shorthair Mix  Black/Brown        0  \n",
       "4             Pit Bull Mix   Blue/White        0  "
      ]
     },
     "execution_count": 16,
     "metadata": {},
     "output_type": "execute_result"
    }
   ],
   "source": [
    "#Normalizing the Age in Days and renaming the column\n",
    "df[\"Age in Days\"] = (df[\"Age in Days\"] - df[\"Age in Days\"].mean())/df[\"Age in Days\"].std()\n",
    "df = df.rename({\"Age in Days\" : \"Normalized Age\"}, axis=1)\n",
    "df.head()"
   ]
  },
  {
   "cell_type": "code",
   "execution_count": 17,
   "id": "44e2a35c",
   "metadata": {},
   "outputs": [],
   "source": [
    "#Removing AnimalID column as its not needed\n",
    "df = df.drop(columns = \"AnimalID\")"
   ]
  },
  {
   "cell_type": "code",
   "execution_count": 18,
   "id": "08676ac4",
   "metadata": {},
   "outputs": [],
   "source": [
    "df.to_csv(\"animal_shelter_18414616_cleaned.csv\")"
   ]
  },
  {
   "cell_type": "markdown",
   "id": "7b1f235c",
   "metadata": {},
   "source": [
    "# K Nearest Neighbours"
   ]
  },
  {
   "cell_type": "markdown",
   "id": "1fc7452f",
   "metadata": {},
   "source": [
    "### Final Cleanup and Preparing Data for Fitting and Training"
   ]
  },
  {
   "cell_type": "code",
   "execution_count": 19,
   "id": "686513c9",
   "metadata": {},
   "outputs": [],
   "source": [
    "import pandas as pd\n",
    "import matplotlib.pyplot as plot\n",
    "from sklearn import datasets\n",
    "from sklearn import model_selection\n",
    "from sklearn.model_selection import train_test_split\n",
    "from sklearn.metrics import accuracy_score\n",
    "from sklearn.preprocessing import LabelEncoder\n",
    "from sklearn.dummy import DummyClassifier\n",
    "from sklearn.metrics import balanced_accuracy_score\n",
    "from sklearn.model_selection import cross_validate\n",
    "from sklearn.model_selection import KFold\n",
    "from sklearn.feature_selection import chi2, mutual_info_classif, SelectKBest\n",
    "from mlxtend.feature_selection import SequentialFeatureSelector as SFS\n",
    "from mlxtend.plotting import plot_sequential_feature_selection as plot_sfs\n",
    "from mlxtend.plotting import plot_sequential_feature_selection as plot_sfs\n",
    "from sklearn.metrics import plot_roc_curve\n",
    "\n",
    "#Reading in dataframe from csv\n",
    "df = pd.read_csv(\"animal_shelter_18414616_cleaned.csv\")"
   ]
  },
  {
   "cell_type": "code",
   "execution_count": 20,
   "id": "e1a01189",
   "metadata": {},
   "outputs": [
    {
     "data": {
      "text/html": [
       "<div>\n",
       "<style scoped>\n",
       "    .dataframe tbody tr th:only-of-type {\n",
       "        vertical-align: middle;\n",
       "    }\n",
       "\n",
       "    .dataframe tbody tr th {\n",
       "        vertical-align: top;\n",
       "    }\n",
       "\n",
       "    .dataframe thead th {\n",
       "        text-align: right;\n",
       "    }\n",
       "</style>\n",
       "<table border=\"1\" class=\"dataframe\">\n",
       "  <thead>\n",
       "    <tr style=\"text-align: right;\">\n",
       "      <th></th>\n",
       "      <th>Unnamed: 0</th>\n",
       "      <th>Animal Type</th>\n",
       "      <th>Sex Upon Outcome</th>\n",
       "      <th>Normalized Age</th>\n",
       "      <th>Breed</th>\n",
       "      <th>Color</th>\n",
       "      <th>Outcome</th>\n",
       "    </tr>\n",
       "  </thead>\n",
       "  <tbody>\n",
       "    <tr>\n",
       "      <th>0</th>\n",
       "      <td>0</td>\n",
       "      <td>Dog</td>\n",
       "      <td>Spayed Female</td>\n",
       "      <td>0.180912</td>\n",
       "      <td>Plott Hound/Dachshund</td>\n",
       "      <td>Brown</td>\n",
       "      <td>0</td>\n",
       "    </tr>\n",
       "    <tr>\n",
       "      <th>1</th>\n",
       "      <td>1</td>\n",
       "      <td>Cat</td>\n",
       "      <td>Intact Female</td>\n",
       "      <td>-0.396499</td>\n",
       "      <td>Domestic Shorthair Mix</td>\n",
       "      <td>Brown Tabby</td>\n",
       "      <td>1</td>\n",
       "    </tr>\n",
       "    <tr>\n",
       "      <th>2</th>\n",
       "      <td>2</td>\n",
       "      <td>Cat</td>\n",
       "      <td>Intact Male</td>\n",
       "      <td>-0.689831</td>\n",
       "      <td>Domestic Shorthair Mix</td>\n",
       "      <td>Black/White</td>\n",
       "      <td>0</td>\n",
       "    </tr>\n",
       "    <tr>\n",
       "      <th>3</th>\n",
       "      <td>3</td>\n",
       "      <td>Dog</td>\n",
       "      <td>Spayed Female</td>\n",
       "      <td>0.355801</td>\n",
       "      <td>Chihuahua Shorthair Mix</td>\n",
       "      <td>Black/Brown</td>\n",
       "      <td>0</td>\n",
       "    </tr>\n",
       "    <tr>\n",
       "      <th>4</th>\n",
       "      <td>4</td>\n",
       "      <td>Dog</td>\n",
       "      <td>Neutered Male</td>\n",
       "      <td>1.150667</td>\n",
       "      <td>Pit Bull Mix</td>\n",
       "      <td>Blue/White</td>\n",
       "      <td>0</td>\n",
       "    </tr>\n",
       "  </tbody>\n",
       "</table>\n",
       "</div>"
      ],
      "text/plain": [
       "   Unnamed: 0 Animal Type Sex Upon Outcome  Normalized Age  \\\n",
       "0           0         Dog    Spayed Female        0.180912   \n",
       "1           1         Cat    Intact Female       -0.396499   \n",
       "2           2         Cat      Intact Male       -0.689831   \n",
       "3           3         Dog    Spayed Female        0.355801   \n",
       "4           4         Dog    Neutered Male        1.150667   \n",
       "\n",
       "                     Breed        Color  Outcome  \n",
       "0    Plott Hound/Dachshund        Brown        0  \n",
       "1   Domestic Shorthair Mix  Brown Tabby        1  \n",
       "2   Domestic Shorthair Mix  Black/White        0  \n",
       "3  Chihuahua Shorthair Mix  Black/Brown        0  \n",
       "4             Pit Bull Mix   Blue/White        0  "
      ]
     },
     "execution_count": 20,
     "metadata": {},
     "output_type": "execute_result"
    }
   ],
   "source": [
    "df.head()"
   ]
  },
  {
   "cell_type": "code",
   "execution_count": 21,
   "id": "db3642b0",
   "metadata": {},
   "outputs": [],
   "source": [
    "#Removing error column\n",
    "df = df.drop(columns = \"Unnamed: 0\")"
   ]
  },
  {
   "cell_type": "code",
   "execution_count": 22,
   "id": "008621e2",
   "metadata": {
    "scrolled": true
   },
   "outputs": [
    {
     "data": {
      "text/html": [
       "<div>\n",
       "<style scoped>\n",
       "    .dataframe tbody tr th:only-of-type {\n",
       "        vertical-align: middle;\n",
       "    }\n",
       "\n",
       "    .dataframe tbody tr th {\n",
       "        vertical-align: top;\n",
       "    }\n",
       "\n",
       "    .dataframe thead th {\n",
       "        text-align: right;\n",
       "    }\n",
       "</style>\n",
       "<table border=\"1\" class=\"dataframe\">\n",
       "  <thead>\n",
       "    <tr style=\"text-align: right;\">\n",
       "      <th></th>\n",
       "      <th>Animal Type</th>\n",
       "      <th>Sex Upon Outcome</th>\n",
       "      <th>Normalized Age</th>\n",
       "      <th>Breed</th>\n",
       "      <th>Color</th>\n",
       "      <th>Outcome</th>\n",
       "    </tr>\n",
       "  </thead>\n",
       "  <tbody>\n",
       "    <tr>\n",
       "      <th>0</th>\n",
       "      <td>Dog</td>\n",
       "      <td>Spayed Female</td>\n",
       "      <td>0.180912</td>\n",
       "      <td>Plott Hound/Dachshund</td>\n",
       "      <td>Brown</td>\n",
       "      <td>0</td>\n",
       "    </tr>\n",
       "    <tr>\n",
       "      <th>1</th>\n",
       "      <td>Cat</td>\n",
       "      <td>Intact Female</td>\n",
       "      <td>-0.396499</td>\n",
       "      <td>Domestic Shorthair Mix</td>\n",
       "      <td>Brown Tabby</td>\n",
       "      <td>1</td>\n",
       "    </tr>\n",
       "    <tr>\n",
       "      <th>2</th>\n",
       "      <td>Cat</td>\n",
       "      <td>Intact Male</td>\n",
       "      <td>-0.689831</td>\n",
       "      <td>Domestic Shorthair Mix</td>\n",
       "      <td>Black/White</td>\n",
       "      <td>0</td>\n",
       "    </tr>\n",
       "    <tr>\n",
       "      <th>3</th>\n",
       "      <td>Dog</td>\n",
       "      <td>Spayed Female</td>\n",
       "      <td>0.355801</td>\n",
       "      <td>Chihuahua Shorthair Mix</td>\n",
       "      <td>Black/Brown</td>\n",
       "      <td>0</td>\n",
       "    </tr>\n",
       "    <tr>\n",
       "      <th>4</th>\n",
       "      <td>Dog</td>\n",
       "      <td>Neutered Male</td>\n",
       "      <td>1.150667</td>\n",
       "      <td>Pit Bull Mix</td>\n",
       "      <td>Blue/White</td>\n",
       "      <td>0</td>\n",
       "    </tr>\n",
       "  </tbody>\n",
       "</table>\n",
       "</div>"
      ],
      "text/plain": [
       "  Animal Type Sex Upon Outcome  Normalized Age                    Breed  \\\n",
       "0         Dog    Spayed Female        0.180912    Plott Hound/Dachshund   \n",
       "1         Cat    Intact Female       -0.396499   Domestic Shorthair Mix   \n",
       "2         Cat      Intact Male       -0.689831   Domestic Shorthair Mix   \n",
       "3         Dog    Spayed Female        0.355801  Chihuahua Shorthair Mix   \n",
       "4         Dog    Neutered Male        1.150667             Pit Bull Mix   \n",
       "\n",
       "         Color  Outcome  \n",
       "0        Brown        0  \n",
       "1  Brown Tabby        1  \n",
       "2  Black/White        0  \n",
       "3  Black/Brown        0  \n",
       "4   Blue/White        0  "
      ]
     },
     "execution_count": 22,
     "metadata": {},
     "output_type": "execute_result"
    }
   ],
   "source": [
    "df.head()"
   ]
  },
  {
   "cell_type": "code",
   "execution_count": 23,
   "id": "60374371",
   "metadata": {},
   "outputs": [
    {
     "data": {
      "text/plain": [
       "0    0\n",
       "1    1\n",
       "2    0\n",
       "3    0\n",
       "4    0\n",
       "Name: Outcome, dtype: int64"
      ]
     },
     "execution_count": 23,
     "metadata": {},
     "output_type": "execute_result"
    }
   ],
   "source": [
    "#Isolating the Outcome column and saving it to variable\n",
    "outcome = df.pop(\"Outcome\")\n",
    "outcome.head()"
   ]
  },
  {
   "cell_type": "markdown",
   "id": "73b3cd3b",
   "metadata": {},
   "source": [
    "# "
   ]
  },
  {
   "cell_type": "code",
   "execution_count": 24,
   "id": "5f8f9710",
   "metadata": {},
   "outputs": [
    {
     "data": {
      "text/html": [
       "<div>\n",
       "<style scoped>\n",
       "    .dataframe tbody tr th:only-of-type {\n",
       "        vertical-align: middle;\n",
       "    }\n",
       "\n",
       "    .dataframe tbody tr th {\n",
       "        vertical-align: top;\n",
       "    }\n",
       "\n",
       "    .dataframe thead th {\n",
       "        text-align: right;\n",
       "    }\n",
       "</style>\n",
       "<table border=\"1\" class=\"dataframe\">\n",
       "  <thead>\n",
       "    <tr style=\"text-align: right;\">\n",
       "      <th></th>\n",
       "      <th>Animal Type</th>\n",
       "      <th>Sex Upon Outcome</th>\n",
       "      <th>Normalized Age</th>\n",
       "      <th>Breed</th>\n",
       "      <th>Color</th>\n",
       "    </tr>\n",
       "  </thead>\n",
       "  <tbody>\n",
       "    <tr>\n",
       "      <th>0</th>\n",
       "      <td>2</td>\n",
       "      <td>3</td>\n",
       "      <td>0.180912</td>\n",
       "      <td>439</td>\n",
       "      <td>45</td>\n",
       "    </tr>\n",
       "    <tr>\n",
       "      <th>1</th>\n",
       "      <td>1</td>\n",
       "      <td>0</td>\n",
       "      <td>-0.396499</td>\n",
       "      <td>238</td>\n",
       "      <td>53</td>\n",
       "    </tr>\n",
       "    <tr>\n",
       "      <th>2</th>\n",
       "      <td>1</td>\n",
       "      <td>1</td>\n",
       "      <td>-0.689831</td>\n",
       "      <td>238</td>\n",
       "      <td>24</td>\n",
       "    </tr>\n",
       "    <tr>\n",
       "      <th>3</th>\n",
       "      <td>2</td>\n",
       "      <td>3</td>\n",
       "      <td>0.355801</td>\n",
       "      <td>170</td>\n",
       "      <td>14</td>\n",
       "    </tr>\n",
       "    <tr>\n",
       "      <th>4</th>\n",
       "      <td>2</td>\n",
       "      <td>2</td>\n",
       "      <td>1.150667</td>\n",
       "      <td>424</td>\n",
       "      <td>44</td>\n",
       "    </tr>\n",
       "  </tbody>\n",
       "</table>\n",
       "</div>"
      ],
      "text/plain": [
       "   Animal Type  Sex Upon Outcome  Normalized Age  Breed  Color\n",
       "0            2                 3        0.180912    439     45\n",
       "1            1                 0       -0.396499    238     53\n",
       "2            1                 1       -0.689831    238     24\n",
       "3            2                 3        0.355801    170     14\n",
       "4            2                 2        1.150667    424     44"
      ]
     },
     "execution_count": 24,
     "metadata": {},
     "output_type": "execute_result"
    }
   ],
   "source": [
    "#Changing the labels of Animal Type, Sex Upon Outcome, Breed and Color from Strings to Integers\n",
    "label_encoder = LabelEncoder()\n",
    "\n",
    "df[\"Animal Type\"] = label_encoder.fit_transform(df[\"Animal Type\"]) \n",
    "df[\"Sex Upon Outcome\"] = label_encoder.fit_transform(df[\"Sex Upon Outcome\"]) \n",
    "df[\"Breed\"] = label_encoder.fit_transform(df[\"Breed\"]) \n",
    "df[\"Color\"] = label_encoder.fit_transform(df[\"Color\"]) \n",
    "\n",
    "df.head()\n",
    "#The data is now ready to be trained and tested on"
   ]
  },
  {
   "cell_type": "code",
   "execution_count": 25,
   "id": "ec0df7bf",
   "metadata": {},
   "outputs": [
    {
     "data": {
      "text/html": [
       "<div>\n",
       "<style scoped>\n",
       "    .dataframe tbody tr th:only-of-type {\n",
       "        vertical-align: middle;\n",
       "    }\n",
       "\n",
       "    .dataframe tbody tr th {\n",
       "        vertical-align: top;\n",
       "    }\n",
       "\n",
       "    .dataframe thead th {\n",
       "        text-align: right;\n",
       "    }\n",
       "</style>\n",
       "<table border=\"1\" class=\"dataframe\">\n",
       "  <thead>\n",
       "    <tr style=\"text-align: right;\">\n",
       "      <th></th>\n",
       "      <th>Info-Gain</th>\n",
       "    </tr>\n",
       "  </thead>\n",
       "  <tbody>\n",
       "    <tr>\n",
       "      <th>Breed</th>\n",
       "      <td>0.115232</td>\n",
       "    </tr>\n",
       "    <tr>\n",
       "      <th>Sex Upon Outcome</th>\n",
       "      <td>0.098928</td>\n",
       "    </tr>\n",
       "    <tr>\n",
       "      <th>Animal Type</th>\n",
       "      <td>0.093445</td>\n",
       "    </tr>\n",
       "    <tr>\n",
       "      <th>Normalized Age</th>\n",
       "      <td>0.076670</td>\n",
       "    </tr>\n",
       "    <tr>\n",
       "      <th>Color</th>\n",
       "      <td>0.056900</td>\n",
       "    </tr>\n",
       "  </tbody>\n",
       "</table>\n",
       "</div>"
      ],
      "text/plain": [
       "                  Info-Gain\n",
       "Breed              0.115232\n",
       "Sex Upon Outcome   0.098928\n",
       "Animal Type        0.093445\n",
       "Normalized Age     0.076670\n",
       "Color              0.056900"
      ]
     },
     "execution_count": 25,
     "metadata": {},
     "output_type": "execute_result"
    }
   ],
   "source": [
    "#Running feature selection via the filter method. Since the information gain is so small, we will use the top features with  \n",
    "#information gain above 50% of the maximum information gain.\n",
    "#Therefore the features selected will be Breed, Animal Type, Sex Upon Outcome and Normalized Age\n",
    "\n",
    "i_scores = mutual_info_classif(df,outcome)\n",
    "\n",
    "features_info_gain = pd.DataFrame(i_scores,index = df.columns, columns =['Info-Gain'])\n",
    "features_info_gain.sort_values(by=['Info-Gain'],ascending=False,inplace=True)\n",
    "features_info_gain"
   ]
  },
  {
   "cell_type": "markdown",
   "id": "f30d72d5",
   "metadata": {},
   "source": [
    "### Splitting data into test and train "
   ]
  },
  {
   "cell_type": "code",
   "execution_count": 26,
   "id": "21f7eeee",
   "metadata": {},
   "outputs": [],
   "source": [
    "X_train, X_test, Y_train, Y_test = train_test_split(df, outcome, random_state=1)"
   ]
  },
  {
   "cell_type": "markdown",
   "id": "439598e7",
   "metadata": {},
   "source": [
    "## K Nearest Neighbours"
   ]
  },
  {
   "cell_type": "code",
   "execution_count": 27,
   "id": "7c4d618d",
   "metadata": {},
   "outputs": [
    {
     "data": {
      "text/plain": [
       "KNeighborsClassifier()"
      ]
     },
     "execution_count": 27,
     "metadata": {},
     "output_type": "execute_result"
    }
   ],
   "source": [
    "#Fitting the KNN model to the training data\n",
    "knn = KNeighborsClassifier()\n",
    "knn.fit(X_train, Y_train)"
   ]
  },
  {
   "cell_type": "code",
   "execution_count": 28,
   "id": "72b61297",
   "metadata": {},
   "outputs": [],
   "source": [
    "#Applying the Sequential Forward Selection to the KNN features.\n",
    "sfs_forward = SFS(knn, \n",
    "                  k_features=5, \n",
    "                  forward=True, \n",
    "                  floating=False,\n",
    "                  scoring='accuracy',\n",
    "                  cv=5)\n",
    "\n",
    "sfs_forward = sfs_forward.fit(df, outcome, custom_feature_names=df.columns)"
   ]
  },
  {
   "cell_type": "code",
   "execution_count": 29,
   "id": "5b39349e",
   "metadata": {},
   "outputs": [
    {
     "data": {
      "image/png": "[encoded data removed]",
      "text/plain": [
       "<Figure size 432x288 with 1 Axes>"
      ]
     },
     "metadata": {
      "needs_background": "light"
     },
     "output_type": "display_data"
    },
    {
     "name": "stdout",
     "output_type": "stream",
     "text": [
      "('Animal Type', 'Sex Upon Outcome', 'Normalized Age', 'Breed', 'Color')\n"
     ]
    }
   ],
   "source": [
    "#Plotting the SFS to show the point at which the accuracy starts to decrease.\n",
    "fig1 = plot_sfs(sfs_forward.get_metric_dict(), ylabel='Accuracy')\n",
    "\n",
    "plot.ylim([0.75, 1])\n",
    "plot.title('Sequential Forward Selection')\n",
    "plot.grid()\n",
    "plot.show()\n",
    "print(sfs_forward.k_feature_names_)\n",
    "\n",
    "#As we can see from the graph, the accuracy starts to decrease after the 3rd feature, that being Normalized Age.\n",
    "#Therefore, the features that should be selected are Animal Type, Sex Upon Outcome and Normalized Age."
   ]
  },
  {
   "cell_type": "code",
   "execution_count": 30,
   "id": "daf51d10",
   "metadata": {},
   "outputs": [
    {
     "data": {
      "text/plain": [
       "KNeighborsClassifier()"
      ]
     },
     "execution_count": 30,
     "metadata": {},
     "output_type": "execute_result"
    }
   ],
   "source": [
    "#Based on the above graph, we can eliminate the Breed and Color columns as they only decrease the overall accuracy. \n",
    "#Once we do this we can rerun the model with those columns excluded from the classification.\n",
    "\n",
    "df_new = df.drop(columns = [\"Breed\", \"Color\"])\n",
    "\n",
    "X_train, X_test, Y_train, Y_test = train_test_split(df_new, outcome, random_state=1)\n",
    "\n",
    "#Fitting the KNN model to the training data now excluding the columns that decrease accuracy\n",
    "knn = KNeighborsClassifier()\n",
    "knn.fit(X_train, Y_train)"
   ]
  },
  {
   "cell_type": "code",
   "execution_count": 31,
   "id": "d8d24da5",
   "metadata": {},
   "outputs": [
    {
     "name": "stdout",
     "output_type": "stream",
     "text": [
      "0.9504\n"
     ]
    }
   ],
   "source": [
    "# Predicting on the training dataset \n",
    "y_predicted = knn.predict(X_train)\n",
    "accuracy = accuracy_score(Y_train, y_predicted)\n",
    "print(accuracy)"
   ]
  },
  {
   "cell_type": "code",
   "execution_count": 32,
   "id": "35bc87fb",
   "metadata": {},
   "outputs": [
    {
     "data": {
      "image/png": "[encoded data removed]",
      "text/plain": [
       "<Figure size 432x288 with 1 Axes>"
      ]
     },
     "metadata": {
      "needs_background": "light"
     },
     "output_type": "display_data"
    }
   ],
   "source": [
    "outcome.value_counts(normalize=True).plot.barh()\n",
    "plot.title(\"Proportion of 1 outcomes compared to 0 outcomes\");\n",
    "\n",
    "#Based on the plotting of the outcomes, we can see that a vast majority of the outcomes are 0.\n",
    "#With an accuracy score as high as 95%, it is likely that the model is only performing well in the cases where the majority \n",
    "#of the test data is 0. This might not be the case for the contrary example."
   ]
  },
  {
   "cell_type": "code",
   "execution_count": 33,
   "id": "5851cd77",
   "metadata": {},
   "outputs": [
    {
     "name": "stdout",
     "output_type": "stream",
     "text": [
      "Dummy Classifier: 0.910\n",
      "Old Classifier: 0.9504\n"
     ]
    }
   ],
   "source": [
    "#If we now run a dummy classifier, we can see that the accuracy scores are pretty close, with the dummy classifier achieving a \n",
    "#91% and the actual model getting a 94% accuracy.\n",
    "\n",
    "d_c = DummyClassifier(strategy=\"most_frequent\")\n",
    "d_c.fit(X_train, Y_train)\n",
    "print(\"Dummy Classifier: \" f\"{d_c.score(X_test, Y_test):.3f}\")\n",
    "print(\"Old Classifier: \" f\"{accuracy}\")"
   ]
  },
  {
   "cell_type": "code",
   "execution_count": 34,
   "id": "65e1c49d",
   "metadata": {},
   "outputs": [
    {
     "data": {
      "image/png": "[encoded data removed]",
      "text/plain": [
       "<Figure size 432x288 with 1 Axes>"
      ]
     },
     "metadata": {
      "needs_background": "light"
     },
     "output_type": "display_data"
    }
   ],
   "source": [
    "#As can be seen from the ROC curve below, the classification model produces results that are substantially better than the \n",
    "#Dummy classifier. As the False Positive Rate is 0, the True Positive Rate is also high and remains above the 50% line \n",
    "#consistently as the False Positive Rate increases.\n",
    "\n",
    "disp = plot_roc_curve(knn, X_test, Y_test, pos_label=1)\n",
    "disp = plot_roc_curve(d_c, X_test, Y_test, pos_label=1, color=\"tab:orange\", linestyle=\"--\", ax=disp.ax_)\n",
    "disp.ax_.set_title(\"ROC curve: KNN\");"
   ]
  },
  {
   "cell_type": "code",
   "execution_count": 35,
   "id": "58dc9027",
   "metadata": {},
   "outputs": [],
   "source": [
    "#Therefore, we will cross validate to ensure that our model isn't just getting lucky/unlucky with its training data\n",
    "#and that it actually can perform well for any variety of training data.\n",
    "#We will shuffle 10 times before creating the folds.\n",
    "cross_val = KFold(n_splits=10, shuffle=False, random_state=None)"
   ]
  },
  {
   "cell_type": "code",
   "execution_count": 36,
   "id": "35c41a6d",
   "metadata": {},
   "outputs": [
    {
     "name": "stdout",
     "output_type": "stream",
     "text": [
      "True Accuracy: 0.743\n"
     ]
    }
   ],
   "source": [
    "#We will now rerun the tests with the folds included to produce the most fair outcome and the real accuracy of the model using\n",
    "#this dataset.\n",
    "#The result is closer to the true accuracy of the model.\n",
    "results = cross_validate(knn, df_new, outcome, cv=cross_val, scoring='balanced_accuracy')\n",
    "test_score = results[\"test_score\"]\n",
    "print(\"True Accuracy: \"f\"{test_score.mean():.3f}\")"
   ]
  },
  {
   "cell_type": "markdown",
   "id": "61002287",
   "metadata": {},
   "source": [
    "# Decision Tree"
   ]
  },
  {
   "cell_type": "markdown",
   "id": "5846a4bd",
   "metadata": {},
   "source": [
    "### Splitting data into test and train "
   ]
  },
  {
   "cell_type": "code",
   "execution_count": 37,
   "id": "9e288cc4",
   "metadata": {},
   "outputs": [],
   "source": [
    "X_train, X_test, Y_train, Y_test = train_test_split(df, outcome, random_state=1)"
   ]
  },
  {
   "cell_type": "markdown",
   "id": "64cc17be",
   "metadata": {},
   "source": [
    "## Decision Tree"
   ]
  },
  {
   "cell_type": "code",
   "execution_count": 38,
   "id": "a8cbbe37",
   "metadata": {},
   "outputs": [
    {
     "data": {
      "text/plain": [
       "DecisionTreeClassifier(criterion='entropy', max_depth=5)"
      ]
     },
     "execution_count": 38,
     "metadata": {},
     "output_type": "execute_result"
    }
   ],
   "source": [
    "#Fitting the Decision Tree model to the training data\n",
    "dc = DecisionTreeClassifier(criterion='entropy', max_depth=5)\n",
    "dc.fit(X_train, Y_train)"
   ]
  },
  {
   "cell_type": "code",
   "execution_count": 39,
   "id": "98676e30",
   "metadata": {},
   "outputs": [],
   "source": [
    "#Applying the Sequential Forward Selection to the Decision Tree features.\n",
    "sfs_forward = SFS(dc, \n",
    "                  k_features=5, \n",
    "                  forward=True, \n",
    "                  floating=False,\n",
    "                  scoring='accuracy',\n",
    "                  cv=5)\n",
    "\n",
    "sfs_forward = sfs_forward.fit(df, outcome, custom_feature_names=df.columns)"
   ]
  },
  {
   "cell_type": "code",
   "execution_count": 40,
   "id": "a08f959d",
   "metadata": {},
   "outputs": [
    {
     "data": {
      "image/png": "[encoded data removed]",
      "text/plain": [
       "<Figure size 432x288 with 1 Axes>"
      ]
     },
     "metadata": {
      "needs_background": "light"
     },
     "output_type": "display_data"
    },
    {
     "name": "stdout",
     "output_type": "stream",
     "text": [
      "('Animal Type', 'Sex Upon Outcome', 'Normalized Age', 'Breed', 'Color')\n"
     ]
    }
   ],
   "source": [
    "#Plotting the SFS to show the point at which the accuracy starts to decrease.\n",
    "fig1 = plot_sfs(sfs_forward.get_metric_dict(), ylabel='Accuracy')\n",
    "\n",
    "plot.ylim([0.75, 1])\n",
    "plot.title('Sequential Forward Selection')\n",
    "plot.grid()\n",
    "plot.show()\n",
    "print(sfs_forward.k_feature_names_)\n",
    "\n",
    "#As we can see from the graph, the accuracy starts to decrease after the 4th feature, that being Breed. \n",
    "#Therefore, the features that should be selected are Animal Type, Sex Upon Outcome, Normalized Age and Breed."
   ]
  },
  {
   "cell_type": "code",
   "execution_count": 41,
   "id": "4d17d087",
   "metadata": {},
   "outputs": [
    {
     "data": {
      "text/plain": [
       "DecisionTreeClassifier()"
      ]
     },
     "execution_count": 41,
     "metadata": {},
     "output_type": "execute_result"
    }
   ],
   "source": [
    "#Based on the above graph, we can eliminate the Color column as it only decreases the overall accuracy. \n",
    "#Once we do this we can rerun the model with those columns excluded from the classification.\n",
    "\n",
    "df_new = df.drop(columns = \"Color\")\n",
    "\n",
    "X_train, X_test, Y_train, Y_test = train_test_split(df_new, outcome, random_state=1)\n",
    "\n",
    "#Fitting the KNN model to the training data now excluding the columns that decrease accuracy\n",
    "dc = DecisionTreeClassifier()\n",
    "dc.fit(X_train, Y_train)"
   ]
  },
  {
   "cell_type": "code",
   "execution_count": 42,
   "id": "bc45bbd9",
   "metadata": {},
   "outputs": [
    {
     "name": "stdout",
     "output_type": "stream",
     "text": [
      "0.992\n"
     ]
    }
   ],
   "source": [
    "# Predict on the training dataset \n",
    "y_predicted = dc.predict(X_train)\n",
    "accuracy = accuracy_score(Y_train, y_predicted)\n",
    "print(accuracy)"
   ]
  },
  {
   "cell_type": "code",
   "execution_count": 43,
   "id": "94c3e86b",
   "metadata": {},
   "outputs": [
    {
     "data": {
      "image/png": "[encoded data removed]",
      "text/plain": [
       "<Figure size 432x288 with 1 Axes>"
      ]
     },
     "metadata": {
      "needs_background": "light"
     },
     "output_type": "display_data"
    }
   ],
   "source": [
    "outcome.value_counts(normalize=True).plot.barh()\n",
    "plot.title(\"Proportion of 1 outcomes compared to 0 outcomes\");\n",
    "\n",
    "#Based on the plotting of the outcomes, we can see that a vast majority of the outcomes are 0.\n",
    "#With an accuracy score as high as 99%, it is likely that the model is only performing well in the cases where the majority \n",
    "#of the test data is 0. This might not be the case for the contrary example."
   ]
  },
  {
   "cell_type": "code",
   "execution_count": 44,
   "id": "d7b42069",
   "metadata": {},
   "outputs": [
    {
     "name": "stdout",
     "output_type": "stream",
     "text": [
      "Dummy Classifier: 0.910\n",
      "Old Classifier: 0.992\n"
     ]
    }
   ],
   "source": [
    "#If we now run a dummy classifier, we can see that the accuracy scores are pretty close, with the dummy classifier achieving a \n",
    "#91% and the actual model getting a 99% accuracy.\n",
    "\n",
    "d_c = DummyClassifier(strategy=\"most_frequent\")\n",
    "d_c.fit(X_train, Y_train)\n",
    "print(\"Dummy Classifier: \" f\"{d_c.score(X_test, Y_test):.3f}\")\n",
    "print(\"Old Classifier: \" f\"{accuracy}\")"
   ]
  },
  {
   "cell_type": "code",
   "execution_count": 45,
   "id": "39c8c36e",
   "metadata": {},
   "outputs": [
    {
     "data": {
      "image/png": "[encoded data removed]",
      "text/plain": [
       "<Figure size 432x288 with 1 Axes>"
      ]
     },
     "metadata": {
      "needs_background": "light"
     },
     "output_type": "display_data"
    }
   ],
   "source": [
    "#As can be seen from the ROC curve below, the classification model produces results that are substantially better than the \n",
    "#Dummy classifier. As the False Positive Rate is 0, the True Positive Rate is also high and remains above the 50% line \n",
    "#consistently as the False Positive Rate increases.\n",
    "\n",
    "disp = plot_roc_curve(dc, X_test, Y_test, pos_label=1)\n",
    "disp = plot_roc_curve(d_c, X_test, Y_test, pos_label=1, color=\"tab:orange\", linestyle=\"--\", ax=disp.ax_)\n",
    "disp.ax_.set_title(\"ROC curve: Decision Tree\");"
   ]
  },
  {
   "cell_type": "code",
   "execution_count": 46,
   "id": "70cd7ec2",
   "metadata": {},
   "outputs": [],
   "source": [
    "#Therefore, we will cross validate to ensure that our model isn't just getting lucky/unlucky with its training data\n",
    "#and that it actually can perform well for any variety of training data.\n",
    "#We will shuffle 10 times before creating the folds.\n",
    "cross_val = KFold(n_splits=10, shuffle=False, random_state=None)"
   ]
  },
  {
   "cell_type": "code",
   "execution_count": 47,
   "id": "f00afc59",
   "metadata": {},
   "outputs": [
    {
     "name": "stdout",
     "output_type": "stream",
     "text": [
      "True Accuracy: 0.766\n"
     ]
    }
   ],
   "source": [
    "#We will now rerun the tests with the folds included to produce the most fair outcome and the real accuracy of the model using\n",
    "#this dataset.\n",
    "#The result is closer to the true accuracy of the model.\n",
    "results = cross_validate(dc, df_new, outcome, cv=cross_val, scoring='balanced_accuracy')\n",
    "test_score = results[\"test_score\"]\n",
    "print(\"True Accuracy: \"f\"{test_score.mean():.3f}\")"
   ]
  },
  {
   "cell_type": "markdown",
   "id": "f69de295",
   "metadata": {},
   "source": [
    "# Naive Bayes"
   ]
  },
  {
   "cell_type": "markdown",
   "id": "8c6d2c28",
   "metadata": {},
   "source": [
    "### Splitting data into test and train "
   ]
  },
  {
   "cell_type": "code",
   "execution_count": 48,
   "id": "c8f0f6f5",
   "metadata": {},
   "outputs": [],
   "source": [
    "X_train, X_test, Y_train, Y_test = train_test_split(df, outcome, random_state=1)"
   ]
  },
  {
   "cell_type": "markdown",
   "id": "c38b005a",
   "metadata": {},
   "source": [
    "## Naive Bayes"
   ]
  },
  {
   "cell_type": "code",
   "execution_count": 49,
   "id": "877b3f78",
   "metadata": {},
   "outputs": [
    {
     "data": {
      "text/plain": [
       "GaussianNB()"
      ]
     },
     "execution_count": 49,
     "metadata": {},
     "output_type": "execute_result"
    }
   ],
   "source": [
    "#Fitting the Naive Bayes model to the training data\n",
    "gnb = GaussianNB()\n",
    "gnb.fit(X_train, Y_train)"
   ]
  },
  {
   "cell_type": "code",
   "execution_count": 50,
   "id": "e784eca4",
   "metadata": {},
   "outputs": [],
   "source": [
    "#Applying the Sequential Forward Selection to the Naive Bayes features.\n",
    "sfs_forward = SFS(gnb, \n",
    "                  k_features=5, \n",
    "                  forward=True, \n",
    "                  floating=False,\n",
    "                  scoring='accuracy',\n",
    "                  cv=5)\n",
    "\n",
    "sfs_forward = sfs_forward.fit(df, outcome, custom_feature_names=df.columns)"
   ]
  },
  {
   "cell_type": "code",
   "execution_count": 51,
   "id": "593bd577",
   "metadata": {},
   "outputs": [
    {
     "data": {
      "image/png": "[encoded data removed]",
      "text/plain": [
       "<Figure size 432x288 with 1 Axes>"
      ]
     },
     "metadata": {
      "needs_background": "light"
     },
     "output_type": "display_data"
    },
    {
     "name": "stdout",
     "output_type": "stream",
     "text": [
      "('Animal Type', 'Sex Upon Outcome', 'Normalized Age', 'Breed', 'Color')\n"
     ]
    }
   ],
   "source": [
    "#Plotting the SFS to show the point at which the accuracy starts to decrease.\n",
    "fig1 = plot_sfs(sfs_forward.get_metric_dict(), ylabel='Accuracy')\n",
    "\n",
    "plot.ylim([0.75, 1])\n",
    "plot.title('Sequential Forward Selection')\n",
    "plot.grid()\n",
    "plot.show()\n",
    "print(sfs_forward.k_feature_names_)\n",
    "\n",
    "#As we can see from the graph, the accuracy starts to decrease after the 4th feature, that being Color.\n",
    "#Therefore, the features that should be selected are Animal Type, Sex Upon Outcome, Normalized Age and Breed."
   ]
  },
  {
   "cell_type": "code",
   "execution_count": 52,
   "id": "274890ee",
   "metadata": {},
   "outputs": [
    {
     "data": {
      "text/plain": [
       "GaussianNB()"
      ]
     },
     "execution_count": 52,
     "metadata": {},
     "output_type": "execute_result"
    }
   ],
   "source": [
    "#Based on the above graph, we can eliminate the Color column as it only decreases the overall accuracy. \n",
    "#Once we do this we can rerun the model with those columns excluded from the classification.\n",
    "\n",
    "df_new = df.drop(columns = \"Color\")\n",
    "\n",
    "X_train, X_test, Y_train, Y_test = train_test_split(df_new, outcome, random_state=1)\n",
    "\n",
    "#Fitting the KNN model to the training data now excluding the columns that decrease accuracy\n",
    "gnb = GaussianNB()\n",
    "gnb.fit(X_train, Y_train)"
   ]
  },
  {
   "cell_type": "code",
   "execution_count": 53,
   "id": "dffb40cb",
   "metadata": {},
   "outputs": [
    {
     "name": "stdout",
     "output_type": "stream",
     "text": [
      "0.94\n"
     ]
    }
   ],
   "source": [
    "#Predicting on the training dataset \n",
    "y_predicted = gnb.predict(X_train)\n",
    "accuracy = accuracy_score(Y_train, y_predicted)\n",
    "print(accuracy)"
   ]
  },
  {
   "cell_type": "code",
   "execution_count": 54,
   "id": "677a4d09",
   "metadata": {},
   "outputs": [
    {
     "data": {
      "image/png": "[encoded data removed]",
      "text/plain": [
       "<Figure size 432x288 with 1 Axes>"
      ]
     },
     "metadata": {
      "needs_background": "light"
     },
     "output_type": "display_data"
    }
   ],
   "source": [
    "outcome.value_counts(normalize=True).plot.barh()\n",
    "plot.title(\"Proportion of 1 outcomes compared to 0 outcomes\");\n",
    "\n",
    "#Based on the plotting of the outcomes, we can see that a vast majority of the outcomes are 0.\n",
    "#With an accuracy score as high as 94%, it is likely that the model is only performing well in the cases where the majority \n",
    "#of the test data is 0. This might not be the case for the contrary example."
   ]
  },
  {
   "cell_type": "code",
   "execution_count": 55,
   "id": "0c25e5d9",
   "metadata": {},
   "outputs": [
    {
     "name": "stdout",
     "output_type": "stream",
     "text": [
      "Dummy Classifier: 0.910\n",
      "Old Classifier: 0.94\n"
     ]
    }
   ],
   "source": [
    "#If we now run a dummy classifier, we can see that the accuracy scores are pretty close, with the dummy classifier achieving a \n",
    "#91% and the actual model getting a 94% accuracy.\n",
    "\n",
    "d_c = DummyClassifier(strategy=\"most_frequent\")\n",
    "d_c.fit(X_train, Y_train)\n",
    "print(\"Dummy Classifier: \" f\"{d_c.score(X_test, Y_test):.3f}\")\n",
    "print(\"Old Classifier: \" f\"{accuracy}\")"
   ]
  },
  {
   "cell_type": "code",
   "execution_count": 56,
   "id": "9ec25a86",
   "metadata": {},
   "outputs": [
    {
     "data": {
      "image/png": "[encoded data removed]",
      "text/plain": [
       "<Figure size 432x288 with 1 Axes>"
      ]
     },
     "metadata": {
      "needs_background": "light"
     },
     "output_type": "display_data"
    }
   ],
   "source": [
    "#As can be seen from the ROC curve below, the classification model produces results that are substantially better than the \n",
    "#Dummy classifier. As the False Positive Rate is 0, the True Positive Rate is also high and remains above the 50% line \n",
    "#consistently as the False Positive Rate increases. The graph dips as the True Positive Rate reaches 80% \n",
    "#but doesn't pass the 50% line.\n",
    "\n",
    "disp = plot_roc_curve(gnb, X_test, Y_test, pos_label=1)\n",
    "disp = plot_roc_curve(d_c, X_test, Y_test, pos_label=1, color=\"tab:orange\", linestyle=\"--\", ax=disp.ax_)\n",
    "disp.ax_.set_title(\"ROC curve: Naive Bayes\");"
   ]
  },
  {
   "cell_type": "code",
   "execution_count": 57,
   "id": "e58d2c68",
   "metadata": {},
   "outputs": [],
   "source": [
    "#Therefore, we will cross validate to ensure that our model isn't just getting lucky/unlucky with its training data\n",
    "#and that it actually can perform well for any variety of training data.\n",
    "#We will shuffle 10 times before creating the folds.\n",
    "cross_val = KFold(n_splits=10, shuffle=False, random_state=None)"
   ]
  },
  {
   "cell_type": "code",
   "execution_count": 58,
   "id": "143b34f1",
   "metadata": {},
   "outputs": [
    {
     "name": "stdout",
     "output_type": "stream",
     "text": [
      "True Accuracy: 0.740\n"
     ]
    }
   ],
   "source": [
    "#We will now rerun the tests with the folds included to produce the most fair outcome and the real accuracy of the model using\n",
    "#this dataset.\n",
    "#The result is closer to the true accuracy of the model.\n",
    "results = cross_validate(gnb, df_new, outcome, cv=cross_val, scoring='balanced_accuracy')\n",
    "test_score = results[\"test_score\"]\n",
    "print(\"True Accuracy: \"f\"{test_score.mean():.3f}\")"
   ]
  },
  {
   "cell_type": "markdown",
   "id": "695a9a3e",
   "metadata": {},
   "source": [
    "# SVM"
   ]
  },
  {
   "cell_type": "markdown",
   "id": "76aeef39",
   "metadata": {},
   "source": [
    "### Splitting data into test and train"
   ]
  },
  {
   "cell_type": "code",
   "execution_count": 59,
   "id": "b604b6c3",
   "metadata": {},
   "outputs": [],
   "source": [
    "X_train, X_test, Y_train, Y_test = train_test_split(df, outcome, random_state=1)"
   ]
  },
  {
   "cell_type": "markdown",
   "id": "452fece9",
   "metadata": {},
   "source": [
    "## SVM"
   ]
  },
  {
   "cell_type": "code",
   "execution_count": 60,
   "id": "00989ecb",
   "metadata": {},
   "outputs": [
    {
     "data": {
      "text/plain": [
       "SVC()"
      ]
     },
     "execution_count": 60,
     "metadata": {},
     "output_type": "execute_result"
    }
   ],
   "source": [
    "#Fitting the SVM model to the training data\n",
    "svm = SVC(kernel='rbf')\n",
    "svm.fit(X_train, Y_train)"
   ]
  },
  {
   "cell_type": "code",
   "execution_count": 61,
   "id": "bd07a5fc",
   "metadata": {},
   "outputs": [],
   "source": [
    "#Applying the Sequential Forward Selection to the SVM features.\n",
    "sfs_forward = SFS(svm, \n",
    "                  k_features=5, \n",
    "                  forward=True, \n",
    "                  floating=False,\n",
    "                  scoring='accuracy',\n",
    "                  cv=5)\n",
    "\n",
    "sfs_forward = sfs_forward.fit(df, outcome, custom_feature_names=df.columns)"
   ]
  },
  {
   "cell_type": "code",
   "execution_count": 62,
   "id": "4b4dd28b",
   "metadata": {},
   "outputs": [
    {
     "data": {
      "image/png": "[encoded data removed]",
      "text/plain": [
       "<Figure size 432x288 with 1 Axes>"
      ]
     },
     "metadata": {
      "needs_background": "light"
     },
     "output_type": "display_data"
    },
    {
     "name": "stdout",
     "output_type": "stream",
     "text": [
      "('Animal Type', 'Sex Upon Outcome', 'Normalized Age', 'Breed', 'Color')\n"
     ]
    }
   ],
   "source": [
    "#Plotting the SFS to show the point at which the accuracy starts to decrease.\n",
    "fig1 = plot_sfs(sfs_forward.get_metric_dict(), ylabel='Accuracy')\n",
    "\n",
    "plot.ylim([0.75, 1])\n",
    "plot.title('Sequential Forward Selection')\n",
    "plot.grid()\n",
    "plot.show()\n",
    "print(sfs_forward.k_feature_names_)\n",
    "\n",
    "#As we can see from the graph, the accuracy starts to decrease after the 3rd feature, that being Normalized Age.\n",
    "#Therefore, the features that should be selected are Animal Type, Sex Upon Outcome and Normalized Age"
   ]
  },
  {
   "cell_type": "code",
   "execution_count": 63,
   "id": "11c94c5c",
   "metadata": {},
   "outputs": [
    {
     "data": {
      "text/plain": [
       "SVC()"
      ]
     },
     "execution_count": 63,
     "metadata": {},
     "output_type": "execute_result"
    }
   ],
   "source": [
    "#Based on the above graph, we can eliminate the Breed and Color columns as they only decrease the overall accuracy. \n",
    "#Once we do this we can rerun the model with those columns excluded from the classification.\n",
    "\n",
    "df_new = df.drop(columns = [\"Breed\", \"Color\"])\n",
    "\n",
    "X_train, X_test, Y_train, Y_test = train_test_split(df_new, outcome, random_state=1)\n",
    "\n",
    "#Fitting the KNN model to the training data now excluding the columns that decrease accuracy\n",
    "svm = SVC(kernel='rbf')\n",
    "svm.fit(X_train, Y_train)"
   ]
  },
  {
   "cell_type": "code",
   "execution_count": 64,
   "id": "154b2f3d",
   "metadata": {},
   "outputs": [
    {
     "name": "stdout",
     "output_type": "stream",
     "text": [
      "0.9456\n"
     ]
    }
   ],
   "source": [
    "# Predict on the training dataset \n",
    "y_predicted = svm.predict(X_train)\n",
    "accuracy = accuracy_score(Y_train, y_predicted)\n",
    "print(accuracy)"
   ]
  },
  {
   "cell_type": "code",
   "execution_count": 65,
   "id": "f073c6ba",
   "metadata": {},
   "outputs": [
    {
     "data": {
      "image/png": "[encoded data removed]",
      "text/plain": [
       "<Figure size 432x288 with 1 Axes>"
      ]
     },
     "metadata": {
      "needs_background": "light"
     },
     "output_type": "display_data"
    }
   ],
   "source": [
    "outcome.value_counts(normalize=True).plot.barh()\n",
    "plot.title(\"Proportion of 1 outcomes compared to 0 outcomes\");\n",
    "\n",
    "#Based on the plotting of the outcomes, we can see that a vast majority of the outcomes are 0.\n",
    "#With an accuracy score as high as 94%, it is likely that the model is only performing well in the cases where the majority \n",
    "#of the test data is 0. This might not be the case for the contrary example."
   ]
  },
  {
   "cell_type": "code",
   "execution_count": 66,
   "id": "7988394f",
   "metadata": {},
   "outputs": [
    {
     "name": "stdout",
     "output_type": "stream",
     "text": [
      "Dummy Classifier: 0.910\n",
      "Old Classifier: 0.9456\n"
     ]
    }
   ],
   "source": [
    "#If we now run a dummy classifier, we can see that the accuracy scores are pretty close, with the dummy classifier achieving a \n",
    "#91% and the actual model getting a 94% accuracy.\n",
    "\n",
    "d_c = DummyClassifier(strategy=\"most_frequent\")\n",
    "d_c.fit(X_train, Y_train)\n",
    "print(\"Dummy Classifier: \" f\"{d_c.score(X_test, Y_test):.3f}\")\n",
    "print(\"Old Classifier: \" f\"{accuracy}\")"
   ]
  },
  {
   "cell_type": "code",
   "execution_count": 67,
   "id": "53361956",
   "metadata": {},
   "outputs": [
    {
     "data": {
      "image/png": "[encoded data removed]",
      "text/plain": [
       "<Figure size 432x288 with 1 Axes>"
      ]
     },
     "metadata": {
      "needs_background": "light"
     },
     "output_type": "display_data"
    }
   ],
   "source": [
    "#As can be seen from the ROC curve below, the classification model produces results that are substantially better than the \n",
    "#Dummy classifier. As the False Positive Rate is 0, the True Positive Rate is also high and remains above the 50% line consistently \n",
    "#as the False Positive Rate increases.\n",
    "\n",
    "disp = plot_roc_curve(svm, X_test, Y_test, pos_label=1)\n",
    "disp = plot_roc_curve(d_c, X_test, Y_test, pos_label=1, color=\"tab:orange\", linestyle=\"--\", ax=disp.ax_)\n",
    "disp.ax_.set_title(\"ROC curve: SVM\");"
   ]
  },
  {
   "cell_type": "code",
   "execution_count": 68,
   "id": "907a22e3",
   "metadata": {},
   "outputs": [],
   "source": [
    "#Therefore, we will cross validate to ensure that our model isn't just getting lucky/unlucky with its training data\n",
    "#and that it actually can perform well for any variety of training data.\n",
    "#We will shuffle 10 times before creating the folds.\n",
    "cross_val = KFold(n_splits=10, shuffle=False, random_state=None)"
   ]
  },
  {
   "cell_type": "code",
   "execution_count": 69,
   "id": "6275d3c7",
   "metadata": {},
   "outputs": [
    {
     "name": "stdout",
     "output_type": "stream",
     "text": [
      "True Accuracy: 0.733\n"
     ]
    }
   ],
   "source": [
    "#We will now rerun the tests with the folds included to produce the most fair outcome and the real accuracy of the model using\n",
    "#this dataset.\n",
    "#The result is closer to the true accuracy of the model.\n",
    "results = cross_validate(svm, df_new, outcome, cv=cross_val, scoring='balanced_accuracy')\n",
    "test_score = results[\"test_score\"]\n",
    "print(\"True Accuracy: \"f\"{test_score.mean():.3f}\")"
   ]
  },
  {
   "cell_type": "markdown",
   "id": "3025a746",
   "metadata": {},
   "source": [
    "# Question 1"
   ]
  },
  {
   "cell_type": "markdown",
   "id": "ae598c99",
   "metadata": {},
   "source": [
    "### (b)\n",
    "The feature subsets produced by the filter and wrapper techniques don't have much variety between them. When running the filter technique, that being the Information Gain filter, we can see that the information gain is minimal. Therefore, it is probably wise to select the features that are above the 50% of the maximum value. Meanwhile, when performing the wrapper technique (Sequential Forward Search) we can observe that in the case of KNN and SVM, the best features to keep are Animal Type, Sex Upon Outcome and Normalized Age. Meanwhile, in the case of Decision Trees and Naive Bayes, it is best to include the Breed along with the data specified previously.\n",
    "\n",
    "A way to potentially increase adoption rate is to specify other data regarding the pets such as the expected lifespan of each animal based on their type in order to improve the accuracy of the normalization of the age. The Animal Type can be made more specific to include the specific type of animal as opposed to \"Other\"."
   ]
  },
  {
   "cell_type": "markdown",
   "id": "12f74aa6",
   "metadata": {},
   "source": [
    "### (c)\n",
    "The best classifier was the Decision Tree classifier with a 76.6% accuracy rate. The features used for this classifier were: Animal Type, Sex Upon Outcome, Normalized Age and Breed. These features were selected using the SFS wrapper technique. The data was cross validated in order to eliminate the possibility of the classifier getting lucky with the training data. This was discovered by running a dummy classifier and finding that the accuracy produced was similar to the initial model run. The data was shuffled 10 times before cross validating. Thus the produced efficiency of 76.6% is close to the true accuracy thanks to the cross validation."
   ]
  },
  {
   "cell_type": "markdown",
   "id": "a28a06a0",
   "metadata": {},
   "source": [
    "### (d)\n",
    "The best classifier was Decision Tree based on the ROC curve as the initial False Positive rate is low(>5%) for a high True Positive of over 60%. I am satisfied with this performance as the other classifiers performed slightly worse but had greater False Positive Rates when compared to Decision Tree."
   ]
  },
  {
   "cell_type": "markdown",
   "id": "06e2ef8f",
   "metadata": {},
   "source": [
    "### (e)\n",
    "Overall, when reducing the number of features in the data set, the accuracy would increase overall and eventually begin to decrease following the 3rd/4th feature. We can see that consistently the Color feature performs poorly both in terms of Information Gain and Accuracy. This can be explained by the fact that the Color feature has many different options which couldn't be captured accurately by the Label Encoder. The Decision Tree performed the best in terms of overall Accuracy as well as False Positive to True Positive Rate which was to be expected as the dataset featured had a highly discriminating feature, that being Animal Type. The other classifiers performed as expected with all achieving an accuracy of between 73% and 75%."
   ]
  },
  {
   "cell_type": "markdown",
   "id": "43a900fd",
   "metadata": {},
   "source": [
    "# Question 2"
   ]
  },
  {
   "cell_type": "markdown",
   "id": "a2c4efec",
   "metadata": {},
   "source": [
    "### (a)\n",
    "This situation can be explained by the fact that the data may have some unseen data biases. Such biases can include a majority \n",
    "of the outcome test data being male for example while the train data has mostly female candidates. This is a sign of overfitting the data. The testing accuracy can be improved by cross validating the data and splitting it into folds to obtain a more objective test set. To avoid this situation you should examine your dataset for biases as well as test against a dummy classifier after evaluating the model if a high accuracy is optained."
   ]
  },
  {
   "cell_type": "markdown",
   "id": "b9559e29",
   "metadata": {},
   "source": [
    "### (b)\n",
    "The kernel trick in SVM is projecting the data onto a higher dimension. This data is non linear but after the projection, can be linearly separated by a plane. The reason that this works is due to Kernels. Kernels perform a dot product on a certain transformation of the data points xi and xj which projects the data onto a higher dimension. Eg: K(xi, xj) = Φ(xi).Φ(xj) where Φ \n",
    "is a transfomation applied to data points to increase their dimension. The kernel trick is important as it allows us to linearly separate data which couldn't be linearly separated before. If the data has a \"cloud and ring\" or any other kind of circular distribution, a polynomial kernel should be used. If the data is pretty evenly split already but has some outliers, a linear kernel can be utilized."
   ]
  },
  {
   "cell_type": "markdown",
   "id": "e45a029b",
   "metadata": {},
   "source": [
    "### (c)\n",
    "The curse of dimensionality is an effect where the learning model is less efficient due to the data used having high dimensionality. If the data used has too much data, the dataset can become noisy and the accuracy will decrease as more features are added. Hence why the data needs to be examined to ensure that adding more features doesn't decrease the accuracy. The reason a KNN model might struggle with high dimensional data is that some features can create noise. In essence, unnecessary features might cause a neighbour to drift further away from its true value and thus decrease accuracy and cause noise among the plotted points. If after running a filter on the data the Classification Accuracy shows that the accuracy decreases after a certain number of features, we should remove some unnecessary features. Also if the feature doesn't have a high information gain, it is a good idea to remove it."
   ]
  },
  {
   "cell_type": "markdown",
   "id": "2194ac5f",
   "metadata": {},
   "source": [
    "### (d)\n",
    "The evaluation measures that should be used are precision and recall. They measure information retrieval provide insight into the correctness of our algorithm. Since the percentage of fraudulent transactions is quite small, the information gained from knowing how many results retrieved were relevant as well as the total amount of relevant results were retrieved is greater than getting the accuracy, the fraction of correct predictions."
   ]
  }
 ],
 "metadata": {
  "kernelspec": {
   "display_name": "Python 3",
   "language": "python",
   "name": "python3"
  },
  "language_info": {
   "codemirror_mode": {
    "name": "ipython",
    "version": 3
   },
   "file_extension": ".py",
   "mimetype": "text/x-python",
   "name": "python",
   "nbconvert_exporter": "python",
   "pygments_lexer": "ipython3",
   "version": "3.8.8"
  }
 },
 "nbformat": 4,
 "nbformat_minor": 5
}
