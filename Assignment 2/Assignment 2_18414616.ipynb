{
 "cells": [
  {
   "cell_type": "markdown",
   "id": "37caec9e",
   "metadata": {},
   "source": [
    "# Question 1"
   ]
  },
  {
   "cell_type": "markdown",
   "id": "db837e69",
   "metadata": {},
   "source": [
    "# Data Cleaning"
   ]
  },
  {
   "cell_type": "code",
   "execution_count": 221,
   "id": "79f624fd",
   "metadata": {},
   "outputs": [
    {
     "data": {
      "text/html": [
       "<div>\n",
       "<style scoped>\n",
       "    .dataframe tbody tr th:only-of-type {\n",
       "        vertical-align: middle;\n",
       "    }\n",
       "\n",
       "    .dataframe tbody tr th {\n",
       "        vertical-align: top;\n",
       "    }\n",
       "\n",
       "    .dataframe thead th {\n",
       "        text-align: right;\n",
       "    }\n",
       "</style>\n",
       "<table border=\"1\" class=\"dataframe\">\n",
       "  <thead>\n",
       "    <tr style=\"text-align: right;\">\n",
       "      <th></th>\n",
       "      <th>age</th>\n",
       "      <th>workclass</th>\n",
       "      <th>fnlwgt</th>\n",
       "      <th>education</th>\n",
       "      <th>education-num</th>\n",
       "      <th>marital-status</th>\n",
       "      <th>occupation</th>\n",
       "      <th>relationship</th>\n",
       "      <th>race</th>\n",
       "      <th>sex</th>\n",
       "      <th>capital-gain</th>\n",
       "      <th>capital-loss</th>\n",
       "      <th>hours-per-week</th>\n",
       "      <th>native-country</th>\n",
       "      <th>Income-category</th>\n",
       "    </tr>\n",
       "  </thead>\n",
       "  <tbody>\n",
       "    <tr>\n",
       "      <th>0</th>\n",
       "      <td>41</td>\n",
       "      <td>Local-gov</td>\n",
       "      <td>32185</td>\n",
       "      <td>Masters</td>\n",
       "      <td>14</td>\n",
       "      <td>Married-civ-spouse</td>\n",
       "      <td>Exec-managerial</td>\n",
       "      <td>Husband</td>\n",
       "      <td>White</td>\n",
       "      <td>Male</td>\n",
       "      <td>0</td>\n",
       "      <td>0</td>\n",
       "      <td>40</td>\n",
       "      <td>United-States</td>\n",
       "      <td>&gt;50K</td>\n",
       "    </tr>\n",
       "    <tr>\n",
       "      <th>1</th>\n",
       "      <td>44</td>\n",
       "      <td>Private</td>\n",
       "      <td>126701</td>\n",
       "      <td>HS-grad</td>\n",
       "      <td>9</td>\n",
       "      <td>Divorced</td>\n",
       "      <td>Craft-repair</td>\n",
       "      <td>Unmarried</td>\n",
       "      <td>White</td>\n",
       "      <td>Male</td>\n",
       "      <td>0</td>\n",
       "      <td>0</td>\n",
       "      <td>40</td>\n",
       "      <td>United-States</td>\n",
       "      <td>&lt;=50K</td>\n",
       "    </tr>\n",
       "    <tr>\n",
       "      <th>2</th>\n",
       "      <td>26</td>\n",
       "      <td>Private</td>\n",
       "      <td>293690</td>\n",
       "      <td>Bachelors</td>\n",
       "      <td>13</td>\n",
       "      <td>Married-civ-spouse</td>\n",
       "      <td>Craft-repair</td>\n",
       "      <td>Husband</td>\n",
       "      <td>White</td>\n",
       "      <td>Male</td>\n",
       "      <td>0</td>\n",
       "      <td>0</td>\n",
       "      <td>58</td>\n",
       "      <td>United-States</td>\n",
       "      <td>&gt;50K</td>\n",
       "    </tr>\n",
       "    <tr>\n",
       "      <th>3</th>\n",
       "      <td>22</td>\n",
       "      <td>?</td>\n",
       "      <td>354351</td>\n",
       "      <td>Some-college</td>\n",
       "      <td>10</td>\n",
       "      <td>Never-married</td>\n",
       "      <td>?</td>\n",
       "      <td>Not-in-family</td>\n",
       "      <td>White</td>\n",
       "      <td>Male</td>\n",
       "      <td>0</td>\n",
       "      <td>0</td>\n",
       "      <td>40</td>\n",
       "      <td>United-States</td>\n",
       "      <td>&lt;=50K</td>\n",
       "    </tr>\n",
       "    <tr>\n",
       "      <th>4</th>\n",
       "      <td>24</td>\n",
       "      <td>Private</td>\n",
       "      <td>196675</td>\n",
       "      <td>HS-grad</td>\n",
       "      <td>9</td>\n",
       "      <td>Married-civ-spouse</td>\n",
       "      <td>Handlers-cleaners</td>\n",
       "      <td>Husband</td>\n",
       "      <td>Black</td>\n",
       "      <td>Male</td>\n",
       "      <td>0</td>\n",
       "      <td>0</td>\n",
       "      <td>70</td>\n",
       "      <td>United-States</td>\n",
       "      <td>&lt;=50K</td>\n",
       "    </tr>\n",
       "  </tbody>\n",
       "</table>\n",
       "</div>"
      ],
      "text/plain": [
       "   age   workclass   fnlwgt      education   education-num  \\\n",
       "0   41   Local-gov    32185        Masters              14   \n",
       "1   44     Private   126701        HS-grad               9   \n",
       "2   26     Private   293690      Bachelors              13   \n",
       "3   22           ?   354351   Some-college              10   \n",
       "4   24     Private   196675        HS-grad               9   \n",
       "\n",
       "        marital-status          occupation    relationship    race    sex  \\\n",
       "0   Married-civ-spouse     Exec-managerial         Husband   White   Male   \n",
       "1             Divorced        Craft-repair       Unmarried   White   Male   \n",
       "2   Married-civ-spouse        Craft-repair         Husband   White   Male   \n",
       "3        Never-married                   ?   Not-in-family   White   Male   \n",
       "4   Married-civ-spouse   Handlers-cleaners         Husband   Black   Male   \n",
       "\n",
       "    capital-gain   capital-loss   hours-per-week  native-country  \\\n",
       "0              0              0               40   United-States   \n",
       "1              0              0               40   United-States   \n",
       "2              0              0               58   United-States   \n",
       "3              0              0               40   United-States   \n",
       "4              0              0               70   United-States   \n",
       "\n",
       "   Income-category  \n",
       "0             >50K  \n",
       "1            <=50K  \n",
       "2             >50K  \n",
       "3            <=50K  \n",
       "4            <=50K  "
      ]
     },
     "execution_count": 221,
     "metadata": {},
     "output_type": "execute_result"
    }
   ],
   "source": [
    "import pandas as pd\n",
    "import numpy as np\n",
    "import matplotlib\n",
    "import pandas as pd\n",
    "import matplotlib.pyplot as plot\n",
    "from sklearn.feature_selection import chi2, mutual_info_classif, SelectKBest\n",
    "from sklearn import datasets\n",
    "from sklearn import model_selection\n",
    "from sklearn.model_selection import train_test_split\n",
    "from sklearn.metrics import accuracy_score\n",
    "from mlxtend.feature_selection import SequentialFeatureSelector as SFS\n",
    "from mlxtend.plotting import plot_sequential_feature_selection as plot_sfs\n",
    "from mlxtend.plotting import plot_sequential_feature_selection as plot_sfs\n",
    "from sklearn.preprocessing import LabelEncoder, OrdinalEncoder, OneHotEncoder\n",
    "from sklearn.dummy import DummyClassifier\n",
    "from sklearn.model_selection import KFold\n",
    "from sklearn.model_selection import cross_validate\n",
    "from sklearn.metrics import plot_roc_curve\n",
    "from sklearn.model_selection import cross_val_score\n",
    "from sklearn.ensemble import BaggingClassifier\n",
    "from sklearn.neighbors import KNeighborsClassifier\n",
    "from sklearn.tree import DecisionTreeClassifier\n",
    "from sklearn.neural_network import MLPClassifier\n",
    "\n",
    "#Reading in dataframe from csv\n",
    "df = pd.read_csv(\"US_census_18414616.csv\")\n",
    "df.head()"
   ]
  },
  {
   "cell_type": "code",
   "execution_count": 222,
   "id": "d874f2fc",
   "metadata": {},
   "outputs": [
    {
     "data": {
      "text/plain": [
       "age                  int64\n",
       " workclass          object\n",
       " fnlwgt              int64\n",
       " education          object\n",
       " education-num       int64\n",
       " marital-status     object\n",
       " occupation         object\n",
       " relationship       object\n",
       " race               object\n",
       " sex                object\n",
       " capital-gain        int64\n",
       " capital-loss        int64\n",
       " hours-per-week      int64\n",
       " native-country     object\n",
       " Income-category    object\n",
       "dtype: object"
      ]
     },
     "execution_count": 222,
     "metadata": {},
     "output_type": "execute_result"
    }
   ],
   "source": [
    "#Checking data types of each column\n",
    "df.dtypes"
   ]
  },
  {
   "cell_type": "code",
   "execution_count": 223,
   "id": "1cb0dd74",
   "metadata": {},
   "outputs": [
    {
     "data": {
      "text/plain": [
       "age                    int64\n",
       " workclass          category\n",
       " fnlwgt                int64\n",
       " education          category\n",
       " education-num         int64\n",
       " marital-status     category\n",
       " occupation         category\n",
       " relationship       category\n",
       " race               category\n",
       " sex                category\n",
       " capital-gain          int64\n",
       " capital-loss          int64\n",
       " hours-per-week        int64\n",
       " native-country     category\n",
       " Income-category    category\n",
       "dtype: object"
      ]
     },
     "execution_count": 223,
     "metadata": {},
     "output_type": "execute_result"
    }
   ],
   "source": [
    "#Convert object columns to category\n",
    "for column in df.select_dtypes(['object']).columns:\n",
    "    df[column] = df[column].astype('category')\n",
    "df.dtypes"
   ]
  },
  {
   "cell_type": "code",
   "execution_count": 224,
   "id": "fd8c0741",
   "metadata": {},
   "outputs": [
    {
     "data": {
      "text/html": [
       "<div>\n",
       "<style scoped>\n",
       "    .dataframe tbody tr th:only-of-type {\n",
       "        vertical-align: middle;\n",
       "    }\n",
       "\n",
       "    .dataframe tbody tr th {\n",
       "        vertical-align: top;\n",
       "    }\n",
       "\n",
       "    .dataframe thead th {\n",
       "        text-align: right;\n",
       "    }\n",
       "</style>\n",
       "<table border=\"1\" class=\"dataframe\">\n",
       "  <thead>\n",
       "    <tr style=\"text-align: right;\">\n",
       "      <th></th>\n",
       "      <th>age</th>\n",
       "      <th>workclass</th>\n",
       "      <th>fnlwgt</th>\n",
       "      <th>education</th>\n",
       "      <th>education-num</th>\n",
       "      <th>marital-status</th>\n",
       "      <th>occupation</th>\n",
       "      <th>relationship</th>\n",
       "      <th>race</th>\n",
       "      <th>sex</th>\n",
       "      <th>capital-gain</th>\n",
       "      <th>capital-loss</th>\n",
       "      <th>hours-per-week</th>\n",
       "      <th>native-country</th>\n",
       "      <th>Income-category</th>\n",
       "    </tr>\n",
       "  </thead>\n",
       "  <tbody>\n",
       "    <tr>\n",
       "      <th>0</th>\n",
       "      <td>41</td>\n",
       "      <td>Local-gov</td>\n",
       "      <td>32185</td>\n",
       "      <td>Masters</td>\n",
       "      <td>14</td>\n",
       "      <td>Married-civ-spouse</td>\n",
       "      <td>Exec-managerial</td>\n",
       "      <td>Husband</td>\n",
       "      <td>White</td>\n",
       "      <td>Male</td>\n",
       "      <td>0</td>\n",
       "      <td>0</td>\n",
       "      <td>40</td>\n",
       "      <td>United-States</td>\n",
       "      <td>&gt;50K</td>\n",
       "    </tr>\n",
       "    <tr>\n",
       "      <th>1</th>\n",
       "      <td>44</td>\n",
       "      <td>Private</td>\n",
       "      <td>126701</td>\n",
       "      <td>HS-grad</td>\n",
       "      <td>9</td>\n",
       "      <td>Divorced</td>\n",
       "      <td>Craft-repair</td>\n",
       "      <td>Unmarried</td>\n",
       "      <td>White</td>\n",
       "      <td>Male</td>\n",
       "      <td>0</td>\n",
       "      <td>0</td>\n",
       "      <td>40</td>\n",
       "      <td>United-States</td>\n",
       "      <td>&lt;=50K</td>\n",
       "    </tr>\n",
       "    <tr>\n",
       "      <th>2</th>\n",
       "      <td>26</td>\n",
       "      <td>Private</td>\n",
       "      <td>293690</td>\n",
       "      <td>Bachelors</td>\n",
       "      <td>13</td>\n",
       "      <td>Married-civ-spouse</td>\n",
       "      <td>Craft-repair</td>\n",
       "      <td>Husband</td>\n",
       "      <td>White</td>\n",
       "      <td>Male</td>\n",
       "      <td>0</td>\n",
       "      <td>0</td>\n",
       "      <td>58</td>\n",
       "      <td>United-States</td>\n",
       "      <td>&gt;50K</td>\n",
       "    </tr>\n",
       "    <tr>\n",
       "      <th>3</th>\n",
       "      <td>22</td>\n",
       "      <td>?</td>\n",
       "      <td>354351</td>\n",
       "      <td>Some-college</td>\n",
       "      <td>10</td>\n",
       "      <td>Never-married</td>\n",
       "      <td>?</td>\n",
       "      <td>Not-in-family</td>\n",
       "      <td>White</td>\n",
       "      <td>Male</td>\n",
       "      <td>0</td>\n",
       "      <td>0</td>\n",
       "      <td>40</td>\n",
       "      <td>United-States</td>\n",
       "      <td>&lt;=50K</td>\n",
       "    </tr>\n",
       "    <tr>\n",
       "      <th>4</th>\n",
       "      <td>24</td>\n",
       "      <td>Private</td>\n",
       "      <td>196675</td>\n",
       "      <td>HS-grad</td>\n",
       "      <td>9</td>\n",
       "      <td>Married-civ-spouse</td>\n",
       "      <td>Handlers-cleaners</td>\n",
       "      <td>Husband</td>\n",
       "      <td>Black</td>\n",
       "      <td>Male</td>\n",
       "      <td>0</td>\n",
       "      <td>0</td>\n",
       "      <td>70</td>\n",
       "      <td>United-States</td>\n",
       "      <td>&lt;=50K</td>\n",
       "    </tr>\n",
       "  </tbody>\n",
       "</table>\n",
       "</div>"
      ],
      "text/plain": [
       "   age   workclass  fnlwgt      education  education-num       marital-status  \\\n",
       "0   41   Local-gov   32185        Masters             14   Married-civ-spouse   \n",
       "1   44     Private  126701        HS-grad              9             Divorced   \n",
       "2   26     Private  293690      Bachelors             13   Married-civ-spouse   \n",
       "3   22           ?  354351   Some-college             10        Never-married   \n",
       "4   24     Private  196675        HS-grad              9   Married-civ-spouse   \n",
       "\n",
       "           occupation    relationship    race    sex  capital-gain  \\\n",
       "0     Exec-managerial         Husband   White   Male             0   \n",
       "1        Craft-repair       Unmarried   White   Male             0   \n",
       "2        Craft-repair         Husband   White   Male             0   \n",
       "3                   ?   Not-in-family   White   Male             0   \n",
       "4   Handlers-cleaners         Husband   Black   Male             0   \n",
       "\n",
       "   capital-loss  hours-per-week  native-country Income-category  \n",
       "0             0              40   United-States            >50K  \n",
       "1             0              40   United-States           <=50K  \n",
       "2             0              58   United-States            >50K  \n",
       "3             0              40   United-States           <=50K  \n",
       "4             0              70   United-States           <=50K  "
      ]
     },
     "execution_count": 224,
     "metadata": {},
     "output_type": "execute_result"
    }
   ],
   "source": [
    "# Clean the column names to remove white space after or in the name\n",
    "df.columns = df.columns.str.replace(' ', '')\n",
    "df.head()"
   ]
  },
  {
   "cell_type": "code",
   "execution_count": 225,
   "id": "9863b61f",
   "metadata": {},
   "outputs": [
    {
     "data": {
      "text/html": [
       "<div>\n",
       "<style scoped>\n",
       "    .dataframe tbody tr th:only-of-type {\n",
       "        vertical-align: middle;\n",
       "    }\n",
       "\n",
       "    .dataframe tbody tr th {\n",
       "        vertical-align: top;\n",
       "    }\n",
       "\n",
       "    .dataframe thead th {\n",
       "        text-align: right;\n",
       "    }\n",
       "</style>\n",
       "<table border=\"1\" class=\"dataframe\">\n",
       "  <thead>\n",
       "    <tr style=\"text-align: right;\">\n",
       "      <th></th>\n",
       "      <th>age</th>\n",
       "      <th>workclass</th>\n",
       "      <th>education-num</th>\n",
       "      <th>marital-status</th>\n",
       "      <th>occupation</th>\n",
       "      <th>relationship</th>\n",
       "      <th>race</th>\n",
       "      <th>sex</th>\n",
       "      <th>capital-gain</th>\n",
       "      <th>capital-loss</th>\n",
       "      <th>hours-per-week</th>\n",
       "      <th>native-country</th>\n",
       "      <th>Income-category</th>\n",
       "    </tr>\n",
       "  </thead>\n",
       "  <tbody>\n",
       "    <tr>\n",
       "      <th>0</th>\n",
       "      <td>41</td>\n",
       "      <td>Local-gov</td>\n",
       "      <td>14</td>\n",
       "      <td>Married-civ-spouse</td>\n",
       "      <td>Exec-managerial</td>\n",
       "      <td>Husband</td>\n",
       "      <td>White</td>\n",
       "      <td>Male</td>\n",
       "      <td>0</td>\n",
       "      <td>0</td>\n",
       "      <td>40</td>\n",
       "      <td>United-States</td>\n",
       "      <td>&gt;50K</td>\n",
       "    </tr>\n",
       "    <tr>\n",
       "      <th>1</th>\n",
       "      <td>44</td>\n",
       "      <td>Private</td>\n",
       "      <td>9</td>\n",
       "      <td>Divorced</td>\n",
       "      <td>Craft-repair</td>\n",
       "      <td>Unmarried</td>\n",
       "      <td>White</td>\n",
       "      <td>Male</td>\n",
       "      <td>0</td>\n",
       "      <td>0</td>\n",
       "      <td>40</td>\n",
       "      <td>United-States</td>\n",
       "      <td>&lt;=50K</td>\n",
       "    </tr>\n",
       "    <tr>\n",
       "      <th>2</th>\n",
       "      <td>26</td>\n",
       "      <td>Private</td>\n",
       "      <td>13</td>\n",
       "      <td>Married-civ-spouse</td>\n",
       "      <td>Craft-repair</td>\n",
       "      <td>Husband</td>\n",
       "      <td>White</td>\n",
       "      <td>Male</td>\n",
       "      <td>0</td>\n",
       "      <td>0</td>\n",
       "      <td>58</td>\n",
       "      <td>United-States</td>\n",
       "      <td>&gt;50K</td>\n",
       "    </tr>\n",
       "    <tr>\n",
       "      <th>3</th>\n",
       "      <td>22</td>\n",
       "      <td>?</td>\n",
       "      <td>10</td>\n",
       "      <td>Never-married</td>\n",
       "      <td>?</td>\n",
       "      <td>Not-in-family</td>\n",
       "      <td>White</td>\n",
       "      <td>Male</td>\n",
       "      <td>0</td>\n",
       "      <td>0</td>\n",
       "      <td>40</td>\n",
       "      <td>United-States</td>\n",
       "      <td>&lt;=50K</td>\n",
       "    </tr>\n",
       "    <tr>\n",
       "      <th>4</th>\n",
       "      <td>24</td>\n",
       "      <td>Private</td>\n",
       "      <td>9</td>\n",
       "      <td>Married-civ-spouse</td>\n",
       "      <td>Handlers-cleaners</td>\n",
       "      <td>Husband</td>\n",
       "      <td>Black</td>\n",
       "      <td>Male</td>\n",
       "      <td>0</td>\n",
       "      <td>0</td>\n",
       "      <td>70</td>\n",
       "      <td>United-States</td>\n",
       "      <td>&lt;=50K</td>\n",
       "    </tr>\n",
       "  </tbody>\n",
       "</table>\n",
       "</div>"
      ],
      "text/plain": [
       "   age   workclass  education-num       marital-status          occupation  \\\n",
       "0   41   Local-gov             14   Married-civ-spouse     Exec-managerial   \n",
       "1   44     Private              9             Divorced        Craft-repair   \n",
       "2   26     Private             13   Married-civ-spouse        Craft-repair   \n",
       "3   22           ?             10        Never-married                   ?   \n",
       "4   24     Private              9   Married-civ-spouse   Handlers-cleaners   \n",
       "\n",
       "     relationship    race    sex  capital-gain  capital-loss  hours-per-week  \\\n",
       "0         Husband   White   Male             0             0              40   \n",
       "1       Unmarried   White   Male             0             0              40   \n",
       "2         Husband   White   Male             0             0              58   \n",
       "3   Not-in-family   White   Male             0             0              40   \n",
       "4         Husband   Black   Male             0             0              70   \n",
       "\n",
       "   native-country Income-category  \n",
       "0   United-States            >50K  \n",
       "1   United-States           <=50K  \n",
       "2   United-States            >50K  \n",
       "3   United-States           <=50K  \n",
       "4   United-States           <=50K  "
      ]
     },
     "execution_count": 225,
     "metadata": {},
     "output_type": "execute_result"
    }
   ],
   "source": [
    "#We can drop the \"education\" column as the \"education-num\" already covers the data in a numeric representation.\n",
    "#Similarly, we can remove fnlwgt as it can lead to overfitting in the future and isn't as vital as some other columns.\n",
    "\n",
    "df = df.drop(columns = [\"education\"])\n",
    "df = df.drop(columns = [\"fnlwgt\"])\n",
    "df.head()"
   ]
  },
  {
   "cell_type": "code",
   "execution_count": 226,
   "id": "56b3047d",
   "metadata": {},
   "outputs": [
    {
     "data": {
      "text/html": [
       "<div>\n",
       "<style scoped>\n",
       "    .dataframe tbody tr th:only-of-type {\n",
       "        vertical-align: middle;\n",
       "    }\n",
       "\n",
       "    .dataframe tbody tr th {\n",
       "        vertical-align: top;\n",
       "    }\n",
       "\n",
       "    .dataframe thead th {\n",
       "        text-align: right;\n",
       "    }\n",
       "</style>\n",
       "<table border=\"1\" class=\"dataframe\">\n",
       "  <thead>\n",
       "    <tr style=\"text-align: right;\">\n",
       "      <th></th>\n",
       "      <th>age</th>\n",
       "      <th>workclass</th>\n",
       "      <th>education-level</th>\n",
       "      <th>marital-status</th>\n",
       "      <th>occupation</th>\n",
       "      <th>relationship</th>\n",
       "      <th>race</th>\n",
       "      <th>sex</th>\n",
       "      <th>capital-gain</th>\n",
       "      <th>capital-loss</th>\n",
       "      <th>hours-per-week</th>\n",
       "      <th>native-country</th>\n",
       "      <th>Income-category</th>\n",
       "    </tr>\n",
       "  </thead>\n",
       "  <tbody>\n",
       "    <tr>\n",
       "      <th>0</th>\n",
       "      <td>41</td>\n",
       "      <td>Local-gov</td>\n",
       "      <td>14</td>\n",
       "      <td>Married-civ-spouse</td>\n",
       "      <td>Exec-managerial</td>\n",
       "      <td>Husband</td>\n",
       "      <td>White</td>\n",
       "      <td>Male</td>\n",
       "      <td>0</td>\n",
       "      <td>0</td>\n",
       "      <td>40</td>\n",
       "      <td>United-States</td>\n",
       "      <td>&gt;50K</td>\n",
       "    </tr>\n",
       "    <tr>\n",
       "      <th>1</th>\n",
       "      <td>44</td>\n",
       "      <td>Private</td>\n",
       "      <td>9</td>\n",
       "      <td>Divorced</td>\n",
       "      <td>Craft-repair</td>\n",
       "      <td>Unmarried</td>\n",
       "      <td>White</td>\n",
       "      <td>Male</td>\n",
       "      <td>0</td>\n",
       "      <td>0</td>\n",
       "      <td>40</td>\n",
       "      <td>United-States</td>\n",
       "      <td>&lt;=50K</td>\n",
       "    </tr>\n",
       "    <tr>\n",
       "      <th>2</th>\n",
       "      <td>26</td>\n",
       "      <td>Private</td>\n",
       "      <td>13</td>\n",
       "      <td>Married-civ-spouse</td>\n",
       "      <td>Craft-repair</td>\n",
       "      <td>Husband</td>\n",
       "      <td>White</td>\n",
       "      <td>Male</td>\n",
       "      <td>0</td>\n",
       "      <td>0</td>\n",
       "      <td>58</td>\n",
       "      <td>United-States</td>\n",
       "      <td>&gt;50K</td>\n",
       "    </tr>\n",
       "    <tr>\n",
       "      <th>3</th>\n",
       "      <td>22</td>\n",
       "      <td>?</td>\n",
       "      <td>10</td>\n",
       "      <td>Never-married</td>\n",
       "      <td>?</td>\n",
       "      <td>Not-in-family</td>\n",
       "      <td>White</td>\n",
       "      <td>Male</td>\n",
       "      <td>0</td>\n",
       "      <td>0</td>\n",
       "      <td>40</td>\n",
       "      <td>United-States</td>\n",
       "      <td>&lt;=50K</td>\n",
       "    </tr>\n",
       "    <tr>\n",
       "      <th>4</th>\n",
       "      <td>24</td>\n",
       "      <td>Private</td>\n",
       "      <td>9</td>\n",
       "      <td>Married-civ-spouse</td>\n",
       "      <td>Handlers-cleaners</td>\n",
       "      <td>Husband</td>\n",
       "      <td>Black</td>\n",
       "      <td>Male</td>\n",
       "      <td>0</td>\n",
       "      <td>0</td>\n",
       "      <td>70</td>\n",
       "      <td>United-States</td>\n",
       "      <td>&lt;=50K</td>\n",
       "    </tr>\n",
       "  </tbody>\n",
       "</table>\n",
       "</div>"
      ],
      "text/plain": [
       "   age   workclass  education-level       marital-status          occupation  \\\n",
       "0   41   Local-gov               14   Married-civ-spouse     Exec-managerial   \n",
       "1   44     Private                9             Divorced        Craft-repair   \n",
       "2   26     Private               13   Married-civ-spouse        Craft-repair   \n",
       "3   22           ?               10        Never-married                   ?   \n",
       "4   24     Private                9   Married-civ-spouse   Handlers-cleaners   \n",
       "\n",
       "     relationship    race    sex  capital-gain  capital-loss  hours-per-week  \\\n",
       "0         Husband   White   Male             0             0              40   \n",
       "1       Unmarried   White   Male             0             0              40   \n",
       "2         Husband   White   Male             0             0              58   \n",
       "3   Not-in-family   White   Male             0             0              40   \n",
       "4         Husband   Black   Male             0             0              70   \n",
       "\n",
       "   native-country Income-category  \n",
       "0   United-States            >50K  \n",
       "1   United-States           <=50K  \n",
       "2   United-States            >50K  \n",
       "3   United-States           <=50K  \n",
       "4   United-States           <=50K  "
      ]
     },
     "execution_count": 226,
     "metadata": {},
     "output_type": "execute_result"
    }
   ],
   "source": [
    "#Renaming \"education-num\" column to make the name more accurate\n",
    "\n",
    "df = df.rename({\"education-num\" : \"education-level\"}, axis=1)\n",
    "df.head()"
   ]
  },
  {
   "cell_type": "code",
   "execution_count": 227,
   "id": "ddbb2fc1",
   "metadata": {},
   "outputs": [
    {
     "data": {
      "text/plain": [
       "2"
      ]
     },
     "execution_count": 227,
     "metadata": {},
     "output_type": "execute_result"
    }
   ],
   "source": [
    "#We should check the Income-category column to see if the only 2 possible outcomes are \">50K\" or \"<=50K\"\n",
    "\n",
    "df[\"Income-category\"].nunique()"
   ]
  },
  {
   "cell_type": "code",
   "execution_count": 228,
   "id": "eacd12b5",
   "metadata": {},
   "outputs": [
    {
     "data": {
      "text/html": [
       "<div>\n",
       "<style scoped>\n",
       "    .dataframe tbody tr th:only-of-type {\n",
       "        vertical-align: middle;\n",
       "    }\n",
       "\n",
       "    .dataframe tbody tr th {\n",
       "        vertical-align: top;\n",
       "    }\n",
       "\n",
       "    .dataframe thead th {\n",
       "        text-align: right;\n",
       "    }\n",
       "</style>\n",
       "<table border=\"1\" class=\"dataframe\">\n",
       "  <thead>\n",
       "    <tr style=\"text-align: right;\">\n",
       "      <th></th>\n",
       "      <th>age</th>\n",
       "      <th>workclass</th>\n",
       "      <th>education-level</th>\n",
       "      <th>marital-status</th>\n",
       "      <th>occupation</th>\n",
       "      <th>relationship</th>\n",
       "      <th>race</th>\n",
       "      <th>sex</th>\n",
       "      <th>capital-gain</th>\n",
       "      <th>capital-loss</th>\n",
       "      <th>hours-per-week</th>\n",
       "      <th>native-country</th>\n",
       "      <th>Income-category</th>\n",
       "    </tr>\n",
       "  </thead>\n",
       "  <tbody>\n",
       "    <tr>\n",
       "      <th>0</th>\n",
       "      <td>41</td>\n",
       "      <td>Local-gov</td>\n",
       "      <td>14</td>\n",
       "      <td>Married-civ-spouse</td>\n",
       "      <td>Exec-managerial</td>\n",
       "      <td>Husband</td>\n",
       "      <td>White</td>\n",
       "      <td>Male</td>\n",
       "      <td>0</td>\n",
       "      <td>0</td>\n",
       "      <td>40</td>\n",
       "      <td>United-States</td>\n",
       "      <td>1</td>\n",
       "    </tr>\n",
       "    <tr>\n",
       "      <th>1</th>\n",
       "      <td>44</td>\n",
       "      <td>Private</td>\n",
       "      <td>9</td>\n",
       "      <td>Divorced</td>\n",
       "      <td>Craft-repair</td>\n",
       "      <td>Unmarried</td>\n",
       "      <td>White</td>\n",
       "      <td>Male</td>\n",
       "      <td>0</td>\n",
       "      <td>0</td>\n",
       "      <td>40</td>\n",
       "      <td>United-States</td>\n",
       "      <td>0</td>\n",
       "    </tr>\n",
       "    <tr>\n",
       "      <th>2</th>\n",
       "      <td>26</td>\n",
       "      <td>Private</td>\n",
       "      <td>13</td>\n",
       "      <td>Married-civ-spouse</td>\n",
       "      <td>Craft-repair</td>\n",
       "      <td>Husband</td>\n",
       "      <td>White</td>\n",
       "      <td>Male</td>\n",
       "      <td>0</td>\n",
       "      <td>0</td>\n",
       "      <td>58</td>\n",
       "      <td>United-States</td>\n",
       "      <td>1</td>\n",
       "    </tr>\n",
       "    <tr>\n",
       "      <th>3</th>\n",
       "      <td>22</td>\n",
       "      <td>?</td>\n",
       "      <td>10</td>\n",
       "      <td>Never-married</td>\n",
       "      <td>?</td>\n",
       "      <td>Not-in-family</td>\n",
       "      <td>White</td>\n",
       "      <td>Male</td>\n",
       "      <td>0</td>\n",
       "      <td>0</td>\n",
       "      <td>40</td>\n",
       "      <td>United-States</td>\n",
       "      <td>0</td>\n",
       "    </tr>\n",
       "    <tr>\n",
       "      <th>4</th>\n",
       "      <td>24</td>\n",
       "      <td>Private</td>\n",
       "      <td>9</td>\n",
       "      <td>Married-civ-spouse</td>\n",
       "      <td>Handlers-cleaners</td>\n",
       "      <td>Husband</td>\n",
       "      <td>Black</td>\n",
       "      <td>Male</td>\n",
       "      <td>0</td>\n",
       "      <td>0</td>\n",
       "      <td>70</td>\n",
       "      <td>United-States</td>\n",
       "      <td>0</td>\n",
       "    </tr>\n",
       "  </tbody>\n",
       "</table>\n",
       "</div>"
      ],
      "text/plain": [
       "   age   workclass  education-level       marital-status          occupation  \\\n",
       "0   41   Local-gov               14   Married-civ-spouse     Exec-managerial   \n",
       "1   44     Private                9             Divorced        Craft-repair   \n",
       "2   26     Private               13   Married-civ-spouse        Craft-repair   \n",
       "3   22           ?               10        Never-married                   ?   \n",
       "4   24     Private                9   Married-civ-spouse   Handlers-cleaners   \n",
       "\n",
       "     relationship    race    sex  capital-gain  capital-loss  hours-per-week  \\\n",
       "0         Husband   White   Male             0             0              40   \n",
       "1       Unmarried   White   Male             0             0              40   \n",
       "2         Husband   White   Male             0             0              58   \n",
       "3   Not-in-family   White   Male             0             0              40   \n",
       "4         Husband   Black   Male             0             0              70   \n",
       "\n",
       "   native-country  Income-category  \n",
       "0   United-States                1  \n",
       "1   United-States                0  \n",
       "2   United-States                1  \n",
       "3   United-States                0  \n",
       "4   United-States                0  "
      ]
     },
     "execution_count": 228,
     "metadata": {},
     "output_type": "execute_result"
    }
   ],
   "source": [
    "#The Income-category can be converted to binary values to make training easier\n",
    "\n",
    "label_encoder = LabelEncoder()\n",
    "df[\"Income-category\"] = label_encoder.fit_transform(df[\"Income-category\"]) \n",
    "\n",
    "df.head()"
   ]
  },
  {
   "cell_type": "code",
   "execution_count": 229,
   "id": "1ab1462b",
   "metadata": {},
   "outputs": [
    {
     "name": "stdout",
     "output_type": "stream",
     "text": [
      "workclass 0\n",
      "marital-status 0\n",
      "occupation 0\n",
      "relationship 0\n",
      "race 0\n",
      "sex 0\n",
      "native-country 0\n"
     ]
    }
   ],
   "source": [
    "#Checking how many entries per column are empty or not defined\n",
    "\n",
    "for column in df.select_dtypes(['category']).columns:\n",
    "    print(column, df[column].isnull().sum())\n",
    "\n",
    "#We can see that no cells have null values but we know that there are ? present to represent missing data"
   ]
  },
  {
   "cell_type": "code",
   "execution_count": 230,
   "id": "a189f9fe",
   "metadata": {},
   "outputs": [
    {
     "name": "stdout",
     "output_type": "stream",
     "text": [
      "workclass 254\n",
      "marital-status 0\n",
      "occupation 255\n",
      "relationship 0\n",
      "race 0\n",
      "sex 0\n",
      "native-country 87\n"
     ]
    }
   ],
   "source": [
    "#Therefore, we will check how many ? exist in all categorical column data cells\n",
    "\n",
    "for column in df.select_dtypes(['category']).columns:\n",
    "    print(column, df[column].str.contains(r'\\?').sum())"
   ]
  },
  {
   "cell_type": "code",
   "execution_count": 231,
   "id": "320bbd46",
   "metadata": {},
   "outputs": [],
   "source": [
    "#In the best case scenario, 87 rows are missing data and in the worst case it is 255. Removing any row with even 1 ? value would\n",
    "#be too detrimental on the classification. Therefore we will keep the ? in the data set."
   ]
  },
  {
   "cell_type": "code",
   "execution_count": 232,
   "id": "42f6b812",
   "metadata": {},
   "outputs": [
    {
     "data": {
      "text/html": [
       "<div>\n",
       "<style scoped>\n",
       "    .dataframe tbody tr th:only-of-type {\n",
       "        vertical-align: middle;\n",
       "    }\n",
       "\n",
       "    .dataframe tbody tr th {\n",
       "        vertical-align: top;\n",
       "    }\n",
       "\n",
       "    .dataframe thead th {\n",
       "        text-align: right;\n",
       "    }\n",
       "</style>\n",
       "<table border=\"1\" class=\"dataframe\">\n",
       "  <thead>\n",
       "    <tr style=\"text-align: right;\">\n",
       "      <th></th>\n",
       "      <th>age</th>\n",
       "      <th>workclass</th>\n",
       "      <th>education-level</th>\n",
       "      <th>marital-status</th>\n",
       "      <th>occupation</th>\n",
       "      <th>relationship</th>\n",
       "      <th>race</th>\n",
       "      <th>sex</th>\n",
       "      <th>capital-gain</th>\n",
       "      <th>capital-loss</th>\n",
       "      <th>hours-per-week</th>\n",
       "      <th>native-country</th>\n",
       "      <th>Income-category</th>\n",
       "    </tr>\n",
       "  </thead>\n",
       "  <tbody>\n",
       "    <tr>\n",
       "      <th>0</th>\n",
       "      <td>0.169725</td>\n",
       "      <td>Local-gov</td>\n",
       "      <td>1.571060</td>\n",
       "      <td>Married-civ-spouse</td>\n",
       "      <td>Exec-managerial</td>\n",
       "      <td>Husband</td>\n",
       "      <td>White</td>\n",
       "      <td>Male</td>\n",
       "      <td>-0.148992</td>\n",
       "      <td>-0.211923</td>\n",
       "      <td>-0.035010</td>\n",
       "      <td>United-States</td>\n",
       "      <td>1</td>\n",
       "    </tr>\n",
       "    <tr>\n",
       "      <th>1</th>\n",
       "      <td>0.391087</td>\n",
       "      <td>Private</td>\n",
       "      <td>-0.411500</td>\n",
       "      <td>Divorced</td>\n",
       "      <td>Craft-repair</td>\n",
       "      <td>Unmarried</td>\n",
       "      <td>White</td>\n",
       "      <td>Male</td>\n",
       "      <td>-0.148992</td>\n",
       "      <td>-0.211923</td>\n",
       "      <td>-0.035010</td>\n",
       "      <td>United-States</td>\n",
       "      <td>0</td>\n",
       "    </tr>\n",
       "    <tr>\n",
       "      <th>2</th>\n",
       "      <td>-0.937083</td>\n",
       "      <td>Private</td>\n",
       "      <td>1.174548</td>\n",
       "      <td>Married-civ-spouse</td>\n",
       "      <td>Craft-repair</td>\n",
       "      <td>Husband</td>\n",
       "      <td>White</td>\n",
       "      <td>Male</td>\n",
       "      <td>-0.148992</td>\n",
       "      <td>-0.211923</td>\n",
       "      <td>1.460414</td>\n",
       "      <td>United-States</td>\n",
       "      <td>1</td>\n",
       "    </tr>\n",
       "    <tr>\n",
       "      <th>3</th>\n",
       "      <td>-1.232232</td>\n",
       "      <td>?</td>\n",
       "      <td>-0.014988</td>\n",
       "      <td>Never-married</td>\n",
       "      <td>?</td>\n",
       "      <td>Not-in-family</td>\n",
       "      <td>White</td>\n",
       "      <td>Male</td>\n",
       "      <td>-0.148992</td>\n",
       "      <td>-0.211923</td>\n",
       "      <td>-0.035010</td>\n",
       "      <td>United-States</td>\n",
       "      <td>0</td>\n",
       "    </tr>\n",
       "    <tr>\n",
       "      <th>4</th>\n",
       "      <td>-1.084658</td>\n",
       "      <td>Private</td>\n",
       "      <td>-0.411500</td>\n",
       "      <td>Married-civ-spouse</td>\n",
       "      <td>Handlers-cleaners</td>\n",
       "      <td>Husband</td>\n",
       "      <td>Black</td>\n",
       "      <td>Male</td>\n",
       "      <td>-0.148992</td>\n",
       "      <td>-0.211923</td>\n",
       "      <td>2.457362</td>\n",
       "      <td>United-States</td>\n",
       "      <td>0</td>\n",
       "    </tr>\n",
       "  </tbody>\n",
       "</table>\n",
       "</div>"
      ],
      "text/plain": [
       "        age   workclass  education-level       marital-status  \\\n",
       "0  0.169725   Local-gov         1.571060   Married-civ-spouse   \n",
       "1  0.391087     Private        -0.411500             Divorced   \n",
       "2 -0.937083     Private         1.174548   Married-civ-spouse   \n",
       "3 -1.232232           ?        -0.014988        Never-married   \n",
       "4 -1.084658     Private        -0.411500   Married-civ-spouse   \n",
       "\n",
       "           occupation    relationship    race    sex  capital-gain  \\\n",
       "0     Exec-managerial         Husband   White   Male     -0.148992   \n",
       "1        Craft-repair       Unmarried   White   Male     -0.148992   \n",
       "2        Craft-repair         Husband   White   Male     -0.148992   \n",
       "3                   ?   Not-in-family   White   Male     -0.148992   \n",
       "4   Handlers-cleaners         Husband   Black   Male     -0.148992   \n",
       "\n",
       "   capital-loss  hours-per-week  native-country  Income-category  \n",
       "0     -0.211923       -0.035010   United-States                1  \n",
       "1     -0.211923       -0.035010   United-States                0  \n",
       "2     -0.211923        1.460414   United-States                1  \n",
       "3     -0.211923       -0.035010   United-States                0  \n",
       "4     -0.211923        2.457362   United-States                0  "
      ]
     },
     "execution_count": 232,
     "metadata": {},
     "output_type": "execute_result"
    }
   ],
   "source": [
    "#We can also normalize the numeric features to make the classification more accurate and z-score normalization handles outliers\n",
    "#well\n",
    "\n",
    "for column in df.select_dtypes(['int64']).columns:\n",
    "    df[column] = (df[column] - df[column].mean())/df[column].std()\n",
    "df.head()"
   ]
  },
  {
   "cell_type": "code",
   "execution_count": 233,
   "id": "db9988e2",
   "metadata": {},
   "outputs": [
    {
     "data": {
      "text/html": [
       "<div>\n",
       "<style scoped>\n",
       "    .dataframe tbody tr th:only-of-type {\n",
       "        vertical-align: middle;\n",
       "    }\n",
       "\n",
       "    .dataframe tbody tr th {\n",
       "        vertical-align: top;\n",
       "    }\n",
       "\n",
       "    .dataframe thead th {\n",
       "        text-align: right;\n",
       "    }\n",
       "</style>\n",
       "<table border=\"1\" class=\"dataframe\">\n",
       "  <thead>\n",
       "    <tr style=\"text-align: right;\">\n",
       "      <th></th>\n",
       "      <th>age</th>\n",
       "      <th>workclass</th>\n",
       "      <th>education-level</th>\n",
       "      <th>marital-status</th>\n",
       "      <th>occupation</th>\n",
       "      <th>relationship</th>\n",
       "      <th>race</th>\n",
       "      <th>sex</th>\n",
       "      <th>capital-gain</th>\n",
       "      <th>capital-loss</th>\n",
       "      <th>hours-per-week</th>\n",
       "      <th>native-country</th>\n",
       "      <th>Income-category</th>\n",
       "    </tr>\n",
       "  </thead>\n",
       "  <tbody>\n",
       "    <tr>\n",
       "      <th>0</th>\n",
       "      <td>0.169725</td>\n",
       "      <td>2</td>\n",
       "      <td>1.571060</td>\n",
       "      <td>2</td>\n",
       "      <td>3</td>\n",
       "      <td>0</td>\n",
       "      <td>4</td>\n",
       "      <td>1</td>\n",
       "      <td>-0.148992</td>\n",
       "      <td>-0.211923</td>\n",
       "      <td>-0.035010</td>\n",
       "      <td>37</td>\n",
       "      <td>1</td>\n",
       "    </tr>\n",
       "    <tr>\n",
       "      <th>1</th>\n",
       "      <td>0.391087</td>\n",
       "      <td>4</td>\n",
       "      <td>-0.411500</td>\n",
       "      <td>0</td>\n",
       "      <td>2</td>\n",
       "      <td>4</td>\n",
       "      <td>4</td>\n",
       "      <td>1</td>\n",
       "      <td>-0.148992</td>\n",
       "      <td>-0.211923</td>\n",
       "      <td>-0.035010</td>\n",
       "      <td>37</td>\n",
       "      <td>0</td>\n",
       "    </tr>\n",
       "    <tr>\n",
       "      <th>2</th>\n",
       "      <td>-0.937083</td>\n",
       "      <td>4</td>\n",
       "      <td>1.174548</td>\n",
       "      <td>2</td>\n",
       "      <td>2</td>\n",
       "      <td>0</td>\n",
       "      <td>4</td>\n",
       "      <td>1</td>\n",
       "      <td>-0.148992</td>\n",
       "      <td>-0.211923</td>\n",
       "      <td>1.460414</td>\n",
       "      <td>37</td>\n",
       "      <td>1</td>\n",
       "    </tr>\n",
       "    <tr>\n",
       "      <th>3</th>\n",
       "      <td>-1.232232</td>\n",
       "      <td>0</td>\n",
       "      <td>-0.014988</td>\n",
       "      <td>4</td>\n",
       "      <td>0</td>\n",
       "      <td>1</td>\n",
       "      <td>4</td>\n",
       "      <td>1</td>\n",
       "      <td>-0.148992</td>\n",
       "      <td>-0.211923</td>\n",
       "      <td>-0.035010</td>\n",
       "      <td>37</td>\n",
       "      <td>0</td>\n",
       "    </tr>\n",
       "    <tr>\n",
       "      <th>4</th>\n",
       "      <td>-1.084658</td>\n",
       "      <td>4</td>\n",
       "      <td>-0.411500</td>\n",
       "      <td>2</td>\n",
       "      <td>5</td>\n",
       "      <td>0</td>\n",
       "      <td>2</td>\n",
       "      <td>1</td>\n",
       "      <td>-0.148992</td>\n",
       "      <td>-0.211923</td>\n",
       "      <td>2.457362</td>\n",
       "      <td>37</td>\n",
       "      <td>0</td>\n",
       "    </tr>\n",
       "  </tbody>\n",
       "</table>\n",
       "</div>"
      ],
      "text/plain": [
       "        age  workclass  education-level  marital-status  occupation  \\\n",
       "0  0.169725          2         1.571060               2           3   \n",
       "1  0.391087          4        -0.411500               0           2   \n",
       "2 -0.937083          4         1.174548               2           2   \n",
       "3 -1.232232          0        -0.014988               4           0   \n",
       "4 -1.084658          4        -0.411500               2           5   \n",
       "\n",
       "   relationship  race  sex  capital-gain  capital-loss  hours-per-week  \\\n",
       "0             0     4    1     -0.148992     -0.211923       -0.035010   \n",
       "1             4     4    1     -0.148992     -0.211923       -0.035010   \n",
       "2             0     4    1     -0.148992     -0.211923        1.460414   \n",
       "3             1     4    1     -0.148992     -0.211923       -0.035010   \n",
       "4             0     2    1     -0.148992     -0.211923        2.457362   \n",
       "\n",
       "   native-country  Income-category  \n",
       "0              37                1  \n",
       "1              37                0  \n",
       "2              37                1  \n",
       "3              37                0  \n",
       "4              37                0  "
      ]
     },
     "execution_count": 233,
     "metadata": {},
     "output_type": "execute_result"
    }
   ],
   "source": [
    "#Using the one label encoder to convert all categorical labels to numeric values for simpler training later on. The reason\n",
    "#for using label encoding over onehot encoding is that with onehot encoding, the program would take a very long time to run at \n",
    "#the benefit of slightly higher accuracy. This decision was made in light of running a Neural Network with 10 and 20 hidden \n",
    "#layers which caused significant slow down.\n",
    "\n",
    "for column in df.select_dtypes(['category']).columns:\n",
    "    df[column] = label_encoder.fit_transform(df[column])\n",
    "df.head()"
   ]
  },
  {
   "cell_type": "code",
   "execution_count": 234,
   "id": "5e54c86b",
   "metadata": {},
   "outputs": [],
   "source": [
    "df.to_csv(\"US_census_18414616_cleaned.csv\")"
   ]
  },
  {
   "cell_type": "markdown",
   "id": "f3843244",
   "metadata": {},
   "source": [
    "### Preparing data for fitting and training "
   ]
  },
  {
   "cell_type": "code",
   "execution_count": 235,
   "id": "4b569ef4",
   "metadata": {
    "scrolled": true
   },
   "outputs": [
    {
     "data": {
      "text/html": [
       "<div>\n",
       "<style scoped>\n",
       "    .dataframe tbody tr th:only-of-type {\n",
       "        vertical-align: middle;\n",
       "    }\n",
       "\n",
       "    .dataframe tbody tr th {\n",
       "        vertical-align: top;\n",
       "    }\n",
       "\n",
       "    .dataframe thead th {\n",
       "        text-align: right;\n",
       "    }\n",
       "</style>\n",
       "<table border=\"1\" class=\"dataframe\">\n",
       "  <thead>\n",
       "    <tr style=\"text-align: right;\">\n",
       "      <th></th>\n",
       "      <th>Unnamed: 0</th>\n",
       "      <th>age</th>\n",
       "      <th>workclass</th>\n",
       "      <th>education-level</th>\n",
       "      <th>marital-status</th>\n",
       "      <th>occupation</th>\n",
       "      <th>relationship</th>\n",
       "      <th>race</th>\n",
       "      <th>sex</th>\n",
       "      <th>capital-gain</th>\n",
       "      <th>capital-loss</th>\n",
       "      <th>hours-per-week</th>\n",
       "      <th>native-country</th>\n",
       "      <th>Income-category</th>\n",
       "    </tr>\n",
       "  </thead>\n",
       "  <tbody>\n",
       "    <tr>\n",
       "      <th>0</th>\n",
       "      <td>0</td>\n",
       "      <td>0.169725</td>\n",
       "      <td>2</td>\n",
       "      <td>1.571060</td>\n",
       "      <td>2</td>\n",
       "      <td>3</td>\n",
       "      <td>0</td>\n",
       "      <td>4</td>\n",
       "      <td>1</td>\n",
       "      <td>-0.148992</td>\n",
       "      <td>-0.211923</td>\n",
       "      <td>-0.035010</td>\n",
       "      <td>37</td>\n",
       "      <td>1</td>\n",
       "    </tr>\n",
       "    <tr>\n",
       "      <th>1</th>\n",
       "      <td>1</td>\n",
       "      <td>0.391087</td>\n",
       "      <td>4</td>\n",
       "      <td>-0.411500</td>\n",
       "      <td>0</td>\n",
       "      <td>2</td>\n",
       "      <td>4</td>\n",
       "      <td>4</td>\n",
       "      <td>1</td>\n",
       "      <td>-0.148992</td>\n",
       "      <td>-0.211923</td>\n",
       "      <td>-0.035010</td>\n",
       "      <td>37</td>\n",
       "      <td>0</td>\n",
       "    </tr>\n",
       "    <tr>\n",
       "      <th>2</th>\n",
       "      <td>2</td>\n",
       "      <td>-0.937083</td>\n",
       "      <td>4</td>\n",
       "      <td>1.174548</td>\n",
       "      <td>2</td>\n",
       "      <td>2</td>\n",
       "      <td>0</td>\n",
       "      <td>4</td>\n",
       "      <td>1</td>\n",
       "      <td>-0.148992</td>\n",
       "      <td>-0.211923</td>\n",
       "      <td>1.460414</td>\n",
       "      <td>37</td>\n",
       "      <td>1</td>\n",
       "    </tr>\n",
       "    <tr>\n",
       "      <th>3</th>\n",
       "      <td>3</td>\n",
       "      <td>-1.232232</td>\n",
       "      <td>0</td>\n",
       "      <td>-0.014988</td>\n",
       "      <td>4</td>\n",
       "      <td>0</td>\n",
       "      <td>1</td>\n",
       "      <td>4</td>\n",
       "      <td>1</td>\n",
       "      <td>-0.148992</td>\n",
       "      <td>-0.211923</td>\n",
       "      <td>-0.035010</td>\n",
       "      <td>37</td>\n",
       "      <td>0</td>\n",
       "    </tr>\n",
       "    <tr>\n",
       "      <th>4</th>\n",
       "      <td>4</td>\n",
       "      <td>-1.084658</td>\n",
       "      <td>4</td>\n",
       "      <td>-0.411500</td>\n",
       "      <td>2</td>\n",
       "      <td>5</td>\n",
       "      <td>0</td>\n",
       "      <td>2</td>\n",
       "      <td>1</td>\n",
       "      <td>-0.148992</td>\n",
       "      <td>-0.211923</td>\n",
       "      <td>2.457362</td>\n",
       "      <td>37</td>\n",
       "      <td>0</td>\n",
       "    </tr>\n",
       "  </tbody>\n",
       "</table>\n",
       "</div>"
      ],
      "text/plain": [
       "   Unnamed: 0       age  workclass  education-level  marital-status  \\\n",
       "0           0  0.169725          2         1.571060               2   \n",
       "1           1  0.391087          4        -0.411500               0   \n",
       "2           2 -0.937083          4         1.174548               2   \n",
       "3           3 -1.232232          0        -0.014988               4   \n",
       "4           4 -1.084658          4        -0.411500               2   \n",
       "\n",
       "   occupation  relationship  race  sex  capital-gain  capital-loss  \\\n",
       "0           3             0     4    1     -0.148992     -0.211923   \n",
       "1           2             4     4    1     -0.148992     -0.211923   \n",
       "2           2             0     4    1     -0.148992     -0.211923   \n",
       "3           0             1     4    1     -0.148992     -0.211923   \n",
       "4           5             0     2    1     -0.148992     -0.211923   \n",
       "\n",
       "   hours-per-week  native-country  Income-category  \n",
       "0       -0.035010              37                1  \n",
       "1       -0.035010              37                0  \n",
       "2        1.460414              37                1  \n",
       "3       -0.035010              37                0  \n",
       "4        2.457362              37                0  "
      ]
     },
     "execution_count": 235,
     "metadata": {},
     "output_type": "execute_result"
    }
   ],
   "source": [
    "#Reading in dataframe from csv\n",
    "df = pd.read_csv(\"US_census_18414616_cleaned.csv\")\n",
    "df.head()"
   ]
  },
  {
   "cell_type": "code",
   "execution_count": 236,
   "id": "f456247e",
   "metadata": {},
   "outputs": [
    {
     "data": {
      "text/html": [
       "<div>\n",
       "<style scoped>\n",
       "    .dataframe tbody tr th:only-of-type {\n",
       "        vertical-align: middle;\n",
       "    }\n",
       "\n",
       "    .dataframe tbody tr th {\n",
       "        vertical-align: top;\n",
       "    }\n",
       "\n",
       "    .dataframe thead th {\n",
       "        text-align: right;\n",
       "    }\n",
       "</style>\n",
       "<table border=\"1\" class=\"dataframe\">\n",
       "  <thead>\n",
       "    <tr style=\"text-align: right;\">\n",
       "      <th></th>\n",
       "      <th>age</th>\n",
       "      <th>workclass</th>\n",
       "      <th>education-level</th>\n",
       "      <th>marital-status</th>\n",
       "      <th>occupation</th>\n",
       "      <th>relationship</th>\n",
       "      <th>race</th>\n",
       "      <th>sex</th>\n",
       "      <th>capital-gain</th>\n",
       "      <th>capital-loss</th>\n",
       "      <th>hours-per-week</th>\n",
       "      <th>native-country</th>\n",
       "      <th>Income-category</th>\n",
       "    </tr>\n",
       "  </thead>\n",
       "  <tbody>\n",
       "    <tr>\n",
       "      <th>0</th>\n",
       "      <td>0.169725</td>\n",
       "      <td>2</td>\n",
       "      <td>1.571060</td>\n",
       "      <td>2</td>\n",
       "      <td>3</td>\n",
       "      <td>0</td>\n",
       "      <td>4</td>\n",
       "      <td>1</td>\n",
       "      <td>-0.148992</td>\n",
       "      <td>-0.211923</td>\n",
       "      <td>-0.035010</td>\n",
       "      <td>37</td>\n",
       "      <td>1</td>\n",
       "    </tr>\n",
       "    <tr>\n",
       "      <th>1</th>\n",
       "      <td>0.391087</td>\n",
       "      <td>4</td>\n",
       "      <td>-0.411500</td>\n",
       "      <td>0</td>\n",
       "      <td>2</td>\n",
       "      <td>4</td>\n",
       "      <td>4</td>\n",
       "      <td>1</td>\n",
       "      <td>-0.148992</td>\n",
       "      <td>-0.211923</td>\n",
       "      <td>-0.035010</td>\n",
       "      <td>37</td>\n",
       "      <td>0</td>\n",
       "    </tr>\n",
       "    <tr>\n",
       "      <th>2</th>\n",
       "      <td>-0.937083</td>\n",
       "      <td>4</td>\n",
       "      <td>1.174548</td>\n",
       "      <td>2</td>\n",
       "      <td>2</td>\n",
       "      <td>0</td>\n",
       "      <td>4</td>\n",
       "      <td>1</td>\n",
       "      <td>-0.148992</td>\n",
       "      <td>-0.211923</td>\n",
       "      <td>1.460414</td>\n",
       "      <td>37</td>\n",
       "      <td>1</td>\n",
       "    </tr>\n",
       "    <tr>\n",
       "      <th>3</th>\n",
       "      <td>-1.232232</td>\n",
       "      <td>0</td>\n",
       "      <td>-0.014988</td>\n",
       "      <td>4</td>\n",
       "      <td>0</td>\n",
       "      <td>1</td>\n",
       "      <td>4</td>\n",
       "      <td>1</td>\n",
       "      <td>-0.148992</td>\n",
       "      <td>-0.211923</td>\n",
       "      <td>-0.035010</td>\n",
       "      <td>37</td>\n",
       "      <td>0</td>\n",
       "    </tr>\n",
       "    <tr>\n",
       "      <th>4</th>\n",
       "      <td>-1.084658</td>\n",
       "      <td>4</td>\n",
       "      <td>-0.411500</td>\n",
       "      <td>2</td>\n",
       "      <td>5</td>\n",
       "      <td>0</td>\n",
       "      <td>2</td>\n",
       "      <td>1</td>\n",
       "      <td>-0.148992</td>\n",
       "      <td>-0.211923</td>\n",
       "      <td>2.457362</td>\n",
       "      <td>37</td>\n",
       "      <td>0</td>\n",
       "    </tr>\n",
       "  </tbody>\n",
       "</table>\n",
       "</div>"
      ],
      "text/plain": [
       "        age  workclass  education-level  marital-status  occupation  \\\n",
       "0  0.169725          2         1.571060               2           3   \n",
       "1  0.391087          4        -0.411500               0           2   \n",
       "2 -0.937083          4         1.174548               2           2   \n",
       "3 -1.232232          0        -0.014988               4           0   \n",
       "4 -1.084658          4        -0.411500               2           5   \n",
       "\n",
       "   relationship  race  sex  capital-gain  capital-loss  hours-per-week  \\\n",
       "0             0     4    1     -0.148992     -0.211923       -0.035010   \n",
       "1             4     4    1     -0.148992     -0.211923       -0.035010   \n",
       "2             0     4    1     -0.148992     -0.211923        1.460414   \n",
       "3             1     4    1     -0.148992     -0.211923       -0.035010   \n",
       "4             0     2    1     -0.148992     -0.211923        2.457362   \n",
       "\n",
       "   native-country  Income-category  \n",
       "0              37                1  \n",
       "1              37                0  \n",
       "2              37                1  \n",
       "3              37                0  \n",
       "4              37                0  "
      ]
     },
     "execution_count": 236,
     "metadata": {},
     "output_type": "execute_result"
    }
   ],
   "source": [
    "#Removing error column\n",
    "df = df.drop(columns = \"Unnamed: 0\")\n",
    "df.head()"
   ]
  },
  {
   "cell_type": "code",
   "execution_count": 237,
   "id": "ebea5441",
   "metadata": {},
   "outputs": [
    {
     "data": {
      "text/plain": [
       "0    1\n",
       "1    0\n",
       "2    1\n",
       "3    0\n",
       "4    0\n",
       "Name: Income-category, dtype: int64"
      ]
     },
     "execution_count": 237,
     "metadata": {},
     "output_type": "execute_result"
    }
   ],
   "source": [
    "#Isolating the Income-category column and saving it to variable\n",
    "income_category = df.pop(\"Income-category\")\n",
    "income_category.head()"
   ]
  },
  {
   "cell_type": "markdown",
   "id": "e1e81a6d",
   "metadata": {},
   "source": [
    "# 1 Nearest Neighbour"
   ]
  },
  {
   "cell_type": "code",
   "execution_count": 238,
   "id": "c5a4b3aa",
   "metadata": {},
   "outputs": [],
   "source": [
    "#Splitting data into test and train on the original data frame.\n",
    "X_train, X_test, Y_train, Y_test = train_test_split(df, income_category, random_state=1)"
   ]
  },
  {
   "cell_type": "code",
   "execution_count": 239,
   "id": "19c49513",
   "metadata": {},
   "outputs": [
    {
     "data": {
      "text/plain": [
       "KNeighborsClassifier(n_neighbors=1)"
      ]
     },
     "execution_count": 239,
     "metadata": {},
     "output_type": "execute_result"
    }
   ],
   "source": [
    "#Fitting the 1NN model with k=1 to the training data\n",
    "knn = KNeighborsClassifier(n_neighbors=1)\n",
    "knn.fit(X_train, Y_train)"
   ]
  },
  {
   "cell_type": "code",
   "execution_count": 240,
   "id": "2a5332dc",
   "metadata": {},
   "outputs": [],
   "source": [
    "#Applying the Sequential Forward Selection to the 1NN features.\n",
    "sfs_forward = SFS(knn, \n",
    "                  k_features=12, \n",
    "                  forward=True, \n",
    "                  floating=False,\n",
    "                  scoring='accuracy',\n",
    "                  cv=5)\n",
    "\n",
    "sfs_forward = sfs_forward.fit(df, income_category, custom_feature_names=df.columns)"
   ]
  },
  {
   "cell_type": "code",
   "execution_count": 241,
   "id": "5d962796",
   "metadata": {
    "scrolled": true
   },
   "outputs": [
    {
     "data": {
      "image/png": "[encoded data removed]",
      "text/plain": [
       "<Figure size 432x288 with 1 Axes>"
      ]
     },
     "metadata": {
      "needs_background": "light"
     },
     "output_type": "display_data"
    },
    {
     "name": "stdout",
     "output_type": "stream",
     "text": [
      "('age', 'workclass', 'education-level', 'marital-status', 'occupation', 'relationship', 'race', 'sex', 'capital-gain', 'capital-loss', 'hours-per-week', 'native-country')\n"
     ]
    }
   ],
   "source": [
    "#Plotting the SFS to show the point at which the accuracy starts to decrease.\n",
    "fig1 = plot_sfs(sfs_forward.get_metric_dict(), ylabel='Accuracy')\n",
    "\n",
    "plot.ylim([0.75, 1])\n",
    "plot.title('Sequential Forward Selection')\n",
    "plot.grid()\n",
    "plot.show()\n",
    "print(sfs_forward.k_feature_names_)"
   ]
  },
  {
   "cell_type": "code",
   "execution_count": 242,
   "id": "dca83b7f",
   "metadata": {},
   "outputs": [
    {
     "data": {
      "text/plain": [
       "KNeighborsClassifier(n_neighbors=1)"
      ]
     },
     "execution_count": 242,
     "metadata": {},
     "output_type": "execute_result"
    }
   ],
   "source": [
    "#Based on the above graph, we can see that after 2 features, the accuracy decreases so we might as well use the first 2 features.\n",
    "\n",
    "df_knn = df.drop(columns = ['education-level', 'marital-status', 'occupation', 'relationship', 'race', 'sex', 'capital-gain', 'capital-loss', 'hours-per-week', 'native-country'])\n",
    "\n",
    "X_train, X_test, Y_train, Y_test = train_test_split(df_knn, income_category, random_state=1)\n",
    "\n",
    "#Fitting the KNN model to the training data now excluding the columns that decrease accuracy\n",
    "knn = KNeighborsClassifier(n_neighbors=1)\n",
    "knn.fit(X_train, Y_train)"
   ]
  },
  {
   "cell_type": "code",
   "execution_count": 243,
   "id": "379fdf2a",
   "metadata": {},
   "outputs": [
    {
     "name": "stdout",
     "output_type": "stream",
     "text": [
      "0.7266666666666667\n"
     ]
    }
   ],
   "source": [
    "# Predict on the training dataset \n",
    "y_predicted = knn.predict(X_train)\n",
    "knn_acc = accuracy_score(Y_train, y_predicted)\n",
    "print(knn_acc)"
   ]
  },
  {
   "cell_type": "code",
   "execution_count": 244,
   "id": "ceae3712",
   "metadata": {},
   "outputs": [],
   "source": [
    "#We will cross validate to ensure that our model isn't just getting lucky/unlucky with its training data\n",
    "#and that it actually can perform well for any variety of training data.\n",
    "#We will shuffle 10 times before creating the folds.\n",
    "cross_val = KFold(n_splits=10, shuffle=False, random_state=None)"
   ]
  },
  {
   "cell_type": "code",
   "execution_count": 245,
   "id": "b54d63a4",
   "metadata": {},
   "outputs": [
    {
     "name": "stdout",
     "output_type": "stream",
     "text": [
      "Accuracy before cross validation: 0.7266666666666667\n",
      "Accuracy after cross validation: 0.560\n"
     ]
    }
   ],
   "source": [
    "#We will now rerun the tests with the folds included to produce the most fair outcome and the real accuracy of the model using\n",
    "#this dataset.\n",
    "#The result is closer to the true accuracy of the model.\n",
    "results = cross_validate(knn, df_knn, income_category, cv=cross_val, scoring='balanced_accuracy')\n",
    "test_score = results[\"test_score\"]\n",
    "print(\"Accuracy before cross validation: \" f\"{knn_acc}\")\n",
    "print(\"Accuracy after cross validation: \"f\"{test_score.mean():.3f}\")\n",
    "#As we can see the accuracy is better than a random classifier."
   ]
  },
  {
   "cell_type": "markdown",
   "id": "43c3cc28",
   "metadata": {},
   "source": [
    "# Decision Tree"
   ]
  },
  {
   "cell_type": "code",
   "execution_count": 246,
   "id": "ed15a63f",
   "metadata": {},
   "outputs": [],
   "source": [
    "#Splitting data into test and train on the original data frame.\n",
    "X_train, X_test, Y_train, Y_test = train_test_split(df, income_category, random_state=1)"
   ]
  },
  {
   "cell_type": "code",
   "execution_count": 247,
   "id": "7382f80e",
   "metadata": {},
   "outputs": [
    {
     "data": {
      "text/plain": [
       "DecisionTreeClassifier(criterion='entropy', max_depth=3)"
      ]
     },
     "execution_count": 247,
     "metadata": {},
     "output_type": "execute_result"
    }
   ],
   "source": [
    "#Fitting the Decision Tree model to the training data\n",
    "dt = DecisionTreeClassifier(criterion='entropy', max_depth=3)\n",
    "dt.fit(X_train, Y_train)"
   ]
  },
  {
   "cell_type": "code",
   "execution_count": 248,
   "id": "a791b37a",
   "metadata": {},
   "outputs": [],
   "source": [
    "#Applying the Sequential Forward Selection to the Decision Tree features.\n",
    "sfs_forward = SFS(dt, \n",
    "                  k_features=12, \n",
    "                  forward=True, \n",
    "                  floating=False,\n",
    "                  scoring='accuracy',\n",
    "                  cv=5)\n",
    "\n",
    "sfs_forward = sfs_forward.fit(df, income_category, custom_feature_names=df.columns)"
   ]
  },
  {
   "cell_type": "code",
   "execution_count": 249,
   "id": "de3d4f6b",
   "metadata": {
    "scrolled": true
   },
   "outputs": [
    {
     "data": {
      "image/png": "[encoded data removed]",
      "text/plain": [
       "<Figure size 432x288 with 1 Axes>"
      ]
     },
     "metadata": {
      "needs_background": "light"
     },
     "output_type": "display_data"
    },
    {
     "name": "stdout",
     "output_type": "stream",
     "text": [
      "('age', 'workclass', 'education-level', 'marital-status', 'occupation', 'relationship', 'race', 'sex', 'capital-gain', 'capital-loss', 'hours-per-week', 'native-country')\n"
     ]
    }
   ],
   "source": [
    "#Plotting the SFS to show the point at which the accuracy starts to decrease.\n",
    "fig1 = plot_sfs(sfs_forward.get_metric_dict(), ylabel='Accuracy')\n",
    "\n",
    "plot.ylim([0.75, 1])\n",
    "plot.title('Sequential Forward Selection')\n",
    "plot.grid()\n",
    "plot.show()\n",
    "print(sfs_forward.k_feature_names_)"
   ]
  },
  {
   "cell_type": "code",
   "execution_count": 250,
   "id": "40285023",
   "metadata": {},
   "outputs": [
    {
     "data": {
      "text/plain": [
       "DecisionTreeClassifier(criterion='entropy', max_depth=3)"
      ]
     },
     "execution_count": 250,
     "metadata": {},
     "output_type": "execute_result"
    }
   ],
   "source": [
    "#Based on the above graph, we can see that after 3 features, the accuracy remains the same so we can just as well drop\n",
    "#the other features\n",
    "df_dt = df.drop(columns = ['marital-status', 'occupation', 'relationship', 'race', 'sex', 'capital-gain', 'capital-loss', 'hours-per-week', 'native-country'])\n",
    "\n",
    "X_train, X_test, Y_train, Y_test = train_test_split(df_dt, income_category, random_state=1)\n",
    "\n",
    "#Fitting the Decision Tree model to the training data now excluding the columns that decrease accuracy\n",
    "dt = DecisionTreeClassifier(criterion='entropy', max_depth=3)\n",
    "dt.fit(X_train, Y_train)"
   ]
  },
  {
   "cell_type": "code",
   "execution_count": 251,
   "id": "04b1b178",
   "metadata": {},
   "outputs": [
    {
     "name": "stdout",
     "output_type": "stream",
     "text": [
      "0.7786666666666666\n"
     ]
    }
   ],
   "source": [
    "# Predict on the training dataset \n",
    "y_predicted = dt.predict(X_train)\n",
    "dt_acc = accuracy_score(Y_train, y_predicted)\n",
    "print(dt_acc)"
   ]
  },
  {
   "cell_type": "code",
   "execution_count": 252,
   "id": "6b199c96",
   "metadata": {},
   "outputs": [],
   "source": [
    "#We will cross validate to ensure that our model isn't just getting lucky/unlucky with its training data\n",
    "#and that it actually can perform well for any variety of training data.\n",
    "\n",
    "#We can use the cross_val variable defined before"
   ]
  },
  {
   "cell_type": "code",
   "execution_count": 253,
   "id": "383f8972",
   "metadata": {
    "scrolled": true
   },
   "outputs": [
    {
     "name": "stdout",
     "output_type": "stream",
     "text": [
      "Accuracy before cross validation: 0.7786666666666666\n",
      "Accuracy after cross validation: 0.609\n"
     ]
    }
   ],
   "source": [
    "#We will now rerun the tests with the folds included to produce the most fair outcome and the real accuracy of the model using\n",
    "#this dataset.\n",
    "#The result is closer to the true accuracy of the model.\n",
    "results = cross_validate(dt, df_dt, income_category, cv=cross_val, scoring='balanced_accuracy')\n",
    "test_score = results[\"test_score\"]\n",
    "print(\"Accuracy before cross validation: \" f\"{dt_acc}\")\n",
    "print(\"Accuracy after cross validation: \"f\"{test_score.mean():.3f}\")\n",
    "#As we can see the accuracy is better than a random classifier."
   ]
  },
  {
   "cell_type": "markdown",
   "id": "bc3a5395",
   "metadata": {},
   "source": [
    "# Neural Network"
   ]
  },
  {
   "cell_type": "code",
   "execution_count": 254,
   "id": "82307427",
   "metadata": {},
   "outputs": [],
   "source": [
    "#Splitting data into test and train using original data frame\n",
    "X_train, X_test, Y_train, Y_test = train_test_split(df, income_category, random_state=1)"
   ]
  },
  {
   "cell_type": "code",
   "execution_count": 255,
   "id": "4b287292",
   "metadata": {},
   "outputs": [
    {
     "name": "stderr",
     "output_type": "stream",
     "text": [
      "C:\\Users\\Luki\\anaconda3\\lib\\site-packages\\sklearn\\neural_network\\_multilayer_perceptron.py:500: ConvergenceWarning: lbfgs failed to converge (status=1):\n",
      "STOP: TOTAL NO. of ITERATIONS REACHED LIMIT.\n",
      "\n",
      "Increase the number of iterations (max_iter) or scale the data as shown in:\n",
      "    https://scikit-learn.org/stable/modules/preprocessing.html\n",
      "  self.n_iter_ = _check_optimize_result(\"lbfgs\", opt_res, self.max_iter)\n"
     ]
    },
    {
     "data": {
      "text/plain": [
       "MLPClassifier(alpha=1e-05, hidden_layer_sizes=(5, 5), random_state=1,\n",
       "              solver='lbfgs')"
      ]
     },
     "execution_count": 255,
     "metadata": {},
     "output_type": "execute_result"
    }
   ],
   "source": [
    "#Fitting the Neural Network model with 10 hidden layers to the training data\n",
    "nn = MLPClassifier(solver='lbfgs', alpha=1e-5, hidden_layer_sizes=(5, 5), random_state=1)\n",
    "nn.fit(X_train, Y_train)"
   ]
  },
  {
   "cell_type": "code",
   "execution_count": 256,
   "id": "a711bc05",
   "metadata": {},
   "outputs": [
    {
     "name": "stdout",
     "output_type": "stream",
     "text": [
      "0.8290666666666666\n"
     ]
    }
   ],
   "source": [
    "# Predict on the training dataset \n",
    "y_predicted = nn.predict(X_train)\n",
    "nn_acc = accuracy_score(Y_train, y_predicted)\n",
    "print(nn_acc)"
   ]
  },
  {
   "cell_type": "code",
   "execution_count": 257,
   "id": "1df1f3b3",
   "metadata": {},
   "outputs": [],
   "source": [
    "#We will cross validate to ensure that our model isn't just getting lucky/unlucky with its training data\n",
    "#and that it actually can perform well for any variety of training data.\n",
    "\n",
    "#We can use the cross_val variable defined before"
   ]
  },
  {
   "cell_type": "code",
   "execution_count": 258,
   "id": "6afec03f",
   "metadata": {
    "scrolled": true
   },
   "outputs": [
    {
     "name": "stdout",
     "output_type": "stream",
     "text": [
      "Accuracy before cross validation: 0.8290666666666666\n",
      "Accuracy after cross validation: 0.738\n"
     ]
    }
   ],
   "source": [
    "#We will now rerun the tests with the folds included to produce the most fair outcome and the real accuracy of the model using\n",
    "#this dataset.\n",
    "#The result is closer to the true accuracy of the model.\n",
    "results = cross_validate(dt, df, income_category, cv=cross_val, scoring='balanced_accuracy')\n",
    "test_score = results[\"test_score\"]\n",
    "print(\"Accuracy before cross validation: \" f\"{nn_acc}\")\n",
    "print(\"Accuracy after cross validation: \"f\"{test_score.mean():.3f}\")\n",
    "#As we can see the accuracy is better than a random classifier."
   ]
  },
  {
   "cell_type": "markdown",
   "id": "486c71e9",
   "metadata": {},
   "source": [
    "# Bagging"
   ]
  },
  {
   "cell_type": "code",
   "execution_count": 259,
   "id": "0771565c",
   "metadata": {},
   "outputs": [],
   "source": [
    "folds = 7\n",
    "#We will iterate through the number of estimators, increasing them by 2 each time for a total of 20 at the final loop.\n",
    "\n",
    "#Below we create lists to store the results of all the iterarions for each classifier with and without bagging.\n",
    "knn_results = []\n",
    "bagging_knn_results = []\n",
    "\n",
    "dt_results = []\n",
    "bagging_dt_results = []\n",
    "\n",
    "nn_results = []\n",
    "bagging_nn_results = []\n",
    "\n",
    "for n in range(2,22,2):\n",
    "    #Creating bagging classifiers for OneNN, Decision Tree and Neural Network.\n",
    "    kNN_bag = BaggingClassifier(knn, \n",
    "                            n_estimators = n,\n",
    "                            max_samples = 1.0, \n",
    "                            bootstrap = True, random_state=1)\n",
    "    tree_bag = BaggingClassifier(dt, \n",
    "                            n_estimators = n,\n",
    "                            max_samples = 1.0,  \n",
    "                            bootstrap = True, random_state=1)\n",
    "    nn_bag = BaggingClassifier(nn,\n",
    "                           n_estimators = n,\n",
    "                           max_samples = 1.0,\n",
    "                           bootstrap = True, random_state=1)\n",
    "    \n",
    "    #We save the mean results of the regular classifier and bagged classifier into the corresponding lists\n",
    "    scores_kNN = cross_val_score(knn, df_knn, income_category, cv=folds, verbose = 0, n_jobs = -1, scoring='accuracy')\n",
    "    scores_kNN_bag = cross_val_score(kNN_bag, df_knn, income_category, cv=folds, verbose = 0, n_jobs = -1)\n",
    "\n",
    "    knn_results.append(scores_kNN.mean())\n",
    "    bagging_knn_results.append(scores_kNN_bag.mean())\n",
    "\n",
    "    scores_tree = cross_val_score(dt, df_dt, income_category, cv=folds, verbose = 0, n_jobs = -1)\n",
    "    scores_tree_bag = cross_val_score(tree_bag, df_dt, income_category, cv=folds, verbose = 0, n_jobs = -1)\n",
    "\n",
    "    dt_results.append(scores_tree.mean())\n",
    "    bagging_dt_results.append(scores_tree_bag.mean())\n",
    "\n",
    "    scores_nn = cross_val_score(nn, df, income_category, cv=folds, verbose = 0, n_jobs = -1)\n",
    "    scores_nn_bag = cross_val_score(nn_bag, df, income_category, cv=folds, verbose = 0, n_jobs = -1)\n",
    "\n",
    "    nn_results.append(scores_nn.mean())\n",
    "    bagging_nn_results.append(scores_nn_bag.mean())\n",
    "    \n"
   ]
  },
  {
   "cell_type": "code",
   "execution_count": 260,
   "id": "2612bbbb",
   "metadata": {},
   "outputs": [
    {
     "name": "stdout",
     "output_type": "stream",
     "text": [
      "Mean Result for One-NN: 0.6764\n",
      "\n",
      "\n",
      "Mean Results for One-NN with bagging: 0.7436\n",
      "Mean Results for One-NN with bagging: 0.7516\n",
      "Mean Results for One-NN with bagging: 0.7522\n",
      "Mean Results for One-NN with bagging: 0.7484\n",
      "Mean Results for One-NN with bagging: 0.7540\n",
      "Mean Results for One-NN with bagging: 0.7542\n",
      "Mean Results for One-NN with bagging: 0.7568\n",
      "Mean Results for One-NN with bagging: 0.7574\n",
      "Mean Results for One-NN with bagging: 0.7580\n",
      "Mean Results for One-NN with bagging: 0.7562\n",
      "\n",
      "\n",
      "====================================================\n",
      "Mean Result for Decision Tree: 0.7912\n",
      "\n",
      "\n",
      "Mean Results for Decision Tree with bagging: 0.7948\n",
      "Mean Results for Decision Tree with bagging: 0.7976\n",
      "Mean Results for Decision Tree with bagging: 0.7978\n",
      "Mean Results for Decision Tree with bagging: 0.7954\n",
      "Mean Results for Decision Tree with bagging: 0.7952\n",
      "Mean Results for Decision Tree with bagging: 0.7952\n",
      "Mean Results for Decision Tree with bagging: 0.7952\n",
      "Mean Results for Decision Tree with bagging: 0.7952\n",
      "Mean Results for Decision Tree with bagging: 0.7952\n",
      "Mean Results for Decision Tree with bagging: 0.7958\n",
      "\n",
      "\n",
      "====================================================\n",
      "Mean Result for Neural Network: 0.8398\n",
      "\n",
      "\n",
      "Mean Results for Neural Network with bagging: 0.8394\n",
      "Mean Results for Neural Network with bagging: 0.8418\n",
      "Mean Results for Neural Network with bagging: 0.8420\n",
      "Mean Results for Neural Network with bagging: 0.8460\n",
      "Mean Results for Neural Network with bagging: 0.8434\n",
      "Mean Results for Neural Network with bagging: 0.8464\n",
      "Mean Results for Neural Network with bagging: 0.8464\n",
      "Mean Results for Neural Network with bagging: 0.8452\n",
      "Mean Results for Neural Network with bagging: 0.8452\n",
      "Mean Results for Neural Network with bagging: 0.8468\n"
     ]
    }
   ],
   "source": [
    "#Priting the results of the diffrent classifiers without bagging and then each bagging result.\n",
    "\n",
    "#The first element of the knn_result/dt_results/nn_results is printed as all of the values in this list are the same.\n",
    "print(\"Mean Result for One-NN: {:.4f}\".format(knn_results[0]))\n",
    "print(\"\\n\")\n",
    "\n",
    "for i in range(len(bagging_knn_results)):\n",
    "  print(\"Mean Results for One-NN with bagging: {:.4f}\".format(bagging_knn_results[i]))\n",
    "\n",
    "print(\"\\n\")\n",
    "print(\"====================================================\")\n",
    "\n",
    "print(\"Mean Result for Decision Tree: {:.4f}\".format(dt_results[0]))\n",
    "print(\"\\n\")\n",
    "\n",
    "for i in range(len(bagging_dt_results)):\n",
    "  print(\"Mean Results for Decision Tree with bagging: {:.4f}\".format(bagging_dt_results[i]))\n",
    "\n",
    "\n",
    "print(\"\\n\")\n",
    "print(\"====================================================\")\n",
    "\n",
    "print(\"Mean Result for Neural Network: {:.4f}\".format(nn_results[0]))\n",
    "print(\"\\n\")\n",
    "\n",
    "for i in range(len(bagging_nn_results)):\n",
    "  print(\"Mean Results for Neural Network with bagging: {:.4f}\".format(bagging_nn_results[i]))\n"
   ]
  },
  {
   "cell_type": "code",
   "execution_count": 261,
   "id": "fd340b54",
   "metadata": {},
   "outputs": [
    {
     "data": {
      "text/plain": [
       "<matplotlib.legend.Legend at 0x1d97b13e340>"
      ]
     },
     "execution_count": 261,
     "metadata": {},
     "output_type": "execute_result"
    },
    {
     "data": {
      "image/png": "[encoded data removed]",
      "text/plain": [
       "<Figure size 504x1080 with 3 Axes>"
      ]
     },
     "metadata": {
      "needs_background": "light"
     },
     "output_type": "display_data"
    }
   ],
   "source": [
    "#Plotting results of bagging\n",
    "fig,axs = plot.subplots(3, figsize = (7, 15))\n",
    "axs[0].plot(range(2,22,2), bagging_knn_results, label=\"1NN Accuracy\")\n",
    "axs[1].plot(range(2,22,2), bagging_dt_results, label=\"Decision Tree Accuracy\")\n",
    "axs[2].plot(range(2,22,2), bagging_nn_results, label=\"Neural Network Accuracy\")\n",
    "axs[0].legend()\n",
    "axs[1].legend()\n",
    "axs[2].legend()"
   ]
  },
  {
   "cell_type": "markdown",
   "id": "c8d71631",
   "metadata": {},
   "source": [
    "### Results for 1NN \n",
    "The accuracy of the 1NN classifier tends to increase as we increase the number of estimators. There is a drop in accuracy when 8 estimators are used, as seen in the above graph. However, overall, the graph indicates a steady improvement in accuracy as more estimators are added. After 18 estimators, accuracy starts to decrease.\n",
    "\n",
    "Based on the graph, the optimal number of estimators for 1NN with bagging is: 18 (75.8% accuracy)\n",
    "\n",
    "### Results for Decision Tree\n",
    "At a low number of estimators, the accuracy increases until it reaches 6. After that we witness a sharp decline. However, this decline is only a decline of 0.25%. As the number of estimators reaches 18, it begins to gradually increase again. \n",
    "\n",
    "Based on the graph, the optimal number of estimators for Decision Tree with bagging is: 6 (79.78% accuracy)\n",
    "\n",
    "### Results for Neural Network\n",
    "Similarly to 1NN, the graph shows a steady increase in accuracy as estimators increase with the exception of n_etimators=10 where the graph dips by about 0.25%. Following this dip it increases and again dips at 16 estimators. As it reaches 20, the graph ascends again. \n",
    "\n",
    "Based on the graph, the optimal number of estimators for Neural Networks with bagging is: 12 (84.64% accuracy)"
   ]
  },
  {
   "cell_type": "code",
   "execution_count": 262,
   "id": "d3c28023",
   "metadata": {},
   "outputs": [],
   "source": [
    "#Using the optimal values for the number of estimators, we will investigate the effect of changing the max_samples for bagging.\n",
    "\n",
    "#Below we create lists to store the results of all the iterarions for each classifier with and without bagging.\n",
    "knn_results = []\n",
    "bagging_knn_results = []\n",
    "\n",
    "dt_results = []\n",
    "bagging_dt_results = []\n",
    "\n",
    "nn_results = []\n",
    "bagging_nn_results = []\n",
    "\n",
    "for n in np.linspace(0.1,1,10):\n",
    "    #Creating bagging classifiers for OneNN, Decision Tree and Neural Network.\n",
    "    kNN_bag = BaggingClassifier(knn, \n",
    "                            n_estimators = 18,\n",
    "                            max_samples = n, \n",
    "                            bootstrap = True, random_state=1)\n",
    "    tree_bag = BaggingClassifier(dt, \n",
    "                            n_estimators = 6,\n",
    "                            max_samples = n,  \n",
    "                            bootstrap = True, random_state=1)\n",
    "    nn_bag = BaggingClassifier(nn,\n",
    "                           n_estimators = 12,\n",
    "                           max_samples = n,\n",
    "                           bootstrap = True, random_state=1)\n",
    "    \n",
    "    #We save the mean results of the regular classifier and bagged classifier into the corresponding lists\n",
    "    scores_kNN = cross_val_score(knn, df_knn, income_category, cv=folds, verbose = 0, n_jobs = -1, scoring='accuracy')\n",
    "    scores_kNN_bag = cross_val_score(kNN_bag, df_knn, income_category, cv=folds, verbose = 0, n_jobs = -1)\n",
    "\n",
    "    knn_results.append(scores_kNN.mean())\n",
    "    bagging_knn_results.append(scores_kNN_bag.mean())\n",
    "\n",
    "    scores_tree = cross_val_score(dt, df_dt, income_category, cv=folds, verbose = 0, n_jobs = -1)\n",
    "    scores_tree_bag = cross_val_score(tree_bag, df_dt, income_category, cv=folds, verbose = 0, n_jobs = -1)\n",
    "\n",
    "    dt_results.append(scores_tree.mean())\n",
    "    bagging_dt_results.append(scores_tree_bag.mean())\n",
    "\n",
    "    scores_nn = cross_val_score(nn, df, income_category, cv=folds, verbose = 0, n_jobs = -1)\n",
    "    scores_nn_bag = cross_val_score(nn_bag, df, income_category, cv=folds, verbose = 0, n_jobs = -1)\n",
    "\n",
    "    nn_results.append(scores_nn.mean())\n",
    "    bagging_nn_results.append(scores_nn_bag.mean())\n",
    "    \n"
   ]
  },
  {
   "cell_type": "code",
   "execution_count": 263,
   "id": "85ace5fe",
   "metadata": {
    "scrolled": false
   },
   "outputs": [
    {
     "name": "stdout",
     "output_type": "stream",
     "text": [
      "Mean Result for One-NN: 0.6764\n",
      "\n",
      "\n",
      "Mean Results for One-NN with bagging and optimal value: 0.7628\n",
      "Mean Results for One-NN with bagging and optimal value: 0.7550\n",
      "Mean Results for One-NN with bagging and optimal value: 0.7556\n",
      "Mean Results for One-NN with bagging and optimal value: 0.7566\n",
      "Mean Results for One-NN with bagging and optimal value: 0.7574\n",
      "Mean Results for One-NN with bagging and optimal value: 0.7582\n",
      "Mean Results for One-NN with bagging and optimal value: 0.7554\n",
      "Mean Results for One-NN with bagging and optimal value: 0.7558\n",
      "Mean Results for One-NN with bagging and optimal value: 0.7596\n",
      "Mean Results for One-NN with bagging and optimal value: 0.7580\n",
      "\n",
      "\n",
      "====================================================\n",
      "Mean Result for Decision Tree: 0.7912\n",
      "\n",
      "\n",
      "Mean Results for Decision Tree with bagging and optimal value: 0.7970\n",
      "Mean Results for Decision Tree with bagging and optimal value: 0.7970\n",
      "Mean Results for Decision Tree with bagging and optimal value: 0.7980\n",
      "Mean Results for Decision Tree with bagging and optimal value: 0.7988\n",
      "Mean Results for Decision Tree with bagging and optimal value: 0.7972\n",
      "Mean Results for Decision Tree with bagging and optimal value: 0.7972\n",
      "Mean Results for Decision Tree with bagging and optimal value: 0.7964\n",
      "Mean Results for Decision Tree with bagging and optimal value: 0.7958\n",
      "Mean Results for Decision Tree with bagging and optimal value: 0.7972\n",
      "Mean Results for Decision Tree with bagging and optimal value: 0.7978\n",
      "\n",
      "\n",
      "====================================================\n",
      "Mean Result for Neural Network: 0.8398\n",
      "\n",
      "\n",
      "Mean Results for Neural Network with bagging and optimal value: 0.8312\n",
      "Mean Results for Neural Network with bagging and optimal value: 0.8396\n",
      "Mean Results for Neural Network with bagging and optimal value: 0.8448\n",
      "Mean Results for Neural Network with bagging and optimal value: 0.8454\n",
      "Mean Results for Neural Network with bagging and optimal value: 0.8454\n",
      "Mean Results for Neural Network with bagging and optimal value: 0.8418\n",
      "Mean Results for Neural Network with bagging and optimal value: 0.8424\n",
      "Mean Results for Neural Network with bagging and optimal value: 0.8422\n",
      "Mean Results for Neural Network with bagging and optimal value: 0.8438\n",
      "Mean Results for Neural Network with bagging and optimal value: 0.8464\n"
     ]
    }
   ],
   "source": [
    "#Priting the results of the diffrent classifiers without bagging and then each set of bagging results.\n",
    "\n",
    "#The first element of the knn_result/dt_results/nn_results is printed as all of the values in this list are the same.\n",
    "print(\"Mean Result for One-NN: {:.4f}\".format(knn_results[0]))\n",
    "print(\"\\n\")\n",
    "\n",
    "for i in range(len(bagging_knn_results)):\n",
    "  print(\"Mean Results for One-NN with bagging and optimal value: {:.4f}\".format(bagging_knn_results[i]))\n",
    "\n",
    "print(\"\\n\")\n",
    "print(\"====================================================\")\n",
    "\n",
    "print(\"Mean Result for Decision Tree: {:.4f}\".format(dt_results[0]))\n",
    "print(\"\\n\")\n",
    "\n",
    "for i in range(len(bagging_dt_results)):\n",
    "  print(\"Mean Results for Decision Tree with bagging and optimal value: {:.4f}\".format(bagging_dt_results[i]))\n",
    "\n",
    "\n",
    "print(\"\\n\")\n",
    "print(\"====================================================\")\n",
    "\n",
    "print(\"Mean Result for Neural Network: {:.4f}\".format(nn_results[0]))\n",
    "print(\"\\n\")\n",
    "\n",
    "for i in range(len(bagging_nn_results)):\n",
    "  print(\"Mean Results for Neural Network with bagging and optimal value: {:.4f}\".format(bagging_nn_results[i]))\n"
   ]
  },
  {
   "cell_type": "code",
   "execution_count": 264,
   "id": "7e60f302",
   "metadata": {
    "scrolled": false
   },
   "outputs": [
    {
     "data": {
      "text/plain": [
       "<matplotlib.legend.Legend at 0x1d97b64e1c0>"
      ]
     },
     "execution_count": 264,
     "metadata": {},
     "output_type": "execute_result"
    },
    {
     "data": {
      "image/png": "[encoded data removed]",
      "text/plain": [
       "<Figure size 504x1080 with 3 Axes>"
      ]
     },
     "metadata": {
      "needs_background": "light"
     },
     "output_type": "display_data"
    }
   ],
   "source": [
    "#Plotting results of bagging and optimal estimator value\n",
    "fig,axs = plot.subplots(3, figsize = (7, 15))\n",
    "axs[0].plot(np.linspace(0.1,1,10), bagging_knn_results, label=\"KNN Accuracy\", color=\"green\")\n",
    "axs[1].plot(np.linspace(0.1,1,10), bagging_dt_results, label=\"Decision Tree Accuracy\", color=\"green\")\n",
    "axs[2].plot(np.linspace(0.1,1,10), bagging_nn_results, label=\"Neural Network Accuracy\", color=\"green\")\n",
    "axs[0].legend()\n",
    "axs[1].legend()\n",
    "axs[2].legend()"
   ]
  },
  {
   "cell_type": "markdown",
   "id": "e1b278b8",
   "metadata": {},
   "source": [
    "### Results for 1NN with optimal estimator\n",
    "As we change the bootstrap samples, the classifier drops in accuracy from 76.28% at 0.1 to 75.5% at 0.2. The accuracy steadily improves but never reaches the original highest value. With max_samples = 1.0 the accuracy settles at 75.8%.\n",
    "\n",
    "Highest accuracy: 76.28%, max_samples = 0.1\n",
    "\n",
    "### Results for Decision Trees with optimal estimator\n",
    "The classifier peaks at 0.4 max_samples value but declines sharply for 0.8 by around 0.3%. It again increases for a final value of 79.78%.\n",
    "\n",
    "Highest accuracy: 79.88%, max_samples = 0.4\n",
    "\n",
    "### Results for Neural Network with optimal estimator\n",
    "The Neural Network classifier increases steadily overall with a slight dip at max_samples = 0.6. It has a final value of 84.64% at 1.0.\n",
    "\n",
    "Highest accuracy: 84.64%, max_samples = 1.0\n"
   ]
  },
  {
   "cell_type": "markdown",
   "id": "78c2fe54",
   "metadata": {},
   "source": [
    "# Random Subspacing"
   ]
  },
  {
   "cell_type": "code",
   "execution_count": 265,
   "id": "b9a481f5",
   "metadata": {},
   "outputs": [],
   "source": [
    "folds = 7\n",
    "#We will iterate through the number of estimators, increasing them by 2 each time for a total of 20 at the final loop.\n",
    "\n",
    "#Below we create lists to store the results of all the iterarions for each classifier with and without bagging.\n",
    "knn_results = []\n",
    "rSS_knn_results = []\n",
    "\n",
    "dt_results = []\n",
    "rSS_dt_results = []\n",
    "\n",
    "nn_results = []\n",
    "rSS_nn_results = []\n",
    "\n",
    "for n in range(2,22,2):\n",
    "    #Creating random subspacing classifiers for OneNN, Decision Tree and Neural Network.\n",
    "    random_SS_kNN = BaggingClassifier(knn, \n",
    "                            n_estimators = n,\n",
    "                            max_samples=1.0, \n",
    "                            max_features=0.7, random_state=1)\n",
    "\n",
    "    random_SS_tree = BaggingClassifier(dt, \n",
    "                            n_estimators = n,\n",
    "                            max_samples=1.0, \n",
    "                            max_features=0.7, random_state=1)\n",
    "\n",
    "    random_SS_nn = BaggingClassifier(nn, \n",
    "                            n_estimators = n,\n",
    "                            max_samples=1.0, \n",
    "                            max_features=1.0, random_state=1)\n",
    "    \n",
    "    #We save the mean results of the regular classifier and random subspacing classifier into the corresponding lists\n",
    "    scores_kNN = cross_val_score(knn, df_knn, income_category, cv=folds, verbose = 0, n_jobs = -1)\n",
    "    scores_kNN_rSS = cross_val_score(random_SS_kNN, df_knn, income_category, cv=folds, verbose = 0, n_jobs = -1)\n",
    "\n",
    "    knn_results.append(scores_kNN.mean())\n",
    "    rSS_knn_results.append(scores_kNN_rSS.mean())\n",
    "\n",
    "    scores_tree = cross_val_score(dt, df_dt, income_category, cv=folds, verbose = 0, n_jobs = -1)\n",
    "    scores_tree_rSS = cross_val_score(random_SS_tree, df_dt, income_category, cv=folds, verbose = 0, n_jobs = -1)\n",
    "\n",
    "    dt_results.append(scores_tree.mean())\n",
    "    rSS_dt_results.append(scores_tree_rSS.mean())\n",
    "\n",
    "    scores_nn = cross_val_score(nn, df, income_category, cv=folds, verbose = 0, n_jobs = -1)\n",
    "    scores_nn_rSS = cross_val_score(random_SS_nn, df, income_category, cv=folds, verbose = 0, n_jobs = -1)\n",
    "\n",
    "    nn_results.append(scores_nn.mean())\n",
    "    rSS_nn_results.append(scores_nn_rSS.mean())"
   ]
  },
  {
   "cell_type": "code",
   "execution_count": 266,
   "id": "68ae76a7",
   "metadata": {
    "scrolled": false
   },
   "outputs": [
    {
     "name": "stdout",
     "output_type": "stream",
     "text": [
      "Mean Result for One-NN: 0.6764\n",
      "\n",
      "\n",
      "Mean Results for One-NN with random subspacing: 0.7132\n",
      "Mean Results for One-NN with random subspacing: 0.7400\n",
      "Mean Results for One-NN with random subspacing: 0.7532\n",
      "Mean Results for One-NN with random subspacing: 0.7600\n",
      "Mean Results for One-NN with random subspacing: 0.7592\n",
      "Mean Results for One-NN with random subspacing: 0.7608\n",
      "Mean Results for One-NN with random subspacing: 0.7636\n",
      "Mean Results for One-NN with random subspacing: 0.7632\n",
      "Mean Results for One-NN with random subspacing: 0.7636\n",
      "Mean Results for One-NN with random subspacing: 0.7640\n",
      "\n",
      "\n",
      "====================================================\n",
      "Mean Result for Decision Tree: 0.7912\n",
      "\n",
      "\n",
      "Mean Results for Decision Tree with random subspacing: 0.7918\n",
      "Mean Results for Decision Tree with random subspacing: 0.7798\n",
      "Mean Results for Decision Tree with random subspacing: 0.7818\n",
      "Mean Results for Decision Tree with random subspacing: 0.7890\n",
      "Mean Results for Decision Tree with random subspacing: 0.7954\n",
      "Mean Results for Decision Tree with random subspacing: 0.7946\n",
      "Mean Results for Decision Tree with random subspacing: 0.7966\n",
      "Mean Results for Decision Tree with random subspacing: 0.7918\n",
      "Mean Results for Decision Tree with random subspacing: 0.7968\n",
      "Mean Results for Decision Tree with random subspacing: 0.7892\n",
      "\n",
      "\n",
      "====================================================\n",
      "Mean Result for Neural Network: 0.8398\n",
      "\n",
      "\n",
      "Mean Results for Neural Network with random subspacing: 0.8394\n",
      "Mean Results for Neural Network with random subspacing: 0.8418\n",
      "Mean Results for Neural Network with random subspacing: 0.8420\n",
      "Mean Results for Neural Network with random subspacing: 0.8460\n",
      "Mean Results for Neural Network with random subspacing: 0.8434\n",
      "Mean Results for Neural Network with random subspacing: 0.8464\n",
      "Mean Results for Neural Network with random subspacing: 0.8464\n",
      "Mean Results for Neural Network with random subspacing: 0.8452\n",
      "Mean Results for Neural Network with random subspacing: 0.8452\n",
      "Mean Results for Neural Network with random subspacing: 0.8468\n"
     ]
    }
   ],
   "source": [
    "#Priting the results of the different classifiers without random subspacing and then each set of random subspacing results.\n",
    "\n",
    "#The first element of the knn_result/dt_results/nn_results is printed as all of the values in this list are the same.\n",
    "print(\"Mean Result for One-NN: {:.4f}\".format(knn_results[0]))\n",
    "print(\"\\n\")\n",
    "\n",
    "for i in range(len(rSS_knn_results)):\n",
    "  print(\"Mean Results for One-NN with random subspacing: {:.4f}\".format(rSS_knn_results[i]))\n",
    "\n",
    "print(\"\\n\")\n",
    "print(\"====================================================\")\n",
    "\n",
    "print(\"Mean Result for Decision Tree: {:.4f}\".format(dt_results[0]))\n",
    "print(\"\\n\")\n",
    "\n",
    "for i in range(len(rSS_dt_results)):\n",
    "  print(\"Mean Results for Decision Tree with random subspacing: {:.4f}\".format(rSS_dt_results[i]))\n",
    "\n",
    "\n",
    "print(\"\\n\")\n",
    "print(\"====================================================\")\n",
    "\n",
    "print(\"Mean Result for Neural Network: {:.4f}\".format(nn_results[0]))\n",
    "print(\"\\n\")\n",
    "\n",
    "for i in range(len(rSS_nn_results)):\n",
    "  print(\"Mean Results for Neural Network with random subspacing: {:.4f}\".format(rSS_nn_results[i]))"
   ]
  },
  {
   "cell_type": "code",
   "execution_count": 267,
   "id": "c1f54a8f",
   "metadata": {
    "scrolled": false
   },
   "outputs": [
    {
     "data": {
      "text/plain": [
       "<matplotlib.legend.Legend at 0x1d97abe3fd0>"
      ]
     },
     "execution_count": 267,
     "metadata": {},
     "output_type": "execute_result"
    },
    {
     "data": {
      "image/png": "[encoded data removed]",
      "text/plain": [
       "<Figure size 504x1080 with 3 Axes>"
      ]
     },
     "metadata": {
      "needs_background": "light"
     },
     "output_type": "display_data"
    }
   ],
   "source": [
    "#Plotting results of random subspacing\n",
    "fig,axs = plot.subplots(3, figsize = (7, 15))\n",
    "axs[0].plot(range(2,22,2), rSS_knn_results, label=\"KNN Accuracy\")\n",
    "axs[1].plot(range(2,22,2), rSS_dt_results, label=\"Decision Tree Accuracy\")\n",
    "axs[2].plot(range(2,22,2), rSS_nn_results, label=\"Neural Network Accuracy\")\n",
    "axs[0].legend()\n",
    "axs[1].legend()\n",
    "axs[2].legend()"
   ]
  },
  {
   "cell_type": "markdown",
   "id": "d11d9897",
   "metadata": {},
   "source": [
    "### Results for 1NN\n",
    "From the graph we can see that the accuracy increases in a logarithmic fashion. There are minimal accuracy dips and the graph plateaus around the 20 estimator count.\n",
    "\n",
    "Based on the graph, the optimal number of estimators for 1NN with random subspacing is: 20 (76.4% accuracy)\n",
    "\n",
    "### Results for Decision Tree\n",
    "When we reach 4 estimators there is a sharp dip in accuracy of almost 1%, but as the estimator count increases so does the accuracy. We can see the gragh begin to dip at higher estimator counts.\n",
    "\n",
    "Based on the graph, the optimal number of estimators for Decision Tree with random subspacing is: 18 (79.68% accuracy)\n",
    "\n",
    "### Results for Neural Network\n",
    "The Neural Network classifier shows and overall increase in accuracy with rising estimator number with notable dips at 10 and 16 estimators. However, at count 20, the classifier still shows a tendancy to increasing accuracy.\n",
    "\n",
    "Based on the graph, the optimal number of estimators for Neural Networks with random subspacing is: 20 (84.68% accuracy)"
   ]
  },
  {
   "cell_type": "code",
   "execution_count": 268,
   "id": "640d124f",
   "metadata": {},
   "outputs": [],
   "source": [
    "#Using the optimal values for the number of estimators, we will investigate the effect of changing the max_features for random\n",
    "#subspacing.\n",
    "\n",
    "#Below we create lists to store the results of all the iterarions for each classifier with and without random subspacing.\n",
    "knn_results = []\n",
    "rSS_knn_results = []\n",
    "\n",
    "dt_results = []\n",
    "rSS_dt_results = []\n",
    "\n",
    "nn_results = []\n",
    "rSS_nn_results = []\n",
    "\n",
    "for n in np.linspace(0.1,1,10):\n",
    "    #Creating random subspacing classifiers for OneNN, Decision Tree and Neural Network.\n",
    "    random_SS_kNN = BaggingClassifier(knn, \n",
    "                            n_estimators = 20,\n",
    "                            max_samples=1.0, \n",
    "                            max_features=n, random_state=1)\n",
    "\n",
    "    random_SS_tree = BaggingClassifier(dt, \n",
    "                            n_estimators = 18,\n",
    "                            max_samples=1.0, \n",
    "                            max_features=n, random_state=1)\n",
    "\n",
    "    random_SS_nn = BaggingClassifier(nn, \n",
    "                            n_estimators = 20,\n",
    "                            max_samples=1.0, \n",
    "                            max_features=n, random_state=1)\n",
    "    \n",
    "    #We save the mean results of the regular classifier and random subspacing classifier into the corresponding lists\n",
    "    scores_kNN = cross_val_score(knn, df_knn, income_category, cv=folds, verbose = 0, n_jobs = -1)\n",
    "    scores_kNN_rSS = cross_val_score(random_SS_kNN, df_knn, income_category, cv=folds, verbose = 0, n_jobs = -1)\n",
    "\n",
    "    knn_results.append(scores_kNN.mean())\n",
    "    rSS_knn_results.append(scores_kNN_rSS.mean())\n",
    "\n",
    "    scores_tree = cross_val_score(dt, df_dt, income_category, cv=folds, verbose = 0, n_jobs = -1)\n",
    "    scores_tree_rSS = cross_val_score(random_SS_tree, df_dt, income_category, cv=folds, verbose = 0, n_jobs = -1)\n",
    "\n",
    "    dt_results.append(scores_tree.mean())\n",
    "    rSS_dt_results.append(scores_tree_rSS.mean())\n",
    "\n",
    "    scores_nn = cross_val_score(nn, df, income_category, cv=folds, verbose = 0, n_jobs = -1)\n",
    "    scores_nn_rSS = cross_val_score(random_SS_nn, df, income_category, cv=folds, verbose = 0, n_jobs = -1)\n",
    "\n",
    "    nn_results.append(scores_nn.mean())\n",
    "    rSS_nn_results.append(scores_nn_rSS.mean())"
   ]
  },
  {
   "cell_type": "code",
   "execution_count": 269,
   "id": "32efc94a",
   "metadata": {
    "scrolled": false
   },
   "outputs": [
    {
     "name": "stdout",
     "output_type": "stream",
     "text": [
      "Mean Result for One-NN: 0.6764\n",
      "\n",
      "\n",
      "Mean Results for One-NN with random subspacing: 0.7640\n",
      "Mean Results for One-NN with random subspacing: 0.7640\n",
      "Mean Results for One-NN with random subspacing: 0.7640\n",
      "Mean Results for One-NN with random subspacing: 0.7640\n",
      "Mean Results for One-NN with random subspacing: 0.7640\n",
      "Mean Results for One-NN with random subspacing: 0.7640\n",
      "Mean Results for One-NN with random subspacing: 0.7640\n",
      "Mean Results for One-NN with random subspacing: 0.7640\n",
      "Mean Results for One-NN with random subspacing: 0.7640\n",
      "Mean Results for One-NN with random subspacing: 0.7562\n",
      "\n",
      "\n",
      "====================================================\n",
      "Mean Result for Decision Tree: 0.7912\n",
      "\n",
      "\n",
      "Mean Results for Decision Tree with random subspacing: 0.7682\n",
      "Mean Results for Decision Tree with random subspacing: 0.7682\n",
      "Mean Results for Decision Tree with random subspacing: 0.7682\n",
      "Mean Results for Decision Tree with random subspacing: 0.7682\n",
      "Mean Results for Decision Tree with random subspacing: 0.7682\n",
      "Mean Results for Decision Tree with random subspacing: 0.7682\n",
      "Mean Results for Decision Tree with random subspacing: 0.7968\n",
      "Mean Results for Decision Tree with random subspacing: 0.7968\n",
      "Mean Results for Decision Tree with random subspacing: 0.7968\n",
      "Mean Results for Decision Tree with random subspacing: 0.7952\n",
      "\n",
      "\n",
      "====================================================\n",
      "Mean Result for Neural Network: 0.8398\n",
      "\n",
      "\n",
      "Mean Results for Neural Network with random subspacing: 0.7714\n",
      "Mean Results for Neural Network with random subspacing: 0.7762\n",
      "Mean Results for Neural Network with random subspacing: 0.8002\n",
      "Mean Results for Neural Network with random subspacing: 0.8066\n",
      "Mean Results for Neural Network with random subspacing: 0.8352\n",
      "Mean Results for Neural Network with random subspacing: 0.8456\n",
      "Mean Results for Neural Network with random subspacing: 0.8438\n",
      "Mean Results for Neural Network with random subspacing: 0.8500\n",
      "Mean Results for Neural Network with random subspacing: 0.8436\n",
      "Mean Results for Neural Network with random subspacing: 0.8468\n"
     ]
    }
   ],
   "source": [
    "#Priting the results of the different classifiers without random sampling and then each random sampling result.\n",
    "\n",
    "#The first element of the knn_result/dt_results/nn_results is printed as all of the values in this list are the same.\n",
    "print(\"Mean Result for One-NN: {:.4f}\".format(knn_results[0]))\n",
    "print(\"\\n\")\n",
    "\n",
    "for i in range(len(rSS_knn_results)):\n",
    "  print(\"Mean Results for One-NN with random subspacing: {:.4f}\".format(rSS_knn_results[i]))\n",
    "\n",
    "print(\"\\n\")\n",
    "print(\"====================================================\")\n",
    "\n",
    "print(\"Mean Result for Decision Tree: {:.4f}\".format(dt_results[0]))\n",
    "print(\"\\n\")\n",
    "\n",
    "for i in range(len(rSS_dt_results)):\n",
    "  print(\"Mean Results for Decision Tree with random subspacing: {:.4f}\".format(rSS_dt_results[i]))\n",
    "\n",
    "\n",
    "print(\"\\n\")\n",
    "print(\"====================================================\")\n",
    "\n",
    "print(\"Mean Result for Neural Network: {:.4f}\".format(nn_results[0]))\n",
    "print(\"\\n\")\n",
    "\n",
    "for i in range(len(rSS_nn_results)):\n",
    "  print(\"Mean Results for Neural Network with random subspacing: {:.4f}\".format(rSS_nn_results[i]))"
   ]
  },
  {
   "cell_type": "code",
   "execution_count": 270,
   "id": "6b44e711",
   "metadata": {},
   "outputs": [
    {
     "data": {
      "text/plain": [
       "<matplotlib.legend.Legend at 0x1d97b870940>"
      ]
     },
     "execution_count": 270,
     "metadata": {},
     "output_type": "execute_result"
    },
    {
     "data": {
      "image/png": "[encoded data removed]",
      "text/plain": [
       "<Figure size 504x1080 with 3 Axes>"
      ]
     },
     "metadata": {
      "needs_background": "light"
     },
     "output_type": "display_data"
    }
   ],
   "source": [
    "#Plotting results of random subspacing and optimal estimator value\n",
    "fig,axs = plot.subplots(3, figsize = (7, 15))\n",
    "axs[0].plot(np.linspace(0.1,1,10), rSS_knn_results, label=\"1NN Accuracy\", color=\"green\")\n",
    "axs[1].plot(np.linspace(0.1,1,10), rSS_dt_results, label=\"Decision Tree Accuracy\", color=\"green\")\n",
    "axs[2].plot(np.linspace(0.1,1,10), rSS_nn_results, label=\"Neural Network Accuracy\", color=\"green\")\n",
    "axs[0].legend()\n",
    "axs[1].legend()\n",
    "axs[2].legend()"
   ]
  },
  {
   "cell_type": "markdown",
   "id": "ef3c69f1",
   "metadata": {},
   "source": [
    "### Results for 1NN with optimal estimator\n",
    "The accuracy remains at a stationary 76.4% for all values of max_features with the exception of 1.0 where the accuracy drops to 75.62%.\n",
    "\n",
    "Highest accuracy: 76.4%, max_features = 0.1 to 0.9 \n",
    "\n",
    "### Results for Decision Tree with optimal estimator\n",
    "The accuracy value stays the same (76.82%) for max_features values up to 0.6 after which it increases to 79.68% and later drops slightly to 79.52% for 1.0.\n",
    "\n",
    "Highest accuracy: 79.86%, max_features = 0.7\n",
    "\n",
    "### Results for Neural Network with optimal estimator\n",
    "Fot the Neural Network calssifier, the accuracy tends to increase with larger max_features values. It follows a roughly logarithmic pattern with a final value of 84.68%.\n",
    "\n",
    "Highest accuracy: 85%, max_features = 0.8"
   ]
  },
  {
   "cell_type": "markdown",
   "id": "e6547be0",
   "metadata": {},
   "source": [
    "# (e)\n",
    "Decision Trees and Neural Networks benefit the most from bagging techniques as the are more unstable classifiers. Meanwhile, random subspacing is fit for KNN as it promotes diversity in the ensemble which KNN benefits from.\n",
    "\n",
    "##### Based on the results:\n",
    "\n",
    "KNN is best fitted to random subspacing as the accuracy after optimal estimator count and sample count is 76.28% for bagging and 76.4% for random subspacing.\n",
    "\n",
    "Decision Trees are fitted best for bagging as the accuracy after optimal estimator count and sample count is 79.88% for bagging and 79.86% for random subspacing.\n",
    "\n",
    "Neural Networks are fitted best for bagging as the accuracy after optimal estimator count and sample count is 84.64% for bagging and 85% for random subspacing.\n",
    "\n",
    "The result for the Neural Network aren't in line with what I expected. The possible cause of this could be data imbalance or overfitting or the data.\n",
    "\n",
    "The performance of ensembles could be enhanced by testing higher estimator counts, running more folds on the data and performing further feature selection to acquire more accurate models."
   ]
  },
  {
   "cell_type": "markdown",
   "id": "f79cfb0b",
   "metadata": {},
   "source": [
    "# (f)"
   ]
  },
  {
   "cell_type": "markdown",
   "id": "e470e8ea",
   "metadata": {},
   "source": [
    "# K Nearest Neighbours"
   ]
  },
  {
   "cell_type": "code",
   "execution_count": 271,
   "id": "c3c40156",
   "metadata": {},
   "outputs": [
    {
     "data": {
      "image/png": "[encoded data removed]",
      "text/plain": [
       "<Figure size 432x288 with 1 Axes>"
      ]
     },
     "metadata": {
      "needs_background": "light"
     },
     "output_type": "display_data"
    },
    {
     "name": "stdout",
     "output_type": "stream",
     "text": [
      "('age', 'workclass', 'education-level', 'marital-status', 'occupation', 'relationship', 'race', 'sex', 'capital-gain', 'capital-loss', 'hours-per-week', 'native-country')\n"
     ]
    }
   ],
   "source": [
    "#Splitting data into test and train on the original data frame.\n",
    "X_train, X_test, Y_train, Y_test = train_test_split(df, income_category, random_state=1)\n",
    "\n",
    "#Fitting the KNN model with k=3 to the training data\n",
    "knn = KNeighborsClassifier(n_neighbors=3)\n",
    "knn.fit(X_train, Y_train)\n",
    "\n",
    "#Applying the Sequential Forward Selection to the 1NN features.\n",
    "sfs_forward = SFS(knn, \n",
    "                  k_features=12, \n",
    "                  forward=True, \n",
    "                  floating=False,\n",
    "                  scoring='accuracy',\n",
    "                  cv=5)\n",
    "\n",
    "sfs_forward = sfs_forward.fit(df, income_category, custom_feature_names=df.columns)\n",
    "\n",
    "#Plotting the SFS to show the point at which the accuracy starts to decrease.\n",
    "fig1 = plot_sfs(sfs_forward.get_metric_dict(), ylabel='Accuracy')\n",
    "\n",
    "plot.ylim([0.75, 1])\n",
    "plot.title('Sequential Forward Selection')\n",
    "plot.grid()\n",
    "plot.show()\n",
    "print(sfs_forward.k_feature_names_)"
   ]
  },
  {
   "cell_type": "code",
   "execution_count": 272,
   "id": "691680f4",
   "metadata": {},
   "outputs": [
    {
     "data": {
      "text/plain": [
       "KNeighborsClassifier(n_neighbors=3)"
      ]
     },
     "execution_count": 272,
     "metadata": {},
     "output_type": "execute_result"
    }
   ],
   "source": [
    "#As we can see the accuracy has improved compared to the previous 1NN. We will remove the values that decrease accuracy\n",
    "#and train again \n",
    "\n",
    "df_knn = df.drop(columns = ['relationship', 'race', 'sex', 'capital-gain', 'capital-loss', 'hours-per-week', 'native-country'])\n",
    "\n",
    "X_train, X_test, Y_train, Y_test = train_test_split(df_knn, income_category, random_state=1)\n",
    "\n",
    "#Fitting the KNN model to the training data now excluding the columns that decrease accuracy\n",
    "knn = KNeighborsClassifier(n_neighbors=3)\n",
    "knn.fit(X_train, Y_train)"
   ]
  },
  {
   "cell_type": "code",
   "execution_count": 273,
   "id": "6e38f279",
   "metadata": {},
   "outputs": [
    {
     "name": "stdout",
     "output_type": "stream",
     "text": [
      "0.8858666666666667\n"
     ]
    }
   ],
   "source": [
    "# Predict on the training dataset \n",
    "y_predicted = knn.predict(X_train)\n",
    "knn_acc = accuracy_score(Y_train, y_predicted)\n",
    "print(knn_acc)"
   ]
  },
  {
   "cell_type": "code",
   "execution_count": 274,
   "id": "ac9dd0df",
   "metadata": {},
   "outputs": [],
   "source": [
    "#We will cross validate to ensure that our model isn't just getting lucky/unlucky with its training data\n",
    "#and that it actually can perform well for any variety of training data.\n",
    "#We will shuffle 10 times before creating the folds.\n",
    "cross_val = KFold(n_splits=10, shuffle=False, random_state=None)"
   ]
  },
  {
   "cell_type": "code",
   "execution_count": 275,
   "id": "2f7a31cb",
   "metadata": {
    "scrolled": true
   },
   "outputs": [
    {
     "name": "stdout",
     "output_type": "stream",
     "text": [
      "Accuracy before cross validation: 0.8858666666666667\n",
      "Accuracy after cross validation: 0.714\n"
     ]
    }
   ],
   "source": [
    "#We will now rerun the tests with the folds included to produce the most fair outcome and the real accuracy of the model using\n",
    "#this dataset.\n",
    "#The result is closer to the true accuracy of the model.\n",
    "results = cross_validate(knn, df_knn, income_category, cv=cross_val, scoring='balanced_accuracy')\n",
    "test_score = results[\"test_score\"]\n",
    "print(\"Accuracy before cross validation: \" f\"{knn_acc}\")\n",
    "print(\"Accuracy after cross validation: \"f\"{test_score.mean():.3f}\")\n",
    "#As we can see the accuracy is better than a random classifier."
   ]
  },
  {
   "cell_type": "markdown",
   "id": "3e913b91",
   "metadata": {},
   "source": [
    "# Decision Tree"
   ]
  },
  {
   "cell_type": "code",
   "execution_count": 276,
   "id": "5ff50e8f",
   "metadata": {},
   "outputs": [
    {
     "data": {
      "image/png": "[encoded data removed]",
      "text/plain": [
       "<Figure size 432x288 with 1 Axes>"
      ]
     },
     "metadata": {
      "needs_background": "light"
     },
     "output_type": "display_data"
    },
    {
     "name": "stdout",
     "output_type": "stream",
     "text": [
      "('age', 'workclass', 'education-level', 'marital-status', 'occupation', 'relationship', 'race', 'sex', 'capital-gain', 'capital-loss', 'hours-per-week', 'native-country')\n"
     ]
    }
   ],
   "source": [
    "#Splitting data into test and train on the original data frame.\n",
    "X_train, X_test, Y_train, Y_test = train_test_split(df, income_category, random_state=1)\n",
    "\n",
    "#Fitting the Decision Tree model to the training data with a max depth of 5\n",
    "dt = DecisionTreeClassifier(criterion='entropy', max_depth=5)\n",
    "dt.fit(X_train, Y_train)\n",
    "\n",
    "#Applying the Sequential Forward Selection to the Decision Tree features.\n",
    "sfs_forward = SFS(dt, \n",
    "                  k_features=12, \n",
    "                  forward=True, \n",
    "                  floating=False,\n",
    "                  scoring='accuracy',\n",
    "                  cv=5)\n",
    "\n",
    "sfs_forward = sfs_forward.fit(df, income_category, custom_feature_names=df.columns)\n",
    "\n",
    "#Plotting the SFS to show the point at which the accuracy starts to decrease.\n",
    "fig1 = plot_sfs(sfs_forward.get_metric_dict(), ylabel='Accuracy')\n",
    "\n",
    "plot.ylim([0.75, 1])\n",
    "plot.title('Sequential Forward Selection')\n",
    "plot.grid()\n",
    "plot.show()\n",
    "print(sfs_forward.k_feature_names_)"
   ]
  },
  {
   "cell_type": "code",
   "execution_count": 277,
   "id": "dca7f093",
   "metadata": {},
   "outputs": [
    {
     "data": {
      "text/plain": [
       "DecisionTreeClassifier(criterion='entropy', max_depth=5)"
      ]
     },
     "execution_count": 277,
     "metadata": {},
     "output_type": "execute_result"
    }
   ],
   "source": [
    "#Based on the above graph, we can see that after 6 features, the accuracy remains the same so we can just as well drop\n",
    "#the other features\n",
    "df_dt = df.drop(columns = [ 'race', 'sex', 'capital-gain', 'capital-loss', 'hours-per-week', 'native-country'])\n",
    "\n",
    "X_train, X_test, Y_train, Y_test = train_test_split(df_dt, income_category, random_state=1)\n",
    "\n",
    "#Fitting the Decision Tree model to the training data now excluding the columns that decrease accuracy\n",
    "dt = DecisionTreeClassifier(criterion='entropy', max_depth=5)\n",
    "dt.fit(X_train, Y_train)"
   ]
  },
  {
   "cell_type": "code",
   "execution_count": 278,
   "id": "bf7ff7dc",
   "metadata": {},
   "outputs": [
    {
     "name": "stdout",
     "output_type": "stream",
     "text": [
      "0.8328\n"
     ]
    }
   ],
   "source": [
    "# Predict on the training dataset \n",
    "y_predicted = dt.predict(X_train)\n",
    "dt_acc = accuracy_score(Y_train, y_predicted)\n",
    "print(dt_acc)"
   ]
  },
  {
   "cell_type": "code",
   "execution_count": 279,
   "id": "0836f102",
   "metadata": {},
   "outputs": [],
   "source": [
    "#We will cross validate to ensure that our model isn't just getting lucky/unlucky with its training data\n",
    "#and that it actually can perform well for any variety of training data.\n",
    "\n",
    "#We can use the cross_val variable defined before"
   ]
  },
  {
   "cell_type": "code",
   "execution_count": 280,
   "id": "df702065",
   "metadata": {},
   "outputs": [
    {
     "name": "stdout",
     "output_type": "stream",
     "text": [
      "Accuracy before cross validation: 0.8328\n",
      "Accuracy after cross validation: 0.708\n"
     ]
    }
   ],
   "source": [
    "#We will now rerun the tests with the folds included to produce the most fair outcome and the real accuracy of the model using\n",
    "#this dataset.\n",
    "#The result is closer to the true accuracy of the model.\n",
    "results = cross_validate(dt, df_dt, income_category, cv=cross_val, scoring='balanced_accuracy')\n",
    "test_score = results[\"test_score\"]\n",
    "print(\"Accuracy before cross validation: \" f\"{dt_acc}\")\n",
    "print(\"Accuracy after cross validation: \"f\"{test_score.mean():.3f}\")\n",
    "#As we can see the accuracy is better than a random classifier."
   ]
  },
  {
   "cell_type": "markdown",
   "id": "5f326450",
   "metadata": {},
   "source": [
    "# Neural Network"
   ]
  },
  {
   "cell_type": "code",
   "execution_count": 281,
   "id": "0aef2b5d",
   "metadata": {},
   "outputs": [],
   "source": [
    "#Splitting data into test and train using original data frame\n",
    "X_train, X_test, Y_train, Y_test = train_test_split(df, income_category, random_state=1)"
   ]
  },
  {
   "cell_type": "code",
   "execution_count": 282,
   "id": "9914d2ca",
   "metadata": {},
   "outputs": [
    {
     "name": "stderr",
     "output_type": "stream",
     "text": [
      "C:\\Users\\Luki\\anaconda3\\lib\\site-packages\\sklearn\\neural_network\\_multilayer_perceptron.py:500: ConvergenceWarning: lbfgs failed to converge (status=1):\n",
      "STOP: TOTAL NO. of ITERATIONS REACHED LIMIT.\n",
      "\n",
      "Increase the number of iterations (max_iter) or scale the data as shown in:\n",
      "    https://scikit-learn.org/stable/modules/preprocessing.html\n",
      "  self.n_iter_ = _check_optimize_result(\"lbfgs\", opt_res, self.max_iter)\n"
     ]
    },
    {
     "data": {
      "text/plain": [
       "MLPClassifier(alpha=1e-05, hidden_layer_sizes=(10, 10), random_state=1,\n",
       "              solver='lbfgs')"
      ]
     },
     "execution_count": 282,
     "metadata": {},
     "output_type": "execute_result"
    }
   ],
   "source": [
    "#Fitting the Neural Network model with 20 hidden layers to the training data\n",
    "nn = MLPClassifier(solver='lbfgs', alpha=1e-5, hidden_layer_sizes=(10, 10), random_state=1)\n",
    "nn.fit(X_train, Y_train)"
   ]
  },
  {
   "cell_type": "code",
   "execution_count": 283,
   "id": "949c9546",
   "metadata": {},
   "outputs": [
    {
     "name": "stdout",
     "output_type": "stream",
     "text": [
      "0.8562666666666666\n"
     ]
    }
   ],
   "source": [
    "# Predict on the training dataset \n",
    "y_predicted = nn.predict(X_train)\n",
    "nn_acc = accuracy_score(Y_train, y_predicted)\n",
    "print(nn_acc)"
   ]
  },
  {
   "cell_type": "code",
   "execution_count": 284,
   "id": "7b4f14f4",
   "metadata": {},
   "outputs": [],
   "source": [
    "#We will cross validate to ensure that our model isn't just getting lucky/unlucky with its training data\n",
    "#and that it actually can perform well for any variety of training data.\n",
    "\n",
    "#We can use the cross_val variable defined before"
   ]
  },
  {
   "cell_type": "code",
   "execution_count": 285,
   "id": "2e5581f9",
   "metadata": {},
   "outputs": [
    {
     "name": "stdout",
     "output_type": "stream",
     "text": [
      "Accuracy before cross validation: 0.8562666666666666\n",
      "Accuracy after cross validation: 0.737\n"
     ]
    }
   ],
   "source": [
    "#We will now rerun the tests with the folds included to produce the most fair outcome and the real accuracy of the model using\n",
    "#this dataset.\n",
    "#The result is closer to the true accuracy of the model.\n",
    "results = cross_validate(dt, df, income_category, cv=cross_val, scoring='balanced_accuracy')\n",
    "test_score = results[\"test_score\"]\n",
    "print(\"Accuracy before cross validation: \" f\"{nn_acc}\")\n",
    "print(\"Accuracy after cross validation: \"f\"{test_score.mean():.3f}\")\n",
    "#As we can see the accuracy is better than a random classifier."
   ]
  },
  {
   "cell_type": "markdown",
   "id": "d1fea1ce",
   "metadata": {},
   "source": [
    "### We can now run the ensemble classifiers on the newly defined classifiers. We wil start with bagging."
   ]
  },
  {
   "cell_type": "markdown",
   "id": "127b2ca2",
   "metadata": {},
   "source": [
    "## Bagging"
   ]
  },
  {
   "cell_type": "code",
   "execution_count": 286,
   "id": "f3e6613d",
   "metadata": {},
   "outputs": [],
   "source": [
    "folds = 7\n",
    "#We will iterate through the number of estimators, increasing them by 2 each time for a total of 20 at the final loop.\n",
    "\n",
    "#Below we create lists to store the results of all the iterarions for each classifier with bagging.\n",
    "bagging_knn_results_new = []\n",
    "\n",
    "bagging_dt_results_new = []\n",
    "\n",
    "bagging_nn_results_new = []\n",
    "\n",
    "for n in range(2,22,2):\n",
    "    #Creating bagging classifiers for KNN, Decision Tree and Neural Network.\n",
    "    kNN_bag = BaggingClassifier(knn, \n",
    "                            n_estimators = n,\n",
    "                            max_samples = 1.0, \n",
    "                            bootstrap = True, random_state=1)\n",
    "    tree_bag = BaggingClassifier(dt, \n",
    "                            n_estimators = n,\n",
    "                            max_samples = 1.0,  \n",
    "                            bootstrap = True, random_state=1)\n",
    "    nn_bag = BaggingClassifier(nn,\n",
    "                           n_estimators = n,\n",
    "                           max_samples = 1.0,\n",
    "                           bootstrap = True, random_state=1)\n",
    "    \n",
    "    #We save the mean results of the bagged classifier into the corresponding lists\n",
    "\n",
    "    scores_kNN_bag = cross_val_score(kNN_bag, df_knn, income_category, cv=folds, verbose = 0, n_jobs = -1)\n",
    "    \n",
    "    bagging_knn_results_new.append(scores_kNN_bag.mean())\n",
    "\n",
    "    scores_tree_bag = cross_val_score(tree_bag, df_dt, income_category, cv=folds, verbose = 0, n_jobs = -1)\n",
    "\n",
    "    bagging_dt_results_new.append(scores_tree_bag.mean())\n",
    "\n",
    "    scores_nn_bag = cross_val_score(nn_bag, df, income_category, cv=folds, verbose = 0, n_jobs = -1)\n",
    "\n",
    "    bagging_nn_results_new.append(scores_nn_bag.mean())"
   ]
  },
  {
   "cell_type": "code",
   "execution_count": 287,
   "id": "7f4ad1cc",
   "metadata": {},
   "outputs": [
    {
     "data": {
      "text/plain": [
       "<matplotlib.legend.Legend at 0x1d97b4d4b50>"
      ]
     },
     "execution_count": 287,
     "metadata": {},
     "output_type": "execute_result"
    },
    {
     "data": {
      "image/png": "[encoded data removed]",
      "text/plain": [
       "<Figure size 504x1080 with 3 Axes>"
      ]
     },
     "metadata": {
      "needs_background": "light"
     },
     "output_type": "display_data"
    }
   ],
   "source": [
    "#Plotting results of bagging with adjusted classifiers (blue) vs original classifiers (orange).\n",
    "fig,axs = plot.subplots(3, figsize = (7, 15)) \n",
    "axs[0].plot(range(2,22,2), bagging_knn_results, bagging_knn_results_new, label=\"KNN Accuracy\")\n",
    "axs[1].plot(range(2,22,2), bagging_dt_results, bagging_dt_results_new, label=\"Decision Tree Accuracy\")\n",
    "axs[2].plot(range(2,22,2), bagging_nn_results, bagging_nn_results_new, label=\"Neural Network Accuracy\")\n",
    "axs[0].legend()\n",
    "axs[1].legend()\n",
    "axs[2].legend()"
   ]
  },
  {
   "cell_type": "markdown",
   "id": "125fb744",
   "metadata": {},
   "source": [
    "As we can see from the above graphs, the accuracy of each classifier increases significantly after adjustment. \n",
    "\n",
    "KNN with K=3 increased by roughly 5%\n",
    "\n",
    "Decision Tree with depth = 5 increased by 4%\n",
    "\n",
    "Neural Network with 20 hidden layers increased by 2.5%."
   ]
  },
  {
   "cell_type": "markdown",
   "id": "6fd84a9e",
   "metadata": {},
   "source": [
    "### We can now repeat the steps for random subspacing"
   ]
  },
  {
   "cell_type": "markdown",
   "id": "97a64d44",
   "metadata": {},
   "source": [
    "## Random Subspacing"
   ]
  },
  {
   "cell_type": "code",
   "execution_count": 288,
   "id": "c01cafbe",
   "metadata": {},
   "outputs": [],
   "source": [
    "folds = 7\n",
    "#We will iterate through the number of estimators, increasing them by 2 each time for a total of 20 at the final loop.\n",
    "\n",
    "#Below we create lists to store the results of all the iterarions for each classifier with and without bagging.\n",
    "rSS_knn_results_new = []\n",
    "\n",
    "rSS_dt_results_new = []\n",
    "\n",
    "rSS_nn_results_new = []\n",
    "\n",
    "for n in range(2,22,2):\n",
    "    #Creating random subspacing classifiers for OneNN, Decision Tree and Neural Network.\n",
    "    random_SS_kNN = BaggingClassifier(knn, \n",
    "                            n_estimators = n,\n",
    "                            max_samples=1.0, \n",
    "                            max_features=0.7, random_state=1)\n",
    "\n",
    "    random_SS_tree = BaggingClassifier(dt, \n",
    "                            n_estimators = n,\n",
    "                            max_samples=1.0, \n",
    "                            max_features=0.7, random_state=1)\n",
    "\n",
    "    random_SS_nn = BaggingClassifier(nn, \n",
    "                            n_estimators = n,\n",
    "                            max_samples=1.0, \n",
    "                            max_features=1.0, random_state=1)\n",
    "    \n",
    "    #We save the mean results of the random subspacing classifier into the corresponding lists\n",
    "    scores_kNN_rSS = cross_val_score(random_SS_kNN, df_knn, income_category, cv=folds, verbose = 0, n_jobs = -1)\n",
    "\n",
    "    rSS_knn_results_new.append(scores_kNN_rSS.mean())\n",
    "    \n",
    "    scores_tree_rSS = cross_val_score(random_SS_tree, df_dt, income_category, cv=folds, verbose = 0, n_jobs = -1)\n",
    "\n",
    "    rSS_dt_results_new.append(scores_tree_rSS.mean())\n",
    "\n",
    "    scores_nn_rSS = cross_val_score(random_SS_nn, df, income_category, cv=folds, verbose = 0, n_jobs = -1)\n",
    "\n",
    "    rSS_nn_results_new.append(scores_nn_rSS.mean())"
   ]
  },
  {
   "cell_type": "code",
   "execution_count": 291,
   "id": "aec37ad8",
   "metadata": {
    "scrolled": false
   },
   "outputs": [
    {
     "data": {
      "text/plain": [
       "<matplotlib.legend.Legend at 0x1d97d3b9940>"
      ]
     },
     "execution_count": 291,
     "metadata": {},
     "output_type": "execute_result"
    },
    {
     "data": {
      "image/png": "[encoded data removed]",
      "text/plain": [
       "<Figure size 504x1080 with 3 Axes>"
      ]
     },
     "metadata": {
      "needs_background": "light"
     },
     "output_type": "display_data"
    }
   ],
   "source": [
    "#Plotting results of random subspacing with original classifiers (blue) vs adjusted classifiers (orange)\n",
    "fig,axs = plot.subplots(3, figsize = (7, 15))\n",
    "axs[0].plot(range(2,22,2), rSS_knn_results, rSS_knn_results_new, label=\"KNN Accuracy\")\n",
    "axs[1].plot(range(2,22,2), rSS_dt_results, rSS_dt_results_new, label=\"Decision Tree Accuracy\")\n",
    "axs[2].plot(range(2,22,2), rSS_nn_results, rSS_nn_results_new, label=\"Neural Network Accuracy\")\n",
    "axs[0].legend()\n",
    "axs[1].legend()\n",
    "axs[2].legend()"
   ]
  },
  {
   "cell_type": "markdown",
   "id": "f8d130bc",
   "metadata": {},
   "source": [
    "As we can see from the above graphs, the accuracy of each classifier increases significantly after adjustment. \n",
    "\n",
    "KNN with K=3 increased by roughly 5%.\n",
    "\n",
    "Decision Tree with depth=5 increased by 6%\n",
    "\n",
    "Neural Network with 20 hidden layers increased between 7% for lower estimator values and 1% for higher values."
   ]
  },
  {
   "cell_type": "markdown",
   "id": "579db5ab",
   "metadata": {},
   "source": [
    "# Question 2"
   ]
  },
  {
   "cell_type": "markdown",
   "id": "752dd44c",
   "metadata": {},
   "source": [
    "### (a)"
   ]
  },
  {
   "cell_type": "markdown",
   "id": "c9ae5063",
   "metadata": {},
   "source": [
    "The probability of Emma having Covid-19 is 100%. A test with 1.00 specificity and a positive outcome means that the test is guaranteed to be correct."
   ]
  },
  {
   "cell_type": "markdown",
   "id": "56bb10a4",
   "metadata": {},
   "source": [
    "### (b)"
   ]
  },
  {
   "cell_type": "markdown",
   "id": "4753b81c",
   "metadata": {},
   "source": [
    "### K Nearest Neighbours\n",
    "#### (i)\n",
    "Explaining the reasoning behing KNN is relatively simple especially with the use of a graph or visual plot. The simplest explanation is to say that the classifier chooses a certain number (K) points closest to it and bases the outcome on them.\n",
    "\n",
    "#### (ii)\n",
    "For KNN, removing/ignoring the nearest points will allow us to see a change in the prediciton. Since the number of samples is known it is easy to deduce how many closest points are being used to form the prediction. They can also be moved away from the point to change the outcome.\n",
    "\n",
    "#### (iii)\n",
    "You can find out the weight by dividing the inverse distance between the points by the sum of the total distances."
   ]
  },
  {
   "cell_type": "markdown",
   "id": "e101576f",
   "metadata": {},
   "source": [
    "### Decision Tree\n",
    "#### (i)\n",
    "Explaining the reasoning behind Decision Trees is also very simple especially when using a graphical representation. The decision is reached by following down the branches of the tree based on the feature results until you reach the bottom at which point the outcome is specified. \n",
    "\n",
    "#### (ii)\n",
    "Changing the features to be more discriminant will change the prediction. However, this can take a lot of effort and in some cases cannot be done. Picking different features to split on will also produce a different result.\n",
    "\n",
    "#### (iii)\n",
    "The weight in decision trees can be found out by checking the information gained from each split and assigning weights accordingly. "
   ]
  },
  {
   "cell_type": "markdown",
   "id": "2cfce959",
   "metadata": {},
   "source": [
    "### SVM\n",
    "#### (i)\n",
    "Explanation of SVM is a lot more complex given the extensive mathematical background to the classifier. SVM also consists of different types like polynomial and kernel which require many visual demonstrations and mathematical justification.\n",
    "\n",
    "#### (ii)\n",
    "In order to cause a significant change in the outcome almost all of the training examples have to be changed in order to create a scenario where a different type of SVM needs to be used. For example, shifting around many data points to change the SVM type from linear to polynomial. \n",
    "\n",
    "#### (iii)\n",
    "The weight in an SVM can only be determined if the SVM is of a linear type. The hyperplane that divides the points is represented by a series of vectors that are orthogonal to the hyperplane which give the corresponding weights."
   ]
  },
  {
   "cell_type": "markdown",
   "id": "437521a6",
   "metadata": {},
   "source": [
    "### Random Forest\n",
    "#### (i)\n",
    "Random Forest classification contains some matahematical background like bagging but the concept behind it is rather simple to explain much like with decision trees. The overall system is a bit more complex but with a competent explanation of decision trees it becomes easy to understand.\n",
    "\n",
    "#### (ii)\n",
    "Changing the result of the Random forest is relatively simple as you can run the bagging algorithm on a larger sample or just run several iterations to obtain a different result.\n",
    "\n",
    "#### (iii)\n",
    "Weights can be found by giving specific class weights or random weights to attirbutes when constructing each decision tree in the forest."
   ]
  },
  {
   "cell_type": "markdown",
   "id": "3152ace5",
   "metadata": {},
   "source": [
    "### Deep Neural Network\n",
    "#### (i)\n",
    "Explaining Deep Neural Networks is rather complex. Concepts like neurons, synapses, biases, perceptrons and weights need to be explained in order to properly comprehend the overall implementation. Each of these also contain extensive mathematical backgorunds.\n",
    "\n",
    "#### (ii)\n",
    "Changing training examples to alter the prediction is tricky as the Neural Network trains on a closed network with many variables like biases and weights. The best way to change the result is by completely altering the dataset.\n",
    "\n",
    "#### (iii)\n",
    "The wights of a DNN can be found by checking the paths leading to the hidden layers from the input layers. "
   ]
  },
  {
   "cell_type": "markdown",
   "id": "67fbb58c",
   "metadata": {},
   "source": [
    "### (c)\n",
    "Divisive clustering algorithms are more complex when compared to agglomerative. Divisive clustering requires the data to be split into separate singleton sets at the end of execution. This requires a flat clustering method to achieve this. \n",
    "\n",
    "Divisive clustering is less computationally intensive, however. Agglomerative clustering is in the worst case scenario an O($N^3$) algorithm. This is because we need to scan a NxN matrix for the lowest distance on each iteration. With some optimization it can be brought down to O($N^2$) time. Meanwhile, divisive clustering, if utilizling a flat algorithm like K-Means and set number of top layers can have be a linear time algorithm. \n",
    "\n",
    "Divisive clustering is more accurate. Agglomerative clustering makes decisions based only on local patterns and neighbour points without taking the global data distribution into account.\n",
    "\n",
    "#### Single Linkage clustering\n",
    "A disadvantage of this metric is that it produces clusters where the difference between the closest and furthest pairs is usually considerably large. This can lead to difficulties in defining classes that effectively subdivide the data as it causes \"chaining\" of data. This leads to long and thin clusters.\n",
    "\n",
    "#### Complete Linkage clustering\n",
    "Complete linkage clustering avoids the problems encountered by single linkage clustering. It tends to find clusters that are more compact and that have approximately equal diameters.\n",
    "\n",
    "#### Average Linkage clustering\n",
    "A disadvantage of average linkage clustering is that it produces a constant rate of mutations on each lineage of the tree. This is due to the fact that it assumes a constant evolutionary speed."
   ]
  },
  {
   "cell_type": "markdown",
   "id": "88d12685",
   "metadata": {},
   "source": [
    " ### (d)\n",
    "Stochastic gradient descent is preferred for larger data sets as it converges fasted when compared to gradient descent. This is because it performs updates on a more frequent basis. "
   ]
  },
  {
   "cell_type": "markdown",
   "id": "78da3aa5",
   "metadata": {},
   "source": [
    "### (e)\n",
    "The reason that K-Means clustering is widely used is as follows. First of all, it is easy to implement compared to other clustering algorithms and scales well for large data. The algorithm also guarantees convergence. It is also good at generalizing to different shaped data like elliptical clusters."
   ]
  },
  {
   "cell_type": "markdown",
   "id": "46f1e83e",
   "metadata": {},
   "source": [
    " ### (f)\n",
    "When using random cluster centre initialization the 3 centres are likely to be chosen inside of the first much larger cluster. If enough reassignments are run, there should be no major impact on the final output. "
   ]
  }
 ],
 "metadata": {
  "kernelspec": {
   "display_name": "Python 3",
   "language": "python",
   "name": "python3"
  },
  "language_info": {
   "codemirror_mode": {
    "name": "ipython",
    "version": 3
   },
   "file_extension": ".py",
   "mimetype": "text/x-python",
   "name": "python",
   "nbconvert_exporter": "python",
   "pygments_lexer": "ipython3",
   "version": "3.8.8"
  }
 },
 "nbformat": 4,
 "nbformat_minor": 5
}
